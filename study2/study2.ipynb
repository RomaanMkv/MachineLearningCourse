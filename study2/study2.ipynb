{
 "cells": [
  {
   "cell_type": "markdown",
   "id": "ad909418-3384-444f-a7b6-f85a80eefa27",
   "metadata": {},
   "source": [
    "# Assignment 2\n",
    "\n",
    "This assignment serves as a comprehensive evaluation of your machine learning skills, encompassing not only the technical aspects of model development but also your ability to analyze, interpret, and present data insights effectively. As such, it's essential to ensure that your submission is complete, functional, and devoid of any obvious gaps, as if you were delivering this project to a client.\n",
    "\n",
    "To achieve this, leverage the full capabilities of Markdown and the interactive visualization tools available in Jupyter notebooks to craft a well-structured and visually appealing report of your findings. Your report should clearly communicate the insights you've gained from the exploratory data analysis, the rationale behind your data preprocessing and feature engineering decisions, and a thorough analysis of feature importance. High-quality visualizations and well-organized documentation will not only support your analysis but also make your results more accessible and understandable to your audience.\n",
    "\n",
    "Remember, the ability to present complex results in an intuitive and engaging manner is a crucial skill, almost as important as the technical proficiency in model building and data analysis. Treat this assignment as an opportunity to showcase your skills in both areas.\n",
    "\n",
    "## Instructions\n",
    "- Your submission should be a `.ipynb` file with your name,\n",
    "  like `FirstnameLastname.ipynb`. It should include the answers to the questions in markdown cells, your data analysis and results.\n",
    "- You are expected to follow the best practices for code writing and model\n",
    "training. Poor coding style will be penalized.\n",
    "- You are allowed to discuss ideas with your peers, but no sharing of code.\n",
    "Plagiarism in the code will result in failing. If you use code from the\n",
    "internet, cite it by adding the source of the code as a comment in the first line of the code cell. [Academic misconduct policy](https://wiki.innopolis.university/display/DOE/Academic+misconduct+policy)\n",
    "- In real life clients can give unclear goals or requirements. So, if the instructions seem vague, use common sense to make reasonable assumptions and decisions.\n",
    "\n",
    "## Self-Reliance and Exploration\n",
    "In this task, you're encouraged to rely on your resourcefulness and creativity. Dive into available resources, experiment with various solutions, and learn from every outcome. While our team is here to clarify task details and offer conceptual guidance, we encourage you to first seek answers independently. This approach is vital for developing your problem-solving skills in machine learning.\n",
    "\n"
   ]
  },
  {
   "cell_type": "markdown",
   "id": "f38d3afb-58f8-4335-8fac-074db8adeaa7",
   "metadata": {},
   "source": [
    "# Task 2: Image Classification with CNNs (50%)\n",
    "\n",
    "In this task, you'll dive into the world of Convolutional Neural Networks (CNNs) by working with the CIFAR-10 dataset, a staple in image classification challenges. Your goal is to build and evaluate two different CNN models to classify images into one of the ten categories accurately.\n",
    "\n",
    "The dataset is availabel in pytorch and keras.\n",
    "\n",
    "## Part 1: Custom CNN Model (20%)\n",
    "\n",
    "- Design and train a CNN model from scratch tailored for the CIFAR-10 dataset.\n",
    "- Focus on the architecture that you believe will perform best for this specific task.\n",
    "- Integrate various techniques such as batch normalization, dropout, learning rate schedulers, and early stopping to improve model training. Experiment with these methods and finetune them to see how they affect training stability, convergence speed, and overall performance.\n",
    "\n",
    "## Part 2: Transfer Learning Model (20%)\n",
    "\n",
    "- Implement a transfer learning approach using a pre-trained model of your choice.\n",
    "- Fine-tune the model on the CIFAR-10 dataset to achieve the best possible performance.\n",
    "\n",
    "## Evaluation (10%)\n",
    "\n",
    "Ensure that both models are robust and generalized well to unseen data.\n",
    "\n",
    "After training both models, you will evaluate them on a provided test dataset.\n",
    "\n",
    "Compare your models based on:\n",
    "- **AUC-ROC**: How well does each model discriminate between classes?\n",
    "- **Model Size**: Consider the trade-offs in model complexity.\n",
    "- **Inference Speed**: Evaluate how quickly your model can predict classes for new images.\n",
    "\n",
    "Reflect on the performance, size, and inference speed of both models. What insights can you draw from these comparisons?\n",
    "\n",
    "### Learning Objectives\n",
    "\n",
    "- Understand and apply CNNs for image classification.\n",
    "- Explore the impact of model architecture on performance and efficiency.\n",
    "- Learn the process and benefits of transfer learning in deep learning.\n",
    "\n",
    "Remember, the key to this task is not just about achieving the highest accuracy but also understanding the strengths and limitations of different approaches in machine learning model development."
   ]
  },
  {
   "cell_type": "markdown",
   "source": [
    "### Importing libraries"
   ],
   "metadata": {
    "collapsed": false
   },
   "id": "c50287e5d4f03f50"
  },
  {
   "cell_type": "code",
   "outputs": [],
   "source": [
    "import torch\n",
    "from torch.utils import data\n",
    "from torch.utils.data import Dataset, DataLoader\n",
    "from torch.optim import SGD, lr_scheduler\n",
    "from torchvision import datasets\n",
    "import torchvision.transforms as transforms\n",
    "from torchvision import models\n",
    "import operator\n",
    "from tqdm import tqdm\n",
    "import copy\n",
    "from copy import deepcopy\n",
    "import numpy as np\n",
    "from sklearn.metrics import roc_auc_score\n",
    "from time import time\n",
    "import matplotlib.pyplot as plt\n",
    "from sklearn.metrics import accuracy_score"
   ],
   "metadata": {
    "collapsed": false,
    "ExecuteTime": {
     "end_time": "2024-04-24T16:43:51.072426600Z",
     "start_time": "2024-04-24T16:43:44.749242700Z"
    }
   },
   "id": "509ce62fc5055af2",
   "execution_count": 1
  },
  {
   "cell_type": "code",
   "outputs": [],
   "source": [
    "# Set random seed for reproducibility\n",
    "random_seed = 42\n",
    "torch.manual_seed(random_seed)\n",
    "np.random.seed(random_seed)"
   ],
   "metadata": {
    "collapsed": false,
    "ExecuteTime": {
     "end_time": "2024-04-24T16:43:51.083467600Z",
     "start_time": "2024-04-24T16:43:51.069224800Z"
    }
   },
   "id": "e6d1ae395fbae043",
   "execution_count": 2
  },
  {
   "cell_type": "raw",
   "source": [
    "### Loading Data"
   ],
   "metadata": {
    "collapsed": false
   },
   "id": "cddd3402b54296f8"
  },
  {
   "cell_type": "code",
   "execution_count": 3,
   "id": "e94cdbd8-79b5-43ac-b0e1-0858da622e6e",
   "metadata": {
    "ExecuteTime": {
     "end_time": "2024-04-24T16:43:52.495985200Z",
     "start_time": "2024-04-24T16:43:51.084972500Z"
    }
   },
   "outputs": [
    {
     "name": "stdout",
     "output_type": "stream",
     "text": [
      "Files already downloaded and verified\n",
      "Files already downloaded and verified\n"
     ]
    }
   ],
   "source": [
    "dataset_path = 'cifar10'\n",
    "\n",
    "train_batch_size = 128\n",
    "test_batch_size = 128\n",
    "\n",
    "# Put augmentations\n",
    "train_transforms = transforms.Compose([\n",
    "    transforms.RandomCrop(32, padding=2),\n",
    "    transforms.RandomHorizontalFlip(),  # FLips the image w.r.t horizontal axis\n",
    "    transforms.RandomRotation(10),  #Rotates the image to a specified angel\n",
    "    transforms.RandomAffine(0, shear=10, scale=(0.8, 1.2)),  #Performs actions like zooms, change shear angles.\n",
    "    transforms.ToTensor(),\n",
    "    transforms.Normalize((0.4914, 0.4822, 0.4465), (0.2023, 0.1994, 0.2010)),\n",
    "])\n",
    "\n",
    "test_transforms = transforms.Compose([\n",
    "    transforms.ToTensor(),\n",
    "    transforms.Normalize((0.4914, 0.4822, 0.4465), (0.2023, 0.1994, 0.2010)),\n",
    "])\n",
    "\n",
    "train_dataset = datasets.CIFAR10(root=dataset_path,\n",
    "                                 train=True,\n",
    "                                 transform=train_transforms,\n",
    "                                 download=True)\n",
    "\n",
    "train_data_loader = data.DataLoader(train_dataset,\n",
    "                                    batch_size=train_batch_size,\n",
    "                                    shuffle=True,\n",
    "                                    drop_last=True,\n",
    "                                    num_workers=2)\n",
    "\n",
    "test_dataset = datasets.CIFAR10(root=dataset_path,\n",
    "                                train=False,\n",
    "                                transform=test_transforms,\n",
    "                                download=True)\n",
    "\n",
    "test_data_loader = data.DataLoader(test_dataset,\n",
    "                                   batch_size=test_batch_size,\n",
    "                                   shuffle=False,\n",
    "                                   num_workers=2)"
   ]
  },
  {
   "cell_type": "markdown",
   "source": [
    "# Custom CNN Model"
   ],
   "metadata": {
    "collapsed": false
   },
   "id": "86bbdb79f2651a52"
  },
  {
   "cell_type": "markdown",
   "source": [
    "This model will be good for given dataset for several reasons:\n",
    "- **Convolutional Layers**: The model consists of four convolutional layers, each followed by ReLU activation, batch normalization, and max-pooling. This architecture allows the network to learn hierarchical features from the input images effectively. The gradual reduction in spatial dimensions through max-pooling helps in capturing increasingly abstract features.\n",
    "\n",
    "- **Residual Connections**: Though not explicitly labeled as such, the connections between convolutional layers can be seen as residual connections. These connections help in mitigating the vanishing gradient problem during training, enabling smoother and faster convergence.\n",
    "\n",
    "- **Fully Connected Layers**: After the convolutional layers, the model has three fully connected layers for classification. The usage of dropout regularization helps in preventing overfitting by randomly dropping connections during training.\n",
    "\n",
    "- **ReLU Activation**: ReLU activation is used throughout the model, which helps in introducing non-linearity, allowing the network to learn complex mappings between input and output.\n",
    "\n",
    "- **Batch Normalization**: Batch normalization is applied after each convolutional layer. This technique helps in stabilizing and accelerating the training process by normalizing the activations within each mini-batch.\n",
    "\n",
    "- **Pooling Layers**: Max-pooling layers are inserted after each convolutional layer, reducing the spatial dimensions of the feature maps while retaining the most important information. This aids in reducing computational complexity and helps in building translation-invariant features.\n",
    "\n",
    "- **Dropout**: Dropout layers are used before each fully connected layer. This regularization technique helps in preventing overfitting by randomly dropping a fraction of connections during training, forcing the network to learn more robust features.\n",
    "\n",
    "- **Output Activation**: The model uses log softmax activation at the output layer, which is suitable for multi-class classification tasks like CIFAR-10."
   ],
   "metadata": {
    "collapsed": false
   },
   "id": "1d98131d7e1c8a5a"
  },
  {
   "cell_type": "code",
   "outputs": [
    {
     "name": "stdout",
     "output_type": "stream",
     "text": [
      "Device: cuda\n",
      "CustomModel(\n",
      "  (conv1): Sequential(\n",
      "    (0): Conv2d(3, 32, kernel_size=(3, 3), stride=(1, 1), padding=(1, 1))\n",
      "    (1): ReLU()\n",
      "    (2): BatchNorm2d(32, eps=1e-05, momentum=0.1, affine=True, track_running_stats=True)\n",
      "    (3): MaxPool2d(kernel_size=2, stride=2, padding=0, dilation=1, ceil_mode=False)\n",
      "  )\n",
      "  (conv2): Sequential(\n",
      "    (0): Conv2d(32, 64, kernel_size=(3, 3), stride=(1, 1), padding=(1, 1))\n",
      "    (1): ReLU()\n",
      "    (2): BatchNorm2d(64, eps=1e-05, momentum=0.1, affine=True, track_running_stats=True)\n",
      "    (3): MaxPool2d(kernel_size=2, stride=2, padding=0, dilation=1, ceil_mode=False)\n",
      "  )\n",
      "  (conv3): Sequential(\n",
      "    (0): Conv2d(64, 128, kernel_size=(3, 3), stride=(1, 1), padding=(1, 1))\n",
      "    (1): ReLU()\n",
      "    (2): BatchNorm2d(128, eps=1e-05, momentum=0.1, affine=True, track_running_stats=True)\n",
      "    (3): MaxPool2d(kernel_size=2, stride=2, padding=0, dilation=1, ceil_mode=False)\n",
      "  )\n",
      "  (conv4): Sequential(\n",
      "    (0): Conv2d(128, 256, kernel_size=(3, 3), stride=(1, 1), padding=(1, 1))\n",
      "    (1): ReLU()\n",
      "    (2): BatchNorm2d(256, eps=1e-05, momentum=0.1, affine=True, track_running_stats=True)\n",
      "    (3): MaxPool2d(kernel_size=2, stride=2, padding=0, dilation=1, ceil_mode=False)\n",
      "  )\n",
      "  (fc1): Sequential(\n",
      "    (0): Linear(in_features=1024, out_features=1024, bias=True)\n",
      "    (1): ReLU()\n",
      "    (2): Dropout(p=0.5, inplace=False)\n",
      "    (3): Linear(in_features=1024, out_features=512, bias=True)\n",
      "    (4): ReLU()\n",
      "    (5): Dropout(p=0.5, inplace=False)\n",
      "    (6): Linear(in_features=512, out_features=10, bias=True)\n",
      "  )\n",
      ")\n"
     ]
    }
   ],
   "source": [
    "import torch\n",
    "import torch.nn as nn\n",
    "import torch.nn.functional as F\n",
    "\n",
    "\n",
    "class CustomModel(nn.Module):\n",
    "    def __init__(self):\n",
    "        super(CustomModel, self).__init__()\n",
    "        # First convolutional layer\n",
    "        self.conv1 = nn.Sequential(\n",
    "            nn.Conv2d(3, 32, kernel_size=3, padding=1),\n",
    "            nn.ReLU(),\n",
    "            nn.BatchNorm2d(32),\n",
    "            nn.MaxPool2d(2, 2)\n",
    "        )\n",
    "        # Second convolutional layer with residual connection\n",
    "        self.conv2 = nn.Sequential(\n",
    "            nn.Conv2d(32, 64, kernel_size=3, padding=1),\n",
    "            nn.ReLU(),\n",
    "            nn.BatchNorm2d(64),\n",
    "            nn.MaxPool2d(2, 2)\n",
    "        )\n",
    "        # Third convolutional layer with residual connection\n",
    "        self.conv3 = nn.Sequential(\n",
    "            nn.Conv2d(64, 128, kernel_size=3, padding=1),\n",
    "            nn.ReLU(),\n",
    "            nn.BatchNorm2d(128),\n",
    "            nn.MaxPool2d(2, 2)\n",
    "        )\n",
    "        # Fourth convolutional layer with residual connection\n",
    "        self.conv4 = nn.Sequential(\n",
    "            nn.Conv2d(128, 256, kernel_size=3, padding=1),\n",
    "            nn.ReLU(),\n",
    "            nn.BatchNorm2d(256),\n",
    "            nn.MaxPool2d(2, 2)\n",
    "        )\n",
    "        # Fully connected layers\n",
    "        self.fc1 = nn.Sequential(\n",
    "            nn.Linear(256 * 2 * 2, 1024),\n",
    "            nn.ReLU(),\n",
    "            nn.Dropout(0.5),\n",
    "            nn.Linear(1024, 512),\n",
    "            nn.ReLU(),\n",
    "            nn.Dropout(0.5),\n",
    "            nn.Linear(512, 10)\n",
    "        )\n",
    "\n",
    "    def forward(self, x):\n",
    "        x = self.conv1(x)\n",
    "        x = self.conv2(x)\n",
    "        x = self.conv3(x)\n",
    "        x = self.conv4(x)\n",
    "        x = torch.flatten(x, 1)\n",
    "        x = self.fc1(x)\n",
    "        return F.log_softmax(x, dim=1)\n",
    "\n",
    "\n",
    "use_cuda = torch.cuda.is_available()\n",
    "device = torch.device(\"cuda\" if use_cuda else \"cpu\")\n",
    "custom_model = CustomModel().to(device)\n",
    "\n",
    "print(f'Device: {device}')\n",
    "\n",
    "print(custom_model)"
   ],
   "metadata": {
    "collapsed": false,
    "ExecuteTime": {
     "end_time": "2024-04-24T16:43:52.709595500Z",
     "start_time": "2024-04-24T16:43:52.497985Z"
    }
   },
   "id": "c578120bb9c9eb6",
   "execution_count": 4
  },
  {
   "cell_type": "markdown",
   "source": [
    "### Early Stopping technique"
   ],
   "metadata": {
    "collapsed": false
   },
   "id": "25fc3f12aa173654"
  },
  {
   "cell_type": "code",
   "outputs": [],
   "source": [
    "class EarlyStopping():\n",
    "    \"\"\"\n",
    "    This class represents early stopping technique\n",
    "    \"\"\"\n",
    "    def __init__(self, tolerance=5, min_delta=0, mode='min'):\n",
    "        \"\"\"\n",
    "        :param tolerance: the maximum number of times without improvements \n",
    "        :param min_delta: the smallest amount of improvement\n",
    "        :param mode: minimize or maximize\n",
    "        \"\"\"\n",
    "        self.tolerance = tolerance\n",
    "        self.min_delta = min_delta\n",
    "        self.mode = mode\n",
    "        self.counter = 0\n",
    "        self.early_stop = False\n",
    "        self.prev_metric = np.inf if mode == 'min' else -np.inf\n",
    "        self.operation = operator.gt if mode == 'min' else operator.lt\n",
    "\n",
    "    def __call__(self, metric) -> bool:\n",
    "        delta = (metric - self.prev_metric)\n",
    "\n",
    "        if self.operation(delta, self.min_delta):\n",
    "            self.counter += 1\n",
    "        else:\n",
    "            self.counter = 0\n",
    "            self.prev_metric = metric\n",
    "\n",
    "        if self.counter >= self.tolerance:\n",
    "            self.early_stop = True\n",
    "        return self.early_stop"
   ],
   "metadata": {
    "collapsed": false,
    "ExecuteTime": {
     "end_time": "2024-04-24T16:43:52.710594800Z",
     "start_time": "2024-04-24T16:43:52.706729Z"
    }
   },
   "id": "665dca5b71988b82",
   "execution_count": 5
  },
  {
   "cell_type": "markdown",
   "source": [
    "### Train and test functions:"
   ],
   "metadata": {
    "collapsed": false
   },
   "id": "d4b96606ccb2eb21"
  },
  {
   "cell_type": "code",
   "outputs": [],
   "source": [
    "def train(model, device, train_loader, criterion, optimizer, epoch):\n",
    "    model.train()\n",
    "    epoch_loss = 0\n",
    "    start_time = time()\n",
    "    correct = 0\n",
    "    iteration = 0\n",
    "\n",
    "    bar = tqdm(train_loader)\n",
    "    for data, target in bar:\n",
    "        data, target = data.to(device), target.to(device)\n",
    "        optimizer.zero_grad()\n",
    "\n",
    "        output = model(data)\n",
    "        # Get the index of the max log-probability\n",
    "        pred = output.argmax(dim=1, keepdim=True)\n",
    "        correct += pred.eq(target.view_as(pred)).sum().item()\n",
    "\n",
    "        loss = criterion(output, target)\n",
    "        loss.backward()\n",
    "        optimizer.step()\n",
    "\n",
    "        epoch_loss += loss.item()\n",
    "        iteration += 1\n",
    "        bar.set_postfix({\"Loss\": format(epoch_loss / iteration, '.6f')})\n",
    "\n",
    "    acc = 100. * correct / len(train_loader.dataset)\n",
    "    print(f'\\rTrain Epoch: {epoch}, elapsed time:{time() - start_time:.2f}s')\n",
    "    return epoch_loss, acc\n",
    "\n",
    "\n",
    "def test(model, device, test_loader, criterion):\n",
    "    model.eval()\n",
    "    test_loss = 0\n",
    "    correct = 0\n",
    "    with torch.no_grad():\n",
    "        for data, target in test_loader:\n",
    "            data, target = data.to(device), target.to(device)\n",
    "            output = model(data)\n",
    "            test_loss += criterion(output, target).item()  # sum up batch loss\n",
    "            pred = output.argmax(dim=1, keepdim=True)  # get the index of the max log-probability\n",
    "            correct += pred.eq(target.view_as(pred)).sum().item()\n",
    "\n",
    "    acc = 100. * correct / len(test_loader.dataset)\n",
    "    return test_loss, acc"
   ],
   "metadata": {
    "collapsed": false,
    "ExecuteTime": {
     "end_time": "2024-04-24T16:43:52.718204400Z",
     "start_time": "2024-04-24T16:43:52.716072400Z"
    }
   },
   "id": "ef6f46ff339a36c",
   "execution_count": 6
  },
  {
   "cell_type": "markdown",
   "source": [
    "### Define hyperparameters"
   ],
   "metadata": {
    "collapsed": false
   },
   "id": "2d470d972a7ee76b"
  },
  {
   "cell_type": "code",
   "outputs": [],
   "source": [
    "epochs = 100\n",
    "\n",
    "criterion = nn.CrossEntropyLoss()\n",
    "optimizer = SGD(custom_model.parameters(), lr=0.1, momentum=0.9)\n",
    "scheduler = lr_scheduler.ReduceLROnPlateau(optimizer, 'min', factor=0.3,\n",
    "                                           patience=3, min_lr=0.001)\n",
    "early_stopping = EarlyStopping(tolerance=7, mode='min')\n",
    "\n",
    "best_model_wts = deepcopy(custom_model.state_dict())"
   ],
   "metadata": {
    "collapsed": false,
    "ExecuteTime": {
     "end_time": "2024-04-24T16:43:52.734589400Z",
     "start_time": "2024-04-24T16:43:52.720212600Z"
    }
   },
   "id": "25c31820e883200",
   "execution_count": 7
  },
  {
   "cell_type": "markdown",
   "source": [
    "Let's train the model with these hyperparameters and from graphs we will see if they are good for this model"
   ],
   "metadata": {
    "collapsed": false
   },
   "id": "a2b6feb595dbac7d"
  },
  {
   "cell_type": "code",
   "outputs": [
    {
     "name": "stderr",
     "output_type": "stream",
     "text": [
      "100%|██████████| 390/390 [00:22<00:00, 17.54it/s, Loss=1.934323]\n"
     ]
    },
    {
     "name": "stdout",
     "output_type": "stream",
     "text": [
      "Train Epoch: 1, elapsed time:22.23s\n",
      "Training accuracy 29.976, test accuracy 43.8\n",
      "Training loss 754.386013507843, test loss 122.9280401468277\n"
     ]
    },
    {
     "name": "stderr",
     "output_type": "stream",
     "text": [
      "100%|██████████| 390/390 [00:20<00:00, 19.17it/s, Loss=1.637738]\n"
     ]
    },
    {
     "name": "stdout",
     "output_type": "stream",
     "text": [
      "Train Epoch: 2, elapsed time:20.34s\n",
      "Training accuracy 40.686, test accuracy 52.68\n",
      "Training loss 638.7177189588547, test loss 106.02302074432373\n"
     ]
    },
    {
     "name": "stderr",
     "output_type": "stream",
     "text": [
      "100%|██████████| 390/390 [00:19<00:00, 20.09it/s, Loss=1.379699]\n"
     ]
    },
    {
     "name": "stdout",
     "output_type": "stream",
     "text": [
      "Train Epoch: 3, elapsed time:19.42s\n",
      "Training accuracy 51.348, test accuracy 58.55\n",
      "Training loss 538.0825349092484, test loss 90.79761123657227\n"
     ]
    },
    {
     "name": "stderr",
     "output_type": "stream",
     "text": [
      "100%|██████████| 390/390 [00:19<00:00, 20.18it/s, Loss=1.234443]\n"
     ]
    },
    {
     "name": "stdout",
     "output_type": "stream",
     "text": [
      "Train Epoch: 4, elapsed time:19.33s\n",
      "Training accuracy 56.976, test accuracy 65.73\n",
      "Training loss 481.4328801035881, test loss 78.51182848215103\n"
     ]
    },
    {
     "name": "stderr",
     "output_type": "stream",
     "text": [
      "100%|██████████| 390/390 [00:19<00:00, 20.05it/s, Loss=1.148394]\n"
     ]
    },
    {
     "name": "stdout",
     "output_type": "stream",
     "text": [
      "Train Epoch: 5, elapsed time:19.45s\n",
      "Training accuracy 60.458, test accuracy 67.1\n",
      "Training loss 447.87377524375916, test loss 74.17137789726257\n"
     ]
    },
    {
     "name": "stderr",
     "output_type": "stream",
     "text": [
      "100%|██████████| 390/390 [00:19<00:00, 20.02it/s, Loss=1.071573]\n"
     ]
    },
    {
     "name": "stdout",
     "output_type": "stream",
     "text": [
      "Train Epoch: 6, elapsed time:19.49s\n",
      "Training accuracy 63.654, test accuracy 69.57\n",
      "Training loss 417.91356134414673, test loss 71.03324061632156\n"
     ]
    },
    {
     "name": "stderr",
     "output_type": "stream",
     "text": [
      "100%|██████████| 390/390 [00:19<00:00, 20.17it/s, Loss=1.038361]\n"
     ]
    },
    {
     "name": "stdout",
     "output_type": "stream",
     "text": [
      "Train Epoch: 7, elapsed time:19.34s\n",
      "Training accuracy 64.698, test accuracy 70.96\n",
      "Training loss 404.960739672184, test loss 67.47623473405838\n"
     ]
    },
    {
     "name": "stderr",
     "output_type": "stream",
     "text": [
      "100%|██████████| 390/390 [00:19<00:00, 20.05it/s, Loss=0.995460]\n"
     ]
    },
    {
     "name": "stdout",
     "output_type": "stream",
     "text": [
      "Train Epoch: 8, elapsed time:19.45s\n",
      "Training accuracy 66.478, test accuracy 72.97\n",
      "Training loss 388.22937858104706, test loss 62.89350098371506\n"
     ]
    },
    {
     "name": "stderr",
     "output_type": "stream",
     "text": [
      "100%|██████████| 390/390 [00:19<00:00, 19.75it/s, Loss=0.966925]\n"
     ]
    },
    {
     "name": "stdout",
     "output_type": "stream",
     "text": [
      "Train Epoch: 9, elapsed time:19.75s\n",
      "Training accuracy 67.658, test accuracy 73.27\n",
      "Training loss 377.1006729602814, test loss 63.0030500292778\n"
     ]
    },
    {
     "name": "stderr",
     "output_type": "stream",
     "text": [
      "100%|██████████| 390/390 [00:19<00:00, 20.02it/s, Loss=0.944790]\n"
     ]
    },
    {
     "name": "stdout",
     "output_type": "stream",
     "text": [
      "Train Epoch: 10, elapsed time:19.49s\n",
      "Training accuracy 68.392, test accuracy 74.64\n",
      "Training loss 368.4680528640747, test loss 60.18912634253502\n"
     ]
    },
    {
     "name": "stderr",
     "output_type": "stream",
     "text": [
      "100%|██████████| 390/390 [00:19<00:00, 19.67it/s, Loss=0.912712]\n"
     ]
    },
    {
     "name": "stdout",
     "output_type": "stream",
     "text": [
      "Train Epoch: 11, elapsed time:19.83s\n",
      "Training accuracy 69.544, test accuracy 73.45\n",
      "Training loss 355.95774233341217, test loss 62.42389094829559\n"
     ]
    },
    {
     "name": "stderr",
     "output_type": "stream",
     "text": [
      "100%|██████████| 390/390 [00:19<00:00, 20.07it/s, Loss=0.900213]\n"
     ]
    },
    {
     "name": "stdout",
     "output_type": "stream",
     "text": [
      "Train Epoch: 12, elapsed time:19.43s\n",
      "Training accuracy 69.94, test accuracy 73.96\n",
      "Training loss 351.0830519795418, test loss 60.99224787950516\n"
     ]
    },
    {
     "name": "stderr",
     "output_type": "stream",
     "text": [
      "100%|██████████| 390/390 [00:19<00:00, 20.11it/s, Loss=0.889185]\n"
     ]
    },
    {
     "name": "stdout",
     "output_type": "stream",
     "text": [
      "Train Epoch: 13, elapsed time:19.40s\n",
      "Training accuracy 70.656, test accuracy 76.63\n",
      "Training loss 346.78224581480026, test loss 56.69236469268799\n"
     ]
    },
    {
     "name": "stderr",
     "output_type": "stream",
     "text": [
      "100%|██████████| 390/390 [00:19<00:00, 19.99it/s, Loss=0.876281]\n"
     ]
    },
    {
     "name": "stdout",
     "output_type": "stream",
     "text": [
      "Train Epoch: 14, elapsed time:19.51s\n",
      "Training accuracy 71.148, test accuracy 74.11\n",
      "Training loss 341.74939984083176, test loss 60.79860907793045\n"
     ]
    },
    {
     "name": "stderr",
     "output_type": "stream",
     "text": [
      "100%|██████████| 390/390 [00:19<00:00, 19.83it/s, Loss=0.854938]\n"
     ]
    },
    {
     "name": "stdout",
     "output_type": "stream",
     "text": [
      "Train Epoch: 15, elapsed time:19.67s\n",
      "Training accuracy 71.848, test accuracy 75.83\n",
      "Training loss 333.425836622715, test loss 56.96014714241028\n"
     ]
    },
    {
     "name": "stderr",
     "output_type": "stream",
     "text": [
      "100%|██████████| 390/390 [00:19<00:00, 19.94it/s, Loss=0.847025]\n"
     ]
    },
    {
     "name": "stdout",
     "output_type": "stream",
     "text": [
      "Train Epoch: 16, elapsed time:19.56s\n",
      "Training accuracy 72.024, test accuracy 77.32\n",
      "Training loss 330.3398030400276, test loss 53.70506623387337\n"
     ]
    },
    {
     "name": "stderr",
     "output_type": "stream",
     "text": [
      "100%|██████████| 390/390 [00:19<00:00, 19.50it/s, Loss=0.846443]\n"
     ]
    },
    {
     "name": "stdout",
     "output_type": "stream",
     "text": [
      "Train Epoch: 17, elapsed time:20.00s\n",
      "Training accuracy 72.576, test accuracy 76.44\n",
      "Training loss 330.1126940250397, test loss 55.25579556822777\n"
     ]
    },
    {
     "name": "stderr",
     "output_type": "stream",
     "text": [
      "100%|██████████| 390/390 [00:19<00:00, 20.09it/s, Loss=0.826681]\n"
     ]
    },
    {
     "name": "stdout",
     "output_type": "stream",
     "text": [
      "Train Epoch: 18, elapsed time:19.42s\n",
      "Training accuracy 72.886, test accuracy 77.35\n",
      "Training loss 322.4055282473564, test loss 54.15670281648636\n"
     ]
    },
    {
     "name": "stderr",
     "output_type": "stream",
     "text": [
      "100%|██████████| 390/390 [00:19<00:00, 19.92it/s, Loss=0.812955]\n"
     ]
    },
    {
     "name": "stdout",
     "output_type": "stream",
     "text": [
      "Train Epoch: 19, elapsed time:19.59s\n",
      "Training accuracy 73.12, test accuracy 78.95\n",
      "Training loss 317.05262714624405, test loss 51.0581311583519\n"
     ]
    },
    {
     "name": "stderr",
     "output_type": "stream",
     "text": [
      "100%|██████████| 390/390 [00:19<00:00, 19.88it/s, Loss=0.822828]\n"
     ]
    },
    {
     "name": "stdout",
     "output_type": "stream",
     "text": [
      "Train Epoch: 20, elapsed time:19.62s\n",
      "Training accuracy 73.084, test accuracy 76.94\n",
      "Training loss 320.9029712975025, test loss 55.40344589948654\n"
     ]
    },
    {
     "name": "stderr",
     "output_type": "stream",
     "text": [
      "100%|██████████| 390/390 [00:19<00:00, 20.18it/s, Loss=0.818372]\n"
     ]
    },
    {
     "name": "stdout",
     "output_type": "stream",
     "text": [
      "Train Epoch: 21, elapsed time:19.33s\n",
      "Training accuracy 73.23, test accuracy 76.33\n",
      "Training loss 319.1652030944824, test loss 56.6521714925766\n"
     ]
    },
    {
     "name": "stderr",
     "output_type": "stream",
     "text": [
      "100%|██████████| 390/390 [00:19<00:00, 19.95it/s, Loss=0.807156]\n"
     ]
    },
    {
     "name": "stdout",
     "output_type": "stream",
     "text": [
      "Train Epoch: 22, elapsed time:19.55s\n",
      "Training accuracy 73.48, test accuracy 77.31\n",
      "Training loss 314.79076766967773, test loss 54.4338458776474\n"
     ]
    },
    {
     "name": "stderr",
     "output_type": "stream",
     "text": [
      "100%|██████████| 390/390 [00:19<00:00, 20.21it/s, Loss=0.810657]\n"
     ]
    },
    {
     "name": "stdout",
     "output_type": "stream",
     "text": [
      "Train Epoch: 23, elapsed time:19.30s\n",
      "Training accuracy 73.866, test accuracy 75.65\n",
      "Training loss 316.1563875377178, test loss 56.23474794626236\n"
     ]
    },
    {
     "name": "stderr",
     "output_type": "stream",
     "text": [
      "100%|██████████| 390/390 [00:19<00:00, 20.12it/s, Loss=0.801479]\n"
     ]
    },
    {
     "name": "stdout",
     "output_type": "stream",
     "text": [
      "Train Epoch: 24, elapsed time:19.39s\n",
      "Training accuracy 73.968, test accuracy 79.21\n",
      "Training loss 312.5768097639084, test loss 52.4848595559597\n"
     ]
    },
    {
     "name": "stderr",
     "output_type": "stream",
     "text": [
      "100%|██████████| 390/390 [00:20<00:00, 18.95it/s, Loss=0.789992]\n"
     ]
    },
    {
     "name": "stdout",
     "output_type": "stream",
     "text": [
      "Train Epoch: 25, elapsed time:20.59s\n",
      "Training accuracy 74.204, test accuracy 79.48\n",
      "Training loss 308.0968294143677, test loss 50.96479606628418\n"
     ]
    },
    {
     "name": "stderr",
     "output_type": "stream",
     "text": [
      "100%|██████████| 390/390 [00:19<00:00, 20.14it/s, Loss=0.776146]\n"
     ]
    },
    {
     "name": "stdout",
     "output_type": "stream",
     "text": [
      "Train Epoch: 26, elapsed time:19.37s\n",
      "Training accuracy 74.532, test accuracy 79.31\n",
      "Training loss 302.69682839512825, test loss 50.02098473906517\n"
     ]
    },
    {
     "name": "stderr",
     "output_type": "stream",
     "text": [
      "100%|██████████| 390/390 [00:19<00:00, 20.23it/s, Loss=0.776386]\n"
     ]
    },
    {
     "name": "stdout",
     "output_type": "stream",
     "text": [
      "Train Epoch: 27, elapsed time:19.29s\n",
      "Training accuracy 74.636, test accuracy 78.76\n",
      "Training loss 302.79037803411484, test loss 52.166673451662064\n"
     ]
    },
    {
     "name": "stderr",
     "output_type": "stream",
     "text": [
      "100%|██████████| 390/390 [00:19<00:00, 19.96it/s, Loss=0.774746]\n"
     ]
    },
    {
     "name": "stdout",
     "output_type": "stream",
     "text": [
      "Train Epoch: 28, elapsed time:19.54s\n",
      "Training accuracy 74.954, test accuracy 79.74\n",
      "Training loss 302.15089309215546, test loss 50.41375732421875\n"
     ]
    },
    {
     "name": "stderr",
     "output_type": "stream",
     "text": [
      "100%|██████████| 390/390 [00:19<00:00, 19.80it/s, Loss=0.768822]\n"
     ]
    },
    {
     "name": "stdout",
     "output_type": "stream",
     "text": [
      "Train Epoch: 29, elapsed time:19.70s\n",
      "Training accuracy 75.03, test accuracy 78.74\n",
      "Training loss 299.84077367186546, test loss 52.81696608662605\n"
     ]
    },
    {
     "name": "stderr",
     "output_type": "stream",
     "text": [
      "100%|██████████| 390/390 [00:19<00:00, 19.89it/s, Loss=0.761324]\n"
     ]
    },
    {
     "name": "stdout",
     "output_type": "stream",
     "text": [
      "Train Epoch: 30, elapsed time:19.61s\n",
      "Training accuracy 75.346, test accuracy 79.99\n",
      "Training loss 296.9161874651909, test loss 49.80081567168236\n"
     ]
    },
    {
     "name": "stderr",
     "output_type": "stream",
     "text": [
      "100%|██████████| 390/390 [00:19<00:00, 19.75it/s, Loss=0.763416]\n"
     ]
    },
    {
     "name": "stdout",
     "output_type": "stream",
     "text": [
      "Train Epoch: 31, elapsed time:19.76s\n",
      "Training accuracy 75.42, test accuracy 80.33\n",
      "Training loss 297.73232221603394, test loss 48.557579308748245\n"
     ]
    },
    {
     "name": "stderr",
     "output_type": "stream",
     "text": [
      "100%|██████████| 390/390 [00:19<00:00, 19.91it/s, Loss=0.759072]\n"
     ]
    },
    {
     "name": "stdout",
     "output_type": "stream",
     "text": [
      "Train Epoch: 32, elapsed time:19.59s\n",
      "Training accuracy 75.622, test accuracy 80.68\n",
      "Training loss 296.0381360054016, test loss 50.74585619568825\n"
     ]
    },
    {
     "name": "stderr",
     "output_type": "stream",
     "text": [
      "100%|██████████| 390/390 [00:19<00:00, 20.08it/s, Loss=0.750280]\n"
     ]
    },
    {
     "name": "stdout",
     "output_type": "stream",
     "text": [
      "Train Epoch: 33, elapsed time:19.43s\n",
      "Training accuracy 75.638, test accuracy 79.94\n",
      "Training loss 292.6092924773693, test loss 48.728787928819656\n"
     ]
    },
    {
     "name": "stderr",
     "output_type": "stream",
     "text": [
      "100%|██████████| 390/390 [00:20<00:00, 18.89it/s, Loss=0.743396]\n"
     ]
    },
    {
     "name": "stdout",
     "output_type": "stream",
     "text": [
      "Train Epoch: 34, elapsed time:20.65s\n",
      "Training accuracy 76.448, test accuracy 79.89\n",
      "Training loss 289.92431992292404, test loss 47.549648970365524\n"
     ]
    },
    {
     "name": "stderr",
     "output_type": "stream",
     "text": [
      "100%|██████████| 390/390 [00:20<00:00, 18.95it/s, Loss=0.752021]\n"
     ]
    },
    {
     "name": "stdout",
     "output_type": "stream",
     "text": [
      "Train Epoch: 35, elapsed time:20.58s\n",
      "Training accuracy 75.954, test accuracy 77.98\n",
      "Training loss 293.28802239894867, test loss 52.909825563430786\n"
     ]
    },
    {
     "name": "stderr",
     "output_type": "stream",
     "text": [
      "100%|██████████| 390/390 [00:20<00:00, 19.16it/s, Loss=0.743702]\n"
     ]
    },
    {
     "name": "stdout",
     "output_type": "stream",
     "text": [
      "Train Epoch: 36, elapsed time:20.36s\n",
      "Training accuracy 76.098, test accuracy 80.29\n",
      "Training loss 290.043746560812, test loss 49.92754790186882\n"
     ]
    },
    {
     "name": "stderr",
     "output_type": "stream",
     "text": [
      "100%|██████████| 390/390 [00:20<00:00, 18.81it/s, Loss=0.736621]\n"
     ]
    },
    {
     "name": "stdout",
     "output_type": "stream",
     "text": [
      "Train Epoch: 37, elapsed time:20.73s\n",
      "Training accuracy 76.43, test accuracy 79.81\n",
      "Training loss 287.2821747660637, test loss 49.41844946146011\n"
     ]
    },
    {
     "name": "stderr",
     "output_type": "stream",
     "text": [
      "100%|██████████| 390/390 [00:22<00:00, 17.15it/s, Loss=0.735066]\n"
     ]
    },
    {
     "name": "stdout",
     "output_type": "stream",
     "text": [
      "Train Epoch: 38, elapsed time:22.74s\n",
      "Training accuracy 76.45, test accuracy 79.68\n",
      "Training loss 286.67570385336876, test loss 48.86207738518715\n"
     ]
    },
    {
     "name": "stderr",
     "output_type": "stream",
     "text": [
      "100%|██████████| 390/390 [00:21<00:00, 18.28it/s, Loss=0.735467]\n"
     ]
    },
    {
     "name": "stdout",
     "output_type": "stream",
     "text": [
      "Train Epoch: 39, elapsed time:21.34s\n",
      "Training accuracy 76.376, test accuracy 81.46\n",
      "Training loss 286.8320696055889, test loss 47.98307994008064\n"
     ]
    },
    {
     "name": "stderr",
     "output_type": "stream",
     "text": [
      "100%|██████████| 390/390 [00:21<00:00, 17.93it/s, Loss=0.736851]\n"
     ]
    },
    {
     "name": "stdout",
     "output_type": "stream",
     "text": [
      "Train Epoch: 40, elapsed time:21.75s\n",
      "Training accuracy 76.392, test accuracy 81.16\n",
      "Training loss 287.3719626069069, test loss 47.40690875053406\n"
     ]
    },
    {
     "name": "stderr",
     "output_type": "stream",
     "text": [
      "100%|██████████| 390/390 [00:21<00:00, 18.23it/s, Loss=0.729194]\n"
     ]
    },
    {
     "name": "stdout",
     "output_type": "stream",
     "text": [
      "Train Epoch: 41, elapsed time:21.40s\n",
      "Training accuracy 76.284, test accuracy 80.21\n",
      "Training loss 284.3856021761894, test loss 50.37853088974953\n"
     ]
    },
    {
     "name": "stderr",
     "output_type": "stream",
     "text": [
      "100%|██████████| 390/390 [00:22<00:00, 17.59it/s, Loss=0.731312]\n"
     ]
    },
    {
     "name": "stdout",
     "output_type": "stream",
     "text": [
      "Train Epoch: 42, elapsed time:22.18s\n",
      "Training accuracy 76.498, test accuracy 79.46\n",
      "Training loss 285.21170181035995, test loss 50.17281198501587\n"
     ]
    },
    {
     "name": "stderr",
     "output_type": "stream",
     "text": [
      "100%|██████████| 390/390 [00:20<00:00, 19.01it/s, Loss=0.726724]\n"
     ]
    },
    {
     "name": "stdout",
     "output_type": "stream",
     "text": [
      "Train Epoch: 43, elapsed time:20.52s\n",
      "Training accuracy 76.88, test accuracy 81.66\n",
      "Training loss 283.42239356040955, test loss 45.954162299633026\n"
     ]
    },
    {
     "name": "stderr",
     "output_type": "stream",
     "text": [
      "100%|██████████| 390/390 [00:21<00:00, 17.86it/s, Loss=0.720110]\n"
     ]
    },
    {
     "name": "stdout",
     "output_type": "stream",
     "text": [
      "Train Epoch: 44, elapsed time:21.84s\n",
      "Training accuracy 77.028, test accuracy 81.3\n",
      "Training loss 280.84308582544327, test loss 49.3823516368866\n"
     ]
    },
    {
     "name": "stderr",
     "output_type": "stream",
     "text": [
      "100%|██████████| 390/390 [00:21<00:00, 18.06it/s, Loss=0.721826]\n"
     ]
    },
    {
     "name": "stdout",
     "output_type": "stream",
     "text": [
      "Train Epoch: 45, elapsed time:21.60s\n",
      "Training accuracy 77.066, test accuracy 81.17\n",
      "Training loss 281.51226755976677, test loss 46.87215006351471\n"
     ]
    },
    {
     "name": "stderr",
     "output_type": "stream",
     "text": [
      "100%|██████████| 390/390 [00:20<00:00, 19.30it/s, Loss=0.714866]\n"
     ]
    },
    {
     "name": "stdout",
     "output_type": "stream",
     "text": [
      "Train Epoch: 46, elapsed time:20.21s\n",
      "Training accuracy 77.11, test accuracy 80.96\n",
      "Training loss 278.79789739847183, test loss 48.06523218750954\n"
     ]
    },
    {
     "name": "stderr",
     "output_type": "stream",
     "text": [
      "100%|██████████| 390/390 [00:21<00:00, 17.85it/s, Loss=0.717905]\n"
     ]
    },
    {
     "name": "stdout",
     "output_type": "stream",
     "text": [
      "Train Epoch: 47, elapsed time:21.85s\n",
      "Training accuracy 77.112, test accuracy 80.66\n",
      "Training loss 279.98281040787697, test loss 48.51876297593117\n"
     ]
    },
    {
     "name": "stderr",
     "output_type": "stream",
     "text": [
      "100%|██████████| 390/390 [00:21<00:00, 18.32it/s, Loss=0.714549]\n"
     ]
    },
    {
     "name": "stdout",
     "output_type": "stream",
     "text": [
      "Train Epoch: 48, elapsed time:21.29s\n",
      "Training accuracy 77.32, test accuracy 80.84\n",
      "Training loss 278.6740625500679, test loss 46.701908349990845\n"
     ]
    },
    {
     "name": "stderr",
     "output_type": "stream",
     "text": [
      "100%|██████████| 390/390 [00:21<00:00, 18.44it/s, Loss=0.702020]\n"
     ]
    },
    {
     "name": "stdout",
     "output_type": "stream",
     "text": [
      "Train Epoch: 49, elapsed time:21.15s\n",
      "Training accuracy 77.502, test accuracy 81.55\n",
      "Training loss 273.7878336906433, test loss 45.023186445236206\n"
     ]
    },
    {
     "name": "stderr",
     "output_type": "stream",
     "text": [
      "100%|██████████| 390/390 [00:20<00:00, 18.79it/s, Loss=0.712526]\n"
     ]
    },
    {
     "name": "stdout",
     "output_type": "stream",
     "text": [
      "Train Epoch: 50, elapsed time:20.76s\n",
      "Training accuracy 77.504, test accuracy 81.81\n",
      "Training loss 277.8852748274803, test loss 46.04098469018936\n"
     ]
    },
    {
     "name": "stderr",
     "output_type": "stream",
     "text": [
      "100%|██████████| 390/390 [00:20<00:00, 18.70it/s, Loss=0.706919]\n"
     ]
    },
    {
     "name": "stdout",
     "output_type": "stream",
     "text": [
      "Train Epoch: 51, elapsed time:20.86s\n",
      "Training accuracy 77.772, test accuracy 80.5\n",
      "Training loss 275.6982364356518, test loss 49.01325824856758\n"
     ]
    },
    {
     "name": "stderr",
     "output_type": "stream",
     "text": [
      "100%|██████████| 390/390 [00:20<00:00, 19.07it/s, Loss=0.710217]\n"
     ]
    },
    {
     "name": "stdout",
     "output_type": "stream",
     "text": [
      "Train Epoch: 52, elapsed time:20.45s\n",
      "Training accuracy 77.29, test accuracy 81.57\n",
      "Training loss 276.9846108555794, test loss 45.982749968767166\n"
     ]
    },
    {
     "name": "stderr",
     "output_type": "stream",
     "text": [
      "100%|██████████| 390/390 [00:20<00:00, 19.39it/s, Loss=0.706243]\n"
     ]
    },
    {
     "name": "stdout",
     "output_type": "stream",
     "text": [
      "Train Epoch: 53, elapsed time:20.11s\n",
      "Training accuracy 77.644, test accuracy 81.22\n",
      "Training loss 275.43479230999947, test loss 45.86914363503456\n"
     ]
    },
    {
     "name": "stderr",
     "output_type": "stream",
     "text": [
      "100%|██████████| 390/390 [00:20<00:00, 18.95it/s, Loss=0.598690]\n"
     ]
    },
    {
     "name": "stdout",
     "output_type": "stream",
     "text": [
      "Train Epoch: 54, elapsed time:20.59s\n",
      "Training accuracy 80.464, test accuracy 83.11\n",
      "Training loss 233.48898249864578, test loss 41.38401263952255\n"
     ]
    },
    {
     "name": "stderr",
     "output_type": "stream",
     "text": [
      "100%|██████████| 390/390 [00:20<00:00, 18.99it/s, Loss=0.565802]\n"
     ]
    },
    {
     "name": "stdout",
     "output_type": "stream",
     "text": [
      "Train Epoch: 55, elapsed time:20.54s\n",
      "Training accuracy 81.458, test accuracy 83.8\n",
      "Training loss 220.66267135739326, test loss 39.623670905828476\n"
     ]
    },
    {
     "name": "stderr",
     "output_type": "stream",
     "text": [
      "100%|██████████| 390/390 [00:22<00:00, 17.46it/s, Loss=0.554958]\n"
     ]
    },
    {
     "name": "stdout",
     "output_type": "stream",
     "text": [
      "Train Epoch: 56, elapsed time:22.34s\n",
      "Training accuracy 82.012, test accuracy 83.93\n",
      "Training loss 216.43365514278412, test loss 39.21592992544174\n"
     ]
    },
    {
     "name": "stderr",
     "output_type": "stream",
     "text": [
      "100%|██████████| 390/390 [00:20<00:00, 19.09it/s, Loss=0.539572]\n"
     ]
    },
    {
     "name": "stdout",
     "output_type": "stream",
     "text": [
      "Train Epoch: 57, elapsed time:20.43s\n",
      "Training accuracy 82.274, test accuracy 84.36\n",
      "Training loss 210.43322849273682, test loss 38.74603486061096\n"
     ]
    },
    {
     "name": "stderr",
     "output_type": "stream",
     "text": [
      "100%|██████████| 390/390 [00:20<00:00, 18.57it/s, Loss=0.532752]\n"
     ]
    },
    {
     "name": "stdout",
     "output_type": "stream",
     "text": [
      "Train Epoch: 58, elapsed time:21.00s\n",
      "Training accuracy 82.438, test accuracy 84.04\n",
      "Training loss 207.77346137166023, test loss 37.66415128111839\n"
     ]
    },
    {
     "name": "stderr",
     "output_type": "stream",
     "text": [
      "100%|██████████| 390/390 [00:19<00:00, 19.78it/s, Loss=0.525477]\n"
     ]
    },
    {
     "name": "stdout",
     "output_type": "stream",
     "text": [
      "Train Epoch: 59, elapsed time:19.72s\n",
      "Training accuracy 82.682, test accuracy 84.26\n",
      "Training loss 204.93586260080338, test loss 38.15675014257431\n"
     ]
    },
    {
     "name": "stderr",
     "output_type": "stream",
     "text": [
      "100%|██████████| 390/390 [00:22<00:00, 17.44it/s, Loss=0.515312]\n"
     ]
    },
    {
     "name": "stdout",
     "output_type": "stream",
     "text": [
      "Train Epoch: 60, elapsed time:22.37s\n",
      "Training accuracy 82.892, test accuracy 84.44\n",
      "Training loss 200.97179266810417, test loss 37.52925616502762\n"
     ]
    },
    {
     "name": "stderr",
     "output_type": "stream",
     "text": [
      "100%|██████████| 390/390 [00:20<00:00, 19.13it/s, Loss=0.513678]\n"
     ]
    },
    {
     "name": "stdout",
     "output_type": "stream",
     "text": [
      "Train Epoch: 61, elapsed time:20.39s\n",
      "Training accuracy 82.81, test accuracy 84.12\n",
      "Training loss 200.33454036712646, test loss 37.071586072444916\n"
     ]
    },
    {
     "name": "stderr",
     "output_type": "stream",
     "text": [
      "100%|██████████| 390/390 [00:20<00:00, 18.73it/s, Loss=0.505729]\n"
     ]
    },
    {
     "name": "stdout",
     "output_type": "stream",
     "text": [
      "Train Epoch: 62, elapsed time:20.83s\n",
      "Training accuracy 83.298, test accuracy 84.59\n",
      "Training loss 197.23441895842552, test loss 36.757060796022415\n"
     ]
    },
    {
     "name": "stderr",
     "output_type": "stream",
     "text": [
      "100%|██████████| 390/390 [00:20<00:00, 18.69it/s, Loss=0.497207]\n"
     ]
    },
    {
     "name": "stdout",
     "output_type": "stream",
     "text": [
      "Train Epoch: 63, elapsed time:20.86s\n",
      "Training accuracy 83.498, test accuracy 84.79\n",
      "Training loss 193.9107588082552, test loss 36.777113646268845\n"
     ]
    },
    {
     "name": "stderr",
     "output_type": "stream",
     "text": [
      "100%|██████████| 390/390 [00:22<00:00, 17.50it/s, Loss=0.501102]\n"
     ]
    },
    {
     "name": "stdout",
     "output_type": "stream",
     "text": [
      "Train Epoch: 64, elapsed time:22.29s\n",
      "Training accuracy 83.174, test accuracy 84.64\n",
      "Training loss 195.42976784706116, test loss 36.77932131290436\n"
     ]
    },
    {
     "name": "stderr",
     "output_type": "stream",
     "text": [
      "100%|██████████| 390/390 [00:21<00:00, 18.23it/s, Loss=0.496569]\n"
     ]
    },
    {
     "name": "stdout",
     "output_type": "stream",
     "text": [
      "Train Epoch: 65, elapsed time:21.40s\n",
      "Training accuracy 83.398, test accuracy 83.9\n",
      "Training loss 193.66206127405167, test loss 36.85249471664429\n"
     ]
    },
    {
     "name": "stderr",
     "output_type": "stream",
     "text": [
      "100%|██████████| 390/390 [00:20<00:00, 19.19it/s, Loss=0.490803]\n"
     ]
    },
    {
     "name": "stdout",
     "output_type": "stream",
     "text": [
      "Train Epoch: 66, elapsed time:20.32s\n",
      "Training accuracy 83.504, test accuracy 84.65\n",
      "Training loss 191.41324251890182, test loss 36.49574586749077\n"
     ]
    },
    {
     "name": "stderr",
     "output_type": "stream",
     "text": [
      "100%|██████████| 390/390 [00:22<00:00, 17.11it/s, Loss=0.488856]\n"
     ]
    },
    {
     "name": "stdout",
     "output_type": "stream",
     "text": [
      "Train Epoch: 67, elapsed time:22.79s\n",
      "Training accuracy 83.844, test accuracy 84.62\n",
      "Training loss 190.65374451875687, test loss 37.139175087213516\n"
     ]
    },
    {
     "name": "stderr",
     "output_type": "stream",
     "text": [
      "100%|██████████| 390/390 [00:20<00:00, 18.72it/s, Loss=0.500090]\n"
     ]
    },
    {
     "name": "stdout",
     "output_type": "stream",
     "text": [
      "Train Epoch: 68, elapsed time:20.84s\n",
      "Training accuracy 83.336, test accuracy 84.78\n",
      "Training loss 195.0350486934185, test loss 36.012626856565475\n"
     ]
    },
    {
     "name": "stderr",
     "output_type": "stream",
     "text": [
      "100%|██████████| 390/390 [00:22<00:00, 17.59it/s, Loss=0.486858]\n"
     ]
    },
    {
     "name": "stdout",
     "output_type": "stream",
     "text": [
      "Train Epoch: 69, elapsed time:22.18s\n",
      "Training accuracy 83.602, test accuracy 84.45\n",
      "Training loss 189.87444815039635, test loss 36.69430339336395\n"
     ]
    },
    {
     "name": "stderr",
     "output_type": "stream",
     "text": [
      "100%|██████████| 390/390 [00:22<00:00, 17.26it/s, Loss=0.478040]\n"
     ]
    },
    {
     "name": "stdout",
     "output_type": "stream",
     "text": [
      "Train Epoch: 70, elapsed time:22.60s\n",
      "Training accuracy 83.976, test accuracy 84.17\n",
      "Training loss 186.4354822933674, test loss 36.83773800730705\n"
     ]
    },
    {
     "name": "stderr",
     "output_type": "stream",
     "text": [
      "100%|██████████| 390/390 [00:20<00:00, 18.86it/s, Loss=0.484180]\n"
     ]
    },
    {
     "name": "stdout",
     "output_type": "stream",
     "text": [
      "Train Epoch: 71, elapsed time:20.68s\n",
      "Training accuracy 83.782, test accuracy 85.04\n",
      "Training loss 188.830334097147, test loss 35.81359699368477\n"
     ]
    },
    {
     "name": "stderr",
     "output_type": "stream",
     "text": [
      "100%|██████████| 390/390 [00:23<00:00, 16.76it/s, Loss=0.480588]\n"
     ]
    },
    {
     "name": "stdout",
     "output_type": "stream",
     "text": [
      "Train Epoch: 72, elapsed time:23.27s\n",
      "Training accuracy 83.958, test accuracy 84.89\n",
      "Training loss 187.4293640255928, test loss 35.53249782323837\n"
     ]
    },
    {
     "name": "stderr",
     "output_type": "stream",
     "text": [
      "100%|██████████| 390/390 [00:21<00:00, 18.29it/s, Loss=0.474026]\n"
     ]
    },
    {
     "name": "stdout",
     "output_type": "stream",
     "text": [
      "Train Epoch: 73, elapsed time:21.32s\n",
      "Training accuracy 84.082, test accuracy 84.62\n",
      "Training loss 184.87001200020313, test loss 35.46157020330429\n"
     ]
    },
    {
     "name": "stderr",
     "output_type": "stream",
     "text": [
      "100%|██████████| 390/390 [00:20<00:00, 18.77it/s, Loss=0.471699]\n"
     ]
    },
    {
     "name": "stdout",
     "output_type": "stream",
     "text": [
      "Train Epoch: 74, elapsed time:20.78s\n",
      "Training accuracy 84.13, test accuracy 84.93\n",
      "Training loss 183.96248438954353, test loss 35.688734859228134\n"
     ]
    },
    {
     "name": "stderr",
     "output_type": "stream",
     "text": [
      "100%|██████████| 390/390 [00:19<00:00, 19.57it/s, Loss=0.465089]\n"
     ]
    },
    {
     "name": "stdout",
     "output_type": "stream",
     "text": [
      "Train Epoch: 75, elapsed time:19.93s\n",
      "Training accuracy 84.478, test accuracy 85.23\n",
      "Training loss 181.38475841283798, test loss 34.52169340848923\n"
     ]
    },
    {
     "name": "stderr",
     "output_type": "stream",
     "text": [
      "100%|██████████| 390/390 [00:22<00:00, 17.60it/s, Loss=0.460188]\n"
     ]
    },
    {
     "name": "stdout",
     "output_type": "stream",
     "text": [
      "Train Epoch: 76, elapsed time:22.16s\n",
      "Training accuracy 84.49, test accuracy 84.82\n",
      "Training loss 179.47312518954277, test loss 35.54094439744949\n"
     ]
    },
    {
     "name": "stderr",
     "output_type": "stream",
     "text": [
      "100%|██████████| 390/390 [00:19<00:00, 19.63it/s, Loss=0.466865]\n"
     ]
    },
    {
     "name": "stdout",
     "output_type": "stream",
     "text": [
      "Train Epoch: 77, elapsed time:19.87s\n",
      "Training accuracy 84.192, test accuracy 84.98\n",
      "Training loss 182.07740372419357, test loss 35.15048363804817\n"
     ]
    },
    {
     "name": "stderr",
     "output_type": "stream",
     "text": [
      "100%|██████████| 390/390 [00:20<00:00, 18.97it/s, Loss=0.458175]\n"
     ]
    },
    {
     "name": "stdout",
     "output_type": "stream",
     "text": [
      "Train Epoch: 78, elapsed time:20.56s\n",
      "Training accuracy 84.446, test accuracy 84.76\n",
      "Training loss 178.68841263651848, test loss 35.22559145092964\n"
     ]
    },
    {
     "name": "stderr",
     "output_type": "stream",
     "text": [
      "100%|██████████| 390/390 [00:19<00:00, 19.57it/s, Loss=0.457637]\n"
     ]
    },
    {
     "name": "stdout",
     "output_type": "stream",
     "text": [
      "Train Epoch: 79, elapsed time:19.93s\n",
      "Training accuracy 84.66, test accuracy 85.27\n",
      "Training loss 178.47862105071545, test loss 34.894993275403976\n"
     ]
    },
    {
     "name": "stderr",
     "output_type": "stream",
     "text": [
      "100%|██████████| 390/390 [00:22<00:00, 17.26it/s, Loss=0.457454]\n"
     ]
    },
    {
     "name": "stdout",
     "output_type": "stream",
     "text": [
      "Train Epoch: 80, elapsed time:22.60s\n",
      "Training accuracy 84.698, test accuracy 84.92\n",
      "Training loss 178.40697711706161, test loss 34.54581022262573\n"
     ]
    },
    {
     "name": "stderr",
     "output_type": "stream",
     "text": [
      "100%|██████████| 390/390 [00:21<00:00, 17.87it/s, Loss=0.461142]\n"
     ]
    },
    {
     "name": "stdout",
     "output_type": "stream",
     "text": [
      "Train Epoch: 81, elapsed time:21.83s\n",
      "Training accuracy 84.542, test accuracy 85.33\n",
      "Training loss 179.84553565084934, test loss 35.38299024105072\n"
     ]
    },
    {
     "name": "stderr",
     "output_type": "stream",
     "text": [
      "100%|██████████| 390/390 [00:20<00:00, 19.26it/s, Loss=0.453490]\n"
     ]
    },
    {
     "name": "stdout",
     "output_type": "stream",
     "text": [
      "Train Epoch: 82, elapsed time:20.25s\n",
      "\n",
      "Early stopping\n"
     ]
    },
    {
     "data": {
      "text/plain": "<Figure size 1200x500 with 2 Axes>",
      "image/png": "[encoded data removed]"
     },
     "metadata": {},
     "output_type": "display_data"
    }
   ],
   "source": [
    "def training():\n",
    "    train_losses = []\n",
    "    train_accuracies = []\n",
    "    test_losses = []\n",
    "    test_accuracies = []\n",
    "    best_acc = 0.0\n",
    "    for epoch in range(1, epochs + 1):\n",
    "        train_loss, train_acc = train(custom_model, device, train_data_loader, criterion, optimizer, epoch)\n",
    "        train_losses.append(train_loss)\n",
    "        train_accuracies.append(train_acc)\n",
    "        \n",
    "        # Update learning rate if needed\n",
    "        scheduler.step(train_loss)\n",
    "\n",
    "        test_loss, test_acc = test(custom_model, device, test_data_loader, criterion)\n",
    "        test_losses.append(test_loss)\n",
    "        test_accuracies.append(test_acc)\n",
    "        \n",
    "        # Terminate training if loss stopped to decrease\n",
    "        if early_stopping(test_loss):\n",
    "            print('\\nEarly stopping\\n')\n",
    "            break\n",
    "        # Deep copy the weight of model if its accuracy is the best for now\n",
    "        if test_acc > best_acc:\n",
    "            best_acc = test_acc\n",
    "            best_model_wts = copy.deepcopy(custom_model.state_dict())\n",
    "            \n",
    "        print(f\"Training accuracy {train_acc}, test accuracy {test_acc}\")\n",
    "        print(f\"Training loss {train_loss}, test loss {test_loss}\")\n",
    "\n",
    "    custom_model.load_state_dict(best_model_wts)\n",
    "    torch.save(custom_model.state_dict(), \"best_custom_model.pt\")\n",
    "    \n",
    "    # Plot training curves\n",
    "    plt.figure(figsize=(12, 5))\n",
    "    plt.subplot(1, 2, 1)\n",
    "    plt.plot(range(1, epoch + 1), train_losses, label='Training Loss')\n",
    "    plt.plot(range(1, epoch + 1), test_losses, label='Test Loss')\n",
    "    plt.xlabel('Epochs')\n",
    "    plt.ylabel('Loss')\n",
    "    plt.title('Training and Test Loss')\n",
    "    plt.legend()\n",
    "    \n",
    "    plt.subplot(1, 2, 2)\n",
    "    plt.plot(range(1, epoch + 1), train_accuracies, label='Training Accuracy')\n",
    "    plt.plot(range(1, epoch + 1), test_accuracies, label='Test Accuracy')\n",
    "    plt.xlabel('Epochs')\n",
    "    plt.ylabel('Accuracy')\n",
    "    plt.title('Training and Test Accuracy')\n",
    "    plt.legend()\n",
    "    \n",
    "    plt.tight_layout()\n",
    "    plt.show()\n",
    "\n",
    "training()"
   ],
   "metadata": {
    "collapsed": false,
    "ExecuteTime": {
     "end_time": "2024-04-24T17:23:28.832261100Z",
     "start_time": "2024-04-24T16:43:52.735589300Z"
    }
   },
   "id": "e34fc55a94ef3811",
   "execution_count": 8
  },
  {
   "cell_type": "markdown",
   "source": [
    "It can be seen from the graphs that these hyperparameters are excellent for the model"
   ],
   "metadata": {
    "collapsed": false
   },
   "id": "4c94c892c795d35c"
  },
  {
   "cell_type": "markdown",
   "source": [
    "### Transfer Learning Model\n",
    "I chose to use *[resnet50](https://pytorch.org/vision/main/models/generated/torchvision.models.resnet50.html)* pretrained model"
   ],
   "metadata": {
    "collapsed": false
   },
   "id": "11bacd48ea8d09c7"
  },
  {
   "cell_type": "code",
   "outputs": [
    {
     "name": "stderr",
     "output_type": "stream",
     "text": [
      "C:\\Users\\roman\\anaconda3\\envs\\gpu_env\\Lib\\site-packages\\torchvision\\models\\_utils.py:208: UserWarning: The parameter 'pretrained' is deprecated since 0.13 and may be removed in the future, please use 'weights' instead.\n",
      "  warnings.warn(\n",
      "C:\\Users\\roman\\anaconda3\\envs\\gpu_env\\Lib\\site-packages\\torchvision\\models\\_utils.py:223: UserWarning: Arguments other than a weight enum or `None` for 'weights' are deprecated since 0.13 and may be removed in the future. The current behavior is equivalent to passing `weights=ResNet50_Weights.IMAGENET1K_V1`. You can also use `weights=ResNet50_Weights.DEFAULT` to get the most up-to-date weights.\n",
      "  warnings.warn(msg)\n"
     ]
    },
    {
     "data": {
      "text/plain": "ResNet(\n  (conv1): Conv2d(3, 64, kernel_size=(7, 7), stride=(2, 2), padding=(3, 3), bias=False)\n  (bn1): BatchNorm2d(64, eps=1e-05, momentum=0.1, affine=True, track_running_stats=True)\n  (relu): ReLU(inplace=True)\n  (maxpool): MaxPool2d(kernel_size=3, stride=2, padding=1, dilation=1, ceil_mode=False)\n  (layer1): Sequential(\n    (0): Bottleneck(\n      (conv1): Conv2d(64, 64, kernel_size=(1, 1), stride=(1, 1), bias=False)\n      (bn1): BatchNorm2d(64, eps=1e-05, momentum=0.1, affine=True, track_running_stats=True)\n      (conv2): Conv2d(64, 64, kernel_size=(3, 3), stride=(1, 1), padding=(1, 1), bias=False)\n      (bn2): BatchNorm2d(64, eps=1e-05, momentum=0.1, affine=True, track_running_stats=True)\n      (conv3): Conv2d(64, 256, kernel_size=(1, 1), stride=(1, 1), bias=False)\n      (bn3): BatchNorm2d(256, eps=1e-05, momentum=0.1, affine=True, track_running_stats=True)\n      (relu): ReLU(inplace=True)\n      (downsample): Sequential(\n        (0): Conv2d(64, 256, kernel_size=(1, 1), stride=(1, 1), bias=False)\n        (1): BatchNorm2d(256, eps=1e-05, momentum=0.1, affine=True, track_running_stats=True)\n      )\n    )\n    (1): Bottleneck(\n      (conv1): Conv2d(256, 64, kernel_size=(1, 1), stride=(1, 1), bias=False)\n      (bn1): BatchNorm2d(64, eps=1e-05, momentum=0.1, affine=True, track_running_stats=True)\n      (conv2): Conv2d(64, 64, kernel_size=(3, 3), stride=(1, 1), padding=(1, 1), bias=False)\n      (bn2): BatchNorm2d(64, eps=1e-05, momentum=0.1, affine=True, track_running_stats=True)\n      (conv3): Conv2d(64, 256, kernel_size=(1, 1), stride=(1, 1), bias=False)\n      (bn3): BatchNorm2d(256, eps=1e-05, momentum=0.1, affine=True, track_running_stats=True)\n      (relu): ReLU(inplace=True)\n    )\n    (2): Bottleneck(\n      (conv1): Conv2d(256, 64, kernel_size=(1, 1), stride=(1, 1), bias=False)\n      (bn1): BatchNorm2d(64, eps=1e-05, momentum=0.1, affine=True, track_running_stats=True)\n      (conv2): Conv2d(64, 64, kernel_size=(3, 3), stride=(1, 1), padding=(1, 1), bias=False)\n      (bn2): BatchNorm2d(64, eps=1e-05, momentum=0.1, affine=True, track_running_stats=True)\n      (conv3): Conv2d(64, 256, kernel_size=(1, 1), stride=(1, 1), bias=False)\n      (bn3): BatchNorm2d(256, eps=1e-05, momentum=0.1, affine=True, track_running_stats=True)\n      (relu): ReLU(inplace=True)\n    )\n  )\n  (layer2): Sequential(\n    (0): Bottleneck(\n      (conv1): Conv2d(256, 128, kernel_size=(1, 1), stride=(1, 1), bias=False)\n      (bn1): BatchNorm2d(128, eps=1e-05, momentum=0.1, affine=True, track_running_stats=True)\n      (conv2): Conv2d(128, 128, kernel_size=(3, 3), stride=(2, 2), padding=(1, 1), bias=False)\n      (bn2): BatchNorm2d(128, eps=1e-05, momentum=0.1, affine=True, track_running_stats=True)\n      (conv3): Conv2d(128, 512, kernel_size=(1, 1), stride=(1, 1), bias=False)\n      (bn3): BatchNorm2d(512, eps=1e-05, momentum=0.1, affine=True, track_running_stats=True)\n      (relu): ReLU(inplace=True)\n      (downsample): Sequential(\n        (0): Conv2d(256, 512, kernel_size=(1, 1), stride=(2, 2), bias=False)\n        (1): BatchNorm2d(512, eps=1e-05, momentum=0.1, affine=True, track_running_stats=True)\n      )\n    )\n    (1): Bottleneck(\n      (conv1): Conv2d(512, 128, kernel_size=(1, 1), stride=(1, 1), bias=False)\n      (bn1): BatchNorm2d(128, eps=1e-05, momentum=0.1, affine=True, track_running_stats=True)\n      (conv2): Conv2d(128, 128, kernel_size=(3, 3), stride=(1, 1), padding=(1, 1), bias=False)\n      (bn2): BatchNorm2d(128, eps=1e-05, momentum=0.1, affine=True, track_running_stats=True)\n      (conv3): Conv2d(128, 512, kernel_size=(1, 1), stride=(1, 1), bias=False)\n      (bn3): BatchNorm2d(512, eps=1e-05, momentum=0.1, affine=True, track_running_stats=True)\n      (relu): ReLU(inplace=True)\n    )\n    (2): Bottleneck(\n      (conv1): Conv2d(512, 128, kernel_size=(1, 1), stride=(1, 1), bias=False)\n      (bn1): BatchNorm2d(128, eps=1e-05, momentum=0.1, affine=True, track_running_stats=True)\n      (conv2): Conv2d(128, 128, kernel_size=(3, 3), stride=(1, 1), padding=(1, 1), bias=False)\n      (bn2): BatchNorm2d(128, eps=1e-05, momentum=0.1, affine=True, track_running_stats=True)\n      (conv3): Conv2d(128, 512, kernel_size=(1, 1), stride=(1, 1), bias=False)\n      (bn3): BatchNorm2d(512, eps=1e-05, momentum=0.1, affine=True, track_running_stats=True)\n      (relu): ReLU(inplace=True)\n    )\n    (3): Bottleneck(\n      (conv1): Conv2d(512, 128, kernel_size=(1, 1), stride=(1, 1), bias=False)\n      (bn1): BatchNorm2d(128, eps=1e-05, momentum=0.1, affine=True, track_running_stats=True)\n      (conv2): Conv2d(128, 128, kernel_size=(3, 3), stride=(1, 1), padding=(1, 1), bias=False)\n      (bn2): BatchNorm2d(128, eps=1e-05, momentum=0.1, affine=True, track_running_stats=True)\n      (conv3): Conv2d(128, 512, kernel_size=(1, 1), stride=(1, 1), bias=False)\n      (bn3): BatchNorm2d(512, eps=1e-05, momentum=0.1, affine=True, track_running_stats=True)\n      (relu): ReLU(inplace=True)\n    )\n  )\n  (layer3): Sequential(\n    (0): Bottleneck(\n      (conv1): Conv2d(512, 256, kernel_size=(1, 1), stride=(1, 1), bias=False)\n      (bn1): BatchNorm2d(256, eps=1e-05, momentum=0.1, affine=True, track_running_stats=True)\n      (conv2): Conv2d(256, 256, kernel_size=(3, 3), stride=(2, 2), padding=(1, 1), bias=False)\n      (bn2): BatchNorm2d(256, eps=1e-05, momentum=0.1, affine=True, track_running_stats=True)\n      (conv3): Conv2d(256, 1024, kernel_size=(1, 1), stride=(1, 1), bias=False)\n      (bn3): BatchNorm2d(1024, eps=1e-05, momentum=0.1, affine=True, track_running_stats=True)\n      (relu): ReLU(inplace=True)\n      (downsample): Sequential(\n        (0): Conv2d(512, 1024, kernel_size=(1, 1), stride=(2, 2), bias=False)\n        (1): BatchNorm2d(1024, eps=1e-05, momentum=0.1, affine=True, track_running_stats=True)\n      )\n    )\n    (1): Bottleneck(\n      (conv1): Conv2d(1024, 256, kernel_size=(1, 1), stride=(1, 1), bias=False)\n      (bn1): BatchNorm2d(256, eps=1e-05, momentum=0.1, affine=True, track_running_stats=True)\n      (conv2): Conv2d(256, 256, kernel_size=(3, 3), stride=(1, 1), padding=(1, 1), bias=False)\n      (bn2): BatchNorm2d(256, eps=1e-05, momentum=0.1, affine=True, track_running_stats=True)\n      (conv3): Conv2d(256, 1024, kernel_size=(1, 1), stride=(1, 1), bias=False)\n      (bn3): BatchNorm2d(1024, eps=1e-05, momentum=0.1, affine=True, track_running_stats=True)\n      (relu): ReLU(inplace=True)\n    )\n    (2): Bottleneck(\n      (conv1): Conv2d(1024, 256, kernel_size=(1, 1), stride=(1, 1), bias=False)\n      (bn1): BatchNorm2d(256, eps=1e-05, momentum=0.1, affine=True, track_running_stats=True)\n      (conv2): Conv2d(256, 256, kernel_size=(3, 3), stride=(1, 1), padding=(1, 1), bias=False)\n      (bn2): BatchNorm2d(256, eps=1e-05, momentum=0.1, affine=True, track_running_stats=True)\n      (conv3): Conv2d(256, 1024, kernel_size=(1, 1), stride=(1, 1), bias=False)\n      (bn3): BatchNorm2d(1024, eps=1e-05, momentum=0.1, affine=True, track_running_stats=True)\n      (relu): ReLU(inplace=True)\n    )\n    (3): Bottleneck(\n      (conv1): Conv2d(1024, 256, kernel_size=(1, 1), stride=(1, 1), bias=False)\n      (bn1): BatchNorm2d(256, eps=1e-05, momentum=0.1, affine=True, track_running_stats=True)\n      (conv2): Conv2d(256, 256, kernel_size=(3, 3), stride=(1, 1), padding=(1, 1), bias=False)\n      (bn2): BatchNorm2d(256, eps=1e-05, momentum=0.1, affine=True, track_running_stats=True)\n      (conv3): Conv2d(256, 1024, kernel_size=(1, 1), stride=(1, 1), bias=False)\n      (bn3): BatchNorm2d(1024, eps=1e-05, momentum=0.1, affine=True, track_running_stats=True)\n      (relu): ReLU(inplace=True)\n    )\n    (4): Bottleneck(\n      (conv1): Conv2d(1024, 256, kernel_size=(1, 1), stride=(1, 1), bias=False)\n      (bn1): BatchNorm2d(256, eps=1e-05, momentum=0.1, affine=True, track_running_stats=True)\n      (conv2): Conv2d(256, 256, kernel_size=(3, 3), stride=(1, 1), padding=(1, 1), bias=False)\n      (bn2): BatchNorm2d(256, eps=1e-05, momentum=0.1, affine=True, track_running_stats=True)\n      (conv3): Conv2d(256, 1024, kernel_size=(1, 1), stride=(1, 1), bias=False)\n      (bn3): BatchNorm2d(1024, eps=1e-05, momentum=0.1, affine=True, track_running_stats=True)\n      (relu): ReLU(inplace=True)\n    )\n    (5): Bottleneck(\n      (conv1): Conv2d(1024, 256, kernel_size=(1, 1), stride=(1, 1), bias=False)\n      (bn1): BatchNorm2d(256, eps=1e-05, momentum=0.1, affine=True, track_running_stats=True)\n      (conv2): Conv2d(256, 256, kernel_size=(3, 3), stride=(1, 1), padding=(1, 1), bias=False)\n      (bn2): BatchNorm2d(256, eps=1e-05, momentum=0.1, affine=True, track_running_stats=True)\n      (conv3): Conv2d(256, 1024, kernel_size=(1, 1), stride=(1, 1), bias=False)\n      (bn3): BatchNorm2d(1024, eps=1e-05, momentum=0.1, affine=True, track_running_stats=True)\n      (relu): ReLU(inplace=True)\n    )\n  )\n  (layer4): Sequential(\n    (0): Bottleneck(\n      (conv1): Conv2d(1024, 512, kernel_size=(1, 1), stride=(1, 1), bias=False)\n      (bn1): BatchNorm2d(512, eps=1e-05, momentum=0.1, affine=True, track_running_stats=True)\n      (conv2): Conv2d(512, 512, kernel_size=(3, 3), stride=(2, 2), padding=(1, 1), bias=False)\n      (bn2): BatchNorm2d(512, eps=1e-05, momentum=0.1, affine=True, track_running_stats=True)\n      (conv3): Conv2d(512, 2048, kernel_size=(1, 1), stride=(1, 1), bias=False)\n      (bn3): BatchNorm2d(2048, eps=1e-05, momentum=0.1, affine=True, track_running_stats=True)\n      (relu): ReLU(inplace=True)\n      (downsample): Sequential(\n        (0): Conv2d(1024, 2048, kernel_size=(1, 1), stride=(2, 2), bias=False)\n        (1): BatchNorm2d(2048, eps=1e-05, momentum=0.1, affine=True, track_running_stats=True)\n      )\n    )\n    (1): Bottleneck(\n      (conv1): Conv2d(2048, 512, kernel_size=(1, 1), stride=(1, 1), bias=False)\n      (bn1): BatchNorm2d(512, eps=1e-05, momentum=0.1, affine=True, track_running_stats=True)\n      (conv2): Conv2d(512, 512, kernel_size=(3, 3), stride=(1, 1), padding=(1, 1), bias=False)\n      (bn2): BatchNorm2d(512, eps=1e-05, momentum=0.1, affine=True, track_running_stats=True)\n      (conv3): Conv2d(512, 2048, kernel_size=(1, 1), stride=(1, 1), bias=False)\n      (bn3): BatchNorm2d(2048, eps=1e-05, momentum=0.1, affine=True, track_running_stats=True)\n      (relu): ReLU(inplace=True)\n    )\n    (2): Bottleneck(\n      (conv1): Conv2d(2048, 512, kernel_size=(1, 1), stride=(1, 1), bias=False)\n      (bn1): BatchNorm2d(512, eps=1e-05, momentum=0.1, affine=True, track_running_stats=True)\n      (conv2): Conv2d(512, 512, kernel_size=(3, 3), stride=(1, 1), padding=(1, 1), bias=False)\n      (bn2): BatchNorm2d(512, eps=1e-05, momentum=0.1, affine=True, track_running_stats=True)\n      (conv3): Conv2d(512, 2048, kernel_size=(1, 1), stride=(1, 1), bias=False)\n      (bn3): BatchNorm2d(2048, eps=1e-05, momentum=0.1, affine=True, track_running_stats=True)\n      (relu): ReLU(inplace=True)\n    )\n  )\n  (avgpool): AdaptiveAvgPool2d(output_size=(1, 1))\n  (fc): Linear(in_features=2048, out_features=1000, bias=True)\n)"
     },
     "execution_count": 28,
     "metadata": {},
     "output_type": "execute_result"
    }
   ],
   "source": [
    "# Loading the model\n",
    "pretrained_model = models.resnet50(pretrained=True)\n",
    "pretrained_model"
   ],
   "metadata": {
    "collapsed": false,
    "ExecuteTime": {
     "end_time": "2024-04-24T18:10:22.133344700Z",
     "start_time": "2024-04-24T18:10:21.678423400Z"
    }
   },
   "id": "c1c0c5e34c34c7a8",
   "execution_count": 28
  },
  {
   "cell_type": "code",
   "outputs": [
    {
     "name": "stdout",
     "output_type": "stream",
     "text": [
      "ResNet(\n",
      "  (conv1): Conv2d(3, 64, kernel_size=(3, 3), stride=(1, 1), padding=(1, 1), bias=False)\n",
      "  (bn1): BatchNorm2d(64, eps=1e-05, momentum=0.1, affine=True, track_running_stats=True)\n",
      "  (relu): ReLU(inplace=True)\n",
      "  (maxpool): MaxPool2d(kernel_size=3, stride=2, padding=1, dilation=1, ceil_mode=False)\n",
      "  (layer1): Sequential(\n",
      "    (0): Bottleneck(\n",
      "      (conv1): Conv2d(64, 64, kernel_size=(1, 1), stride=(1, 1), bias=False)\n",
      "      (bn1): BatchNorm2d(64, eps=1e-05, momentum=0.1, affine=True, track_running_stats=True)\n",
      "      (conv2): Conv2d(64, 64, kernel_size=(3, 3), stride=(1, 1), padding=(1, 1), bias=False)\n",
      "      (bn2): BatchNorm2d(64, eps=1e-05, momentum=0.1, affine=True, track_running_stats=True)\n",
      "      (conv3): Conv2d(64, 256, kernel_size=(1, 1), stride=(1, 1), bias=False)\n",
      "      (bn3): BatchNorm2d(256, eps=1e-05, momentum=0.1, affine=True, track_running_stats=True)\n",
      "      (relu): ReLU(inplace=True)\n",
      "      (downsample): Sequential(\n",
      "        (0): Conv2d(64, 256, kernel_size=(1, 1), stride=(1, 1), bias=False)\n",
      "        (1): BatchNorm2d(256, eps=1e-05, momentum=0.1, affine=True, track_running_stats=True)\n",
      "      )\n",
      "    )\n",
      "    (1): Bottleneck(\n",
      "      (conv1): Conv2d(256, 64, kernel_size=(1, 1), stride=(1, 1), bias=False)\n",
      "      (bn1): BatchNorm2d(64, eps=1e-05, momentum=0.1, affine=True, track_running_stats=True)\n",
      "      (conv2): Conv2d(64, 64, kernel_size=(3, 3), stride=(1, 1), padding=(1, 1), bias=False)\n",
      "      (bn2): BatchNorm2d(64, eps=1e-05, momentum=0.1, affine=True, track_running_stats=True)\n",
      "      (conv3): Conv2d(64, 256, kernel_size=(1, 1), stride=(1, 1), bias=False)\n",
      "      (bn3): BatchNorm2d(256, eps=1e-05, momentum=0.1, affine=True, track_running_stats=True)\n",
      "      (relu): ReLU(inplace=True)\n",
      "    )\n",
      "    (2): Bottleneck(\n",
      "      (conv1): Conv2d(256, 64, kernel_size=(1, 1), stride=(1, 1), bias=False)\n",
      "      (bn1): BatchNorm2d(64, eps=1e-05, momentum=0.1, affine=True, track_running_stats=True)\n",
      "      (conv2): Conv2d(64, 64, kernel_size=(3, 3), stride=(1, 1), padding=(1, 1), bias=False)\n",
      "      (bn2): BatchNorm2d(64, eps=1e-05, momentum=0.1, affine=True, track_running_stats=True)\n",
      "      (conv3): Conv2d(64, 256, kernel_size=(1, 1), stride=(1, 1), bias=False)\n",
      "      (bn3): BatchNorm2d(256, eps=1e-05, momentum=0.1, affine=True, track_running_stats=True)\n",
      "      (relu): ReLU(inplace=True)\n",
      "    )\n",
      "  )\n",
      "  (layer2): Sequential(\n",
      "    (0): Bottleneck(\n",
      "      (conv1): Conv2d(256, 128, kernel_size=(1, 1), stride=(1, 1), bias=False)\n",
      "      (bn1): BatchNorm2d(128, eps=1e-05, momentum=0.1, affine=True, track_running_stats=True)\n",
      "      (conv2): Conv2d(128, 128, kernel_size=(3, 3), stride=(2, 2), padding=(1, 1), bias=False)\n",
      "      (bn2): BatchNorm2d(128, eps=1e-05, momentum=0.1, affine=True, track_running_stats=True)\n",
      "      (conv3): Conv2d(128, 512, kernel_size=(1, 1), stride=(1, 1), bias=False)\n",
      "      (bn3): BatchNorm2d(512, eps=1e-05, momentum=0.1, affine=True, track_running_stats=True)\n",
      "      (relu): ReLU(inplace=True)\n",
      "      (downsample): Sequential(\n",
      "        (0): Conv2d(256, 512, kernel_size=(1, 1), stride=(2, 2), bias=False)\n",
      "        (1): BatchNorm2d(512, eps=1e-05, momentum=0.1, affine=True, track_running_stats=True)\n",
      "      )\n",
      "    )\n",
      "    (1): Bottleneck(\n",
      "      (conv1): Conv2d(512, 128, kernel_size=(1, 1), stride=(1, 1), bias=False)\n",
      "      (bn1): BatchNorm2d(128, eps=1e-05, momentum=0.1, affine=True, track_running_stats=True)\n",
      "      (conv2): Conv2d(128, 128, kernel_size=(3, 3), stride=(1, 1), padding=(1, 1), bias=False)\n",
      "      (bn2): BatchNorm2d(128, eps=1e-05, momentum=0.1, affine=True, track_running_stats=True)\n",
      "      (conv3): Conv2d(128, 512, kernel_size=(1, 1), stride=(1, 1), bias=False)\n",
      "      (bn3): BatchNorm2d(512, eps=1e-05, momentum=0.1, affine=True, track_running_stats=True)\n",
      "      (relu): ReLU(inplace=True)\n",
      "    )\n",
      "    (2): Bottleneck(\n",
      "      (conv1): Conv2d(512, 128, kernel_size=(1, 1), stride=(1, 1), bias=False)\n",
      "      (bn1): BatchNorm2d(128, eps=1e-05, momentum=0.1, affine=True, track_running_stats=True)\n",
      "      (conv2): Conv2d(128, 128, kernel_size=(3, 3), stride=(1, 1), padding=(1, 1), bias=False)\n",
      "      (bn2): BatchNorm2d(128, eps=1e-05, momentum=0.1, affine=True, track_running_stats=True)\n",
      "      (conv3): Conv2d(128, 512, kernel_size=(1, 1), stride=(1, 1), bias=False)\n",
      "      (bn3): BatchNorm2d(512, eps=1e-05, momentum=0.1, affine=True, track_running_stats=True)\n",
      "      (relu): ReLU(inplace=True)\n",
      "    )\n",
      "    (3): Bottleneck(\n",
      "      (conv1): Conv2d(512, 128, kernel_size=(1, 1), stride=(1, 1), bias=False)\n",
      "      (bn1): BatchNorm2d(128, eps=1e-05, momentum=0.1, affine=True, track_running_stats=True)\n",
      "      (conv2): Conv2d(128, 128, kernel_size=(3, 3), stride=(1, 1), padding=(1, 1), bias=False)\n",
      "      (bn2): BatchNorm2d(128, eps=1e-05, momentum=0.1, affine=True, track_running_stats=True)\n",
      "      (conv3): Conv2d(128, 512, kernel_size=(1, 1), stride=(1, 1), bias=False)\n",
      "      (bn3): BatchNorm2d(512, eps=1e-05, momentum=0.1, affine=True, track_running_stats=True)\n",
      "      (relu): ReLU(inplace=True)\n",
      "    )\n",
      "  )\n",
      "  (layer3): Sequential(\n",
      "    (0): Bottleneck(\n",
      "      (conv1): Conv2d(512, 256, kernel_size=(1, 1), stride=(1, 1), bias=False)\n",
      "      (bn1): BatchNorm2d(256, eps=1e-05, momentum=0.1, affine=True, track_running_stats=True)\n",
      "      (conv2): Conv2d(256, 256, kernel_size=(3, 3), stride=(2, 2), padding=(1, 1), bias=False)\n",
      "      (bn2): BatchNorm2d(256, eps=1e-05, momentum=0.1, affine=True, track_running_stats=True)\n",
      "      (conv3): Conv2d(256, 1024, kernel_size=(1, 1), stride=(1, 1), bias=False)\n",
      "      (bn3): BatchNorm2d(1024, eps=1e-05, momentum=0.1, affine=True, track_running_stats=True)\n",
      "      (relu): ReLU(inplace=True)\n",
      "      (downsample): Sequential(\n",
      "        (0): Conv2d(512, 1024, kernel_size=(1, 1), stride=(2, 2), bias=False)\n",
      "        (1): BatchNorm2d(1024, eps=1e-05, momentum=0.1, affine=True, track_running_stats=True)\n",
      "      )\n",
      "    )\n",
      "    (1): Bottleneck(\n",
      "      (conv1): Conv2d(1024, 256, kernel_size=(1, 1), stride=(1, 1), bias=False)\n",
      "      (bn1): BatchNorm2d(256, eps=1e-05, momentum=0.1, affine=True, track_running_stats=True)\n",
      "      (conv2): Conv2d(256, 256, kernel_size=(3, 3), stride=(1, 1), padding=(1, 1), bias=False)\n",
      "      (bn2): BatchNorm2d(256, eps=1e-05, momentum=0.1, affine=True, track_running_stats=True)\n",
      "      (conv3): Conv2d(256, 1024, kernel_size=(1, 1), stride=(1, 1), bias=False)\n",
      "      (bn3): BatchNorm2d(1024, eps=1e-05, momentum=0.1, affine=True, track_running_stats=True)\n",
      "      (relu): ReLU(inplace=True)\n",
      "    )\n",
      "    (2): Bottleneck(\n",
      "      (conv1): Conv2d(1024, 256, kernel_size=(1, 1), stride=(1, 1), bias=False)\n",
      "      (bn1): BatchNorm2d(256, eps=1e-05, momentum=0.1, affine=True, track_running_stats=True)\n",
      "      (conv2): Conv2d(256, 256, kernel_size=(3, 3), stride=(1, 1), padding=(1, 1), bias=False)\n",
      "      (bn2): BatchNorm2d(256, eps=1e-05, momentum=0.1, affine=True, track_running_stats=True)\n",
      "      (conv3): Conv2d(256, 1024, kernel_size=(1, 1), stride=(1, 1), bias=False)\n",
      "      (bn3): BatchNorm2d(1024, eps=1e-05, momentum=0.1, affine=True, track_running_stats=True)\n",
      "      (relu): ReLU(inplace=True)\n",
      "    )\n",
      "    (3): Bottleneck(\n",
      "      (conv1): Conv2d(1024, 256, kernel_size=(1, 1), stride=(1, 1), bias=False)\n",
      "      (bn1): BatchNorm2d(256, eps=1e-05, momentum=0.1, affine=True, track_running_stats=True)\n",
      "      (conv2): Conv2d(256, 256, kernel_size=(3, 3), stride=(1, 1), padding=(1, 1), bias=False)\n",
      "      (bn2): BatchNorm2d(256, eps=1e-05, momentum=0.1, affine=True, track_running_stats=True)\n",
      "      (conv3): Conv2d(256, 1024, kernel_size=(1, 1), stride=(1, 1), bias=False)\n",
      "      (bn3): BatchNorm2d(1024, eps=1e-05, momentum=0.1, affine=True, track_running_stats=True)\n",
      "      (relu): ReLU(inplace=True)\n",
      "    )\n",
      "    (4): Bottleneck(\n",
      "      (conv1): Conv2d(1024, 256, kernel_size=(1, 1), stride=(1, 1), bias=False)\n",
      "      (bn1): BatchNorm2d(256, eps=1e-05, momentum=0.1, affine=True, track_running_stats=True)\n",
      "      (conv2): Conv2d(256, 256, kernel_size=(3, 3), stride=(1, 1), padding=(1, 1), bias=False)\n",
      "      (bn2): BatchNorm2d(256, eps=1e-05, momentum=0.1, affine=True, track_running_stats=True)\n",
      "      (conv3): Conv2d(256, 1024, kernel_size=(1, 1), stride=(1, 1), bias=False)\n",
      "      (bn3): BatchNorm2d(1024, eps=1e-05, momentum=0.1, affine=True, track_running_stats=True)\n",
      "      (relu): ReLU(inplace=True)\n",
      "    )\n",
      "    (5): Bottleneck(\n",
      "      (conv1): Conv2d(1024, 256, kernel_size=(1, 1), stride=(1, 1), bias=False)\n",
      "      (bn1): BatchNorm2d(256, eps=1e-05, momentum=0.1, affine=True, track_running_stats=True)\n",
      "      (conv2): Conv2d(256, 256, kernel_size=(3, 3), stride=(1, 1), padding=(1, 1), bias=False)\n",
      "      (bn2): BatchNorm2d(256, eps=1e-05, momentum=0.1, affine=True, track_running_stats=True)\n",
      "      (conv3): Conv2d(256, 1024, kernel_size=(1, 1), stride=(1, 1), bias=False)\n",
      "      (bn3): BatchNorm2d(1024, eps=1e-05, momentum=0.1, affine=True, track_running_stats=True)\n",
      "      (relu): ReLU(inplace=True)\n",
      "    )\n",
      "  )\n",
      "  (layer4): Sequential(\n",
      "    (0): Bottleneck(\n",
      "      (conv1): Conv2d(1024, 512, kernel_size=(1, 1), stride=(1, 1), bias=False)\n",
      "      (bn1): BatchNorm2d(512, eps=1e-05, momentum=0.1, affine=True, track_running_stats=True)\n",
      "      (conv2): Conv2d(512, 512, kernel_size=(3, 3), stride=(2, 2), padding=(1, 1), bias=False)\n",
      "      (bn2): BatchNorm2d(512, eps=1e-05, momentum=0.1, affine=True, track_running_stats=True)\n",
      "      (conv3): Conv2d(512, 2048, kernel_size=(1, 1), stride=(1, 1), bias=False)\n",
      "      (bn3): BatchNorm2d(2048, eps=1e-05, momentum=0.1, affine=True, track_running_stats=True)\n",
      "      (relu): ReLU(inplace=True)\n",
      "      (downsample): Sequential(\n",
      "        (0): Conv2d(1024, 2048, kernel_size=(1, 1), stride=(2, 2), bias=False)\n",
      "        (1): BatchNorm2d(2048, eps=1e-05, momentum=0.1, affine=True, track_running_stats=True)\n",
      "      )\n",
      "    )\n",
      "    (1): Bottleneck(\n",
      "      (conv1): Conv2d(2048, 512, kernel_size=(1, 1), stride=(1, 1), bias=False)\n",
      "      (bn1): BatchNorm2d(512, eps=1e-05, momentum=0.1, affine=True, track_running_stats=True)\n",
      "      (conv2): Conv2d(512, 512, kernel_size=(3, 3), stride=(1, 1), padding=(1, 1), bias=False)\n",
      "      (bn2): BatchNorm2d(512, eps=1e-05, momentum=0.1, affine=True, track_running_stats=True)\n",
      "      (conv3): Conv2d(512, 2048, kernel_size=(1, 1), stride=(1, 1), bias=False)\n",
      "      (bn3): BatchNorm2d(2048, eps=1e-05, momentum=0.1, affine=True, track_running_stats=True)\n",
      "      (relu): ReLU(inplace=True)\n",
      "    )\n",
      "    (2): Bottleneck(\n",
      "      (conv1): Conv2d(2048, 512, kernel_size=(1, 1), stride=(1, 1), bias=False)\n",
      "      (bn1): BatchNorm2d(512, eps=1e-05, momentum=0.1, affine=True, track_running_stats=True)\n",
      "      (conv2): Conv2d(512, 512, kernel_size=(3, 3), stride=(1, 1), padding=(1, 1), bias=False)\n",
      "      (bn2): BatchNorm2d(512, eps=1e-05, momentum=0.1, affine=True, track_running_stats=True)\n",
      "      (conv3): Conv2d(512, 2048, kernel_size=(1, 1), stride=(1, 1), bias=False)\n",
      "      (bn3): BatchNorm2d(2048, eps=1e-05, momentum=0.1, affine=True, track_running_stats=True)\n",
      "      (relu): ReLU(inplace=True)\n",
      "    )\n",
      "  )\n",
      "  (avgpool): AdaptiveAvgPool2d(output_size=(1, 1))\n",
      "  (fc): Linear(in_features=2048, out_features=10, bias=True)\n",
      ")\n",
      "cuda\n"
     ]
    }
   ],
   "source": [
    "#Modify conv1 to suit CIFAR-10\n",
    "pretrained_model.conv1 = nn.Conv2d(3, 64, kernel_size=3, stride=1, padding=1, bias=False)\n",
    "# Modify the final fully connected layer according to the number of classes\n",
    "num_features = pretrained_model.fc.in_features\n",
    "pretrained_model.fc = nn.Linear(num_features, 10)\n",
    "model = pretrained_model.to(device)\n",
    "print(model)\n",
    "print(device)"
   ],
   "metadata": {
    "collapsed": false,
    "ExecuteTime": {
     "end_time": "2024-04-24T18:10:23.289561Z",
     "start_time": "2024-04-24T18:10:23.135391500Z"
    }
   },
   "id": "b3c920df1cec2004",
   "execution_count": 29
  },
  {
   "cell_type": "markdown",
   "source": [
    "### Defining hyperparameters and train pretrained model"
   ],
   "metadata": {
    "collapsed": false
   },
   "id": "1ff963a1b56adbe7"
  },
  {
   "cell_type": "code",
   "outputs": [
    {
     "name": "stderr",
     "output_type": "stream",
     "text": [
      "C:\\Users\\roman\\anaconda3\\envs\\gpu_env\\Lib\\site-packages\\torch\\optim\\lr_scheduler.py:28: UserWarning: The verbose parameter is deprecated. Please use get_last_lr() to access the learning rate.\n",
      "  warnings.warn(\"The verbose parameter is deprecated. Please use get_last_lr() \"\n"
     ]
    }
   ],
   "source": [
    "epochs = 20\n",
    "criterion = nn.CrossEntropyLoss()\n",
    "optimizer = SGD(pretrained_model.parameters(), lr=0.01, momentum=0.9)\n",
    "scheduler = lr_scheduler.ReduceLROnPlateau(optimizer, 'min', factor=0.3, patience=2, verbose=True, min_lr=0.0001)"
   ],
   "metadata": {
    "collapsed": false,
    "ExecuteTime": {
     "end_time": "2024-04-24T18:10:25.049208400Z",
     "start_time": "2024-04-24T18:10:25.036984900Z"
    }
   },
   "id": "f09d602923607fbb",
   "execution_count": 30
  },
  {
   "cell_type": "code",
   "outputs": [
    {
     "name": "stderr",
     "output_type": "stream",
     "text": [
      "100%|██████████| 390/390 [00:46<00:00,  8.45it/s, Loss=1.229225]\n"
     ]
    },
    {
     "name": "stdout",
     "output_type": "stream",
     "text": [
      "Train Epoch: 1, elapsed time:46.17s\n",
      "Training accuracy 56.442, test accuracy 73.47\n",
      "Training loss 479.39755618572235, test loss 59.969372153282166\n"
     ]
    },
    {
     "name": "stderr",
     "output_type": "stream",
     "text": [
      "100%|██████████| 390/390 [00:45<00:00,  8.54it/s, Loss=0.715726]\n"
     ]
    },
    {
     "name": "stdout",
     "output_type": "stream",
     "text": [
      "Train Epoch: 2, elapsed time:45.69s\n",
      "Training accuracy 75.25, test accuracy 77.98\n",
      "Training loss 279.1330566704273, test loss 50.49508208036423\n"
     ]
    },
    {
     "name": "stderr",
     "output_type": "stream",
     "text": [
      "100%|██████████| 390/390 [00:44<00:00,  8.83it/s, Loss=0.564335]\n"
     ]
    },
    {
     "name": "stdout",
     "output_type": "stream",
     "text": [
      "Train Epoch: 3, elapsed time:44.19s\n",
      "Training accuracy 80.23, test accuracy 81.75\n",
      "Training loss 220.09064388275146, test loss 42.125975638628006\n"
     ]
    },
    {
     "name": "stderr",
     "output_type": "stream",
     "text": [
      "100%|██████████| 390/390 [00:45<00:00,  8.61it/s, Loss=0.476314]\n"
     ]
    },
    {
     "name": "stdout",
     "output_type": "stream",
     "text": [
      "Train Epoch: 4, elapsed time:45.30s\n",
      "Training accuracy 83.194, test accuracy 86.22\n",
      "Training loss 185.7622802555561, test loss 31.396505802869797\n"
     ]
    },
    {
     "name": "stderr",
     "output_type": "stream",
     "text": [
      "100%|██████████| 390/390 [00:42<00:00,  9.28it/s, Loss=0.423431]\n"
     ]
    },
    {
     "name": "stdout",
     "output_type": "stream",
     "text": [
      "Train Epoch: 5, elapsed time:42.05s\n",
      "Training accuracy 85.016, test accuracy 87.46\n",
      "Training loss 165.137995287776, test loss 29.41676414012909\n"
     ]
    },
    {
     "name": "stderr",
     "output_type": "stream",
     "text": [
      "100%|██████████| 390/390 [00:43<00:00,  8.88it/s, Loss=0.384328]\n"
     ]
    },
    {
     "name": "stdout",
     "output_type": "stream",
     "text": [
      "Train Epoch: 6, elapsed time:43.94s\n",
      "Training accuracy 86.312, test accuracy 87.71\n",
      "Training loss 149.887880936265, test loss 29.20339871942997\n"
     ]
    },
    {
     "name": "stderr",
     "output_type": "stream",
     "text": [
      "100%|██████████| 390/390 [00:44<00:00,  8.81it/s, Loss=0.347152]\n"
     ]
    },
    {
     "name": "stdout",
     "output_type": "stream",
     "text": [
      "Train Epoch: 7, elapsed time:44.26s\n",
      "Training accuracy 87.704, test accuracy 88.09\n",
      "Training loss 135.38932456076145, test loss 27.647958926856518\n"
     ]
    },
    {
     "name": "stderr",
     "output_type": "stream",
     "text": [
      "100%|██████████| 390/390 [00:44<00:00,  8.78it/s, Loss=0.323485]"
     ]
    },
    {
     "name": "stdout",
     "output_type": "stream",
     "text": [
      "Train Epoch: 8, elapsed time:44.40s\n"
     ]
    },
    {
     "name": "stderr",
     "output_type": "stream",
     "text": [
      "\n"
     ]
    },
    {
     "name": "stdout",
     "output_type": "stream",
     "text": [
      "Training accuracy 88.446, test accuracy 88.68\n",
      "Training loss 126.15908908843994, test loss 26.207985058426857\n"
     ]
    },
    {
     "name": "stderr",
     "output_type": "stream",
     "text": [
      "100%|██████████| 390/390 [00:43<00:00,  9.06it/s, Loss=0.295214]\n"
     ]
    },
    {
     "name": "stdout",
     "output_type": "stream",
     "text": [
      "Train Epoch: 9, elapsed time:43.04s\n",
      "Training accuracy 89.482, test accuracy 88.6\n",
      "Training loss 115.13360287249088, test loss 27.82532472908497\n"
     ]
    },
    {
     "name": "stderr",
     "output_type": "stream",
     "text": [
      "100%|██████████| 390/390 [00:44<00:00,  8.79it/s, Loss=0.277545]\n"
     ]
    },
    {
     "name": "stdout",
     "output_type": "stream",
     "text": [
      "Train Epoch: 10, elapsed time:44.35s\n",
      "Training accuracy 89.984, test accuracy 89.36\n",
      "Training loss 108.24264468997717, test loss 25.8801991045475\n"
     ]
    },
    {
     "name": "stderr",
     "output_type": "stream",
     "text": [
      "100%|██████████| 390/390 [00:46<00:00,  8.47it/s, Loss=0.256444]\n"
     ]
    },
    {
     "name": "stdout",
     "output_type": "stream",
     "text": [
      "Train Epoch: 11, elapsed time:46.04s\n",
      "Training accuracy 90.802, test accuracy 89.73\n",
      "Training loss 100.01332538574934, test loss 24.712469577789307\n"
     ]
    },
    {
     "name": "stderr",
     "output_type": "stream",
     "text": [
      "100%|██████████| 390/390 [00:43<00:00,  9.02it/s, Loss=0.237412]\n"
     ]
    },
    {
     "name": "stdout",
     "output_type": "stream",
     "text": [
      "Train Epoch: 12, elapsed time:43.26s\n",
      "Training accuracy 91.434, test accuracy 88.87\n",
      "Training loss 92.59053409844637, test loss 26.34539870917797\n"
     ]
    },
    {
     "name": "stderr",
     "output_type": "stream",
     "text": [
      "100%|██████████| 390/390 [00:43<00:00,  8.96it/s, Loss=0.223933]\n"
     ]
    },
    {
     "name": "stdout",
     "output_type": "stream",
     "text": [
      "Train Epoch: 13, elapsed time:43.51s\n",
      "Training accuracy 91.964, test accuracy 90.75\n",
      "Training loss 87.33387926220894, test loss 22.203635573387146\n"
     ]
    },
    {
     "name": "stderr",
     "output_type": "stream",
     "text": [
      "100%|██████████| 390/390 [00:42<00:00,  9.10it/s, Loss=0.208850]\n"
     ]
    },
    {
     "name": "stdout",
     "output_type": "stream",
     "text": [
      "Train Epoch: 14, elapsed time:42.88s\n",
      "Training accuracy 92.388, test accuracy 90.05\n",
      "Training loss 81.45151249319315, test loss 24.25476135313511\n"
     ]
    },
    {
     "name": "stderr",
     "output_type": "stream",
     "text": [
      "100%|██████████| 390/390 [00:42<00:00,  9.21it/s, Loss=0.199536]\n"
     ]
    },
    {
     "name": "stdout",
     "output_type": "stream",
     "text": [
      "Train Epoch: 15, elapsed time:42.35s\n",
      "Training accuracy 92.788, test accuracy 89.91\n",
      "Training loss 77.8189089000225, test loss 24.527527436614037\n"
     ]
    },
    {
     "name": "stderr",
     "output_type": "stream",
     "text": [
      "100%|██████████| 390/390 [00:42<00:00,  9.26it/s, Loss=0.188597]\n"
     ]
    },
    {
     "name": "stdout",
     "output_type": "stream",
     "text": [
      "Train Epoch: 16, elapsed time:42.10s\n",
      "Training accuracy 93.168, test accuracy 89.86\n",
      "Training loss 73.55277848243713, test loss 26.47429023683071\n"
     ]
    },
    {
     "name": "stderr",
     "output_type": "stream",
     "text": [
      "100%|██████████| 390/390 [00:43<00:00,  9.02it/s, Loss=0.173914]\n"
     ]
    },
    {
     "name": "stdout",
     "output_type": "stream",
     "text": [
      "Train Epoch: 17, elapsed time:43.22s\n",
      "Training accuracy 93.692, test accuracy 90.07\n",
      "Training loss 67.82642460986972, test loss 24.21567030251026\n"
     ]
    },
    {
     "name": "stderr",
     "output_type": "stream",
     "text": [
      "100%|██████████| 390/390 [00:43<00:00,  8.98it/s, Loss=0.168548]\n"
     ]
    },
    {
     "name": "stdout",
     "output_type": "stream",
     "text": [
      "Train Epoch: 18, elapsed time:43.43s\n",
      "Training accuracy 93.918, test accuracy 91.12\n",
      "Training loss 65.73370351269841, test loss 22.587269887328148\n"
     ]
    },
    {
     "name": "stderr",
     "output_type": "stream",
     "text": [
      "100%|██████████| 390/390 [00:44<00:00,  8.85it/s, Loss=0.157886]\n"
     ]
    },
    {
     "name": "stdout",
     "output_type": "stream",
     "text": [
      "Train Epoch: 19, elapsed time:44.08s\n",
      "Training accuracy 94.19, test accuracy 90.66\n",
      "Training loss 61.57542236149311, test loss 23.845465306192636\n"
     ]
    },
    {
     "name": "stderr",
     "output_type": "stream",
     "text": [
      "100%|██████████| 390/390 [00:44<00:00,  8.84it/s, Loss=0.145643]\n"
     ]
    },
    {
     "name": "stdout",
     "output_type": "stream",
     "text": [
      "Train Epoch: 20, elapsed time:44.11s\n",
      "Training accuracy 94.8, test accuracy 90.95\n",
      "Training loss 56.80082455277443, test loss 24.358516313135624\n"
     ]
    }
   ],
   "source": [
    "def training():\n",
    "    for epoch in range(1, epochs + 1):\n",
    "        train_loss, train_acc = train(pretrained_model, device, train_data_loader, criterion, optimizer, epoch)\n",
    "        # Update learning rate if needed\n",
    "        scheduler.step(train_loss)\n",
    "        test_loss, test_acc = test(pretrained_model, device, test_data_loader, criterion)\n",
    "        print(f\"Training accuracy {train_acc}, test accuracy {test_acc}\")\n",
    "        print(f\"Training loss {train_loss}, test loss {test_loss}\")\n",
    "\n",
    "    torch.save(pretrained_model.state_dict(), \"pretrained_model.pt\")\n",
    "\n",
    "training()"
   ],
   "metadata": {
    "collapsed": false,
    "ExecuteTime": {
     "end_time": "2024-04-24T18:28:35.496267500Z",
     "start_time": "2024-04-24T18:10:26.935791Z"
    }
   },
   "id": "a5a8f0a681d23ed1",
   "execution_count": 31
  },
  {
   "cell_type": "markdown",
   "source": [
    "# Evaluation"
   ],
   "metadata": {
    "collapsed": false
   },
   "id": "43a015c2700247f4"
  },
  {
   "cell_type": "code",
   "outputs": [],
   "source": [
    "# Our Custom Model\n",
    "model1 = custom_model\n",
    "# Pretrained model\n",
    "model2 = pretrained_model\n",
    "model1.to(device)\n",
    "model2.to(device)\n",
    "\n",
    "# Load test dataset\n",
    "test_images = np.load('task_2_test_images.npy')\n",
    "test_labels = np.load('task_2_test_labels.npy')\n",
    "\n",
    "class CustomDataset(Dataset):\n",
    "    def __init__(self, data, labels, transform=None):\n",
    "        self.data = data\n",
    "        self.labels = labels\n",
    "        self.transform = transform\n",
    "\n",
    "    def __len__(self):\n",
    "        return len(self.data)\n",
    "\n",
    "    def __getitem__(self, idx):\n",
    "        sample = self.data[idx]\n",
    "        label = self.labels[idx]\n",
    "\n",
    "        if self.transform:\n",
    "            sample = self.transform(sample)\n",
    "\n",
    "        return sample, label\n",
    "\n",
    "# create test_loader\n",
    "test_dataset = CustomDataset(test_images, test_labels, transform=test_transforms)\n",
    "test_loader = DataLoader(test_dataset, batch_size=128, shuffle=False)"
   ],
   "metadata": {
    "collapsed": false,
    "ExecuteTime": {
     "end_time": "2024-04-24T18:28:35.542307500Z",
     "start_time": "2024-04-24T18:28:35.503267500Z"
    }
   },
   "id": "862848cc86613c22",
   "execution_count": 32
  },
  {
   "cell_type": "code",
   "outputs": [],
   "source": [
    "def calculate_metrics(model, device, test_loader):\n",
    "    \"\"\"\n",
    "    This function calculates roc_auc_score of the model and its inference speed and accuracy\n",
    "    :param model: given model\n",
    "    :param device: given device\n",
    "    :param test_loader: loader with data\n",
    "    :return: roc_auc_score, inference time, accuracy_score\n",
    "    \"\"\"\n",
    "    model.eval()\n",
    "    all_preds = []\n",
    "    all_targets = []\n",
    "    total_time = 0\n",
    "    num_samples = 0\n",
    "\n",
    "    with torch.no_grad():\n",
    "        for data, target in test_loader:\n",
    "            data, target = data.to(device), target.to(device)\n",
    "            start_time = time()\n",
    "            output = model(data)\n",
    "            end_time = time()\n",
    "            total_time += end_time - start_time\n",
    "            num_samples += len(data)\n",
    "            # Calculate predicted probabilities\n",
    "            pred = output.cpu()\n",
    "            preds = torch.nn.functional.softmax(output, dim=1)\n",
    "            all_preds.append(preds.cpu().numpy())\n",
    "            all_targets.append(target.cpu().numpy())\n",
    "\n",
    "    inference_speed = num_samples / total_time  # Images per second\n",
    "    all_preds = np.concatenate(all_preds)\n",
    "    all_targets = np.concatenate(all_targets)\n",
    "    roc_auc = roc_auc_score(all_targets, all_preds, multi_class='ovr')\n",
    "    return roc_auc, inference_speed\n",
    "\n",
    "\n",
    "def calculate_model_size(model):\n",
    "    \"\"\"\n",
    "    Source: https://stackoverflow.com/questions/71851474/how-to-find-the-size-of-a-deep-learning-model\n",
    "    :param model: model\n",
    "    :return: size of the model in MB\n",
    "    \"\"\"\n",
    "    param_size = 0\n",
    "    for param in model.parameters():\n",
    "        param_size += param.nelement() * param.element_size()\n",
    "    buffer_size = 0\n",
    "    for buffer in model.buffers():\n",
    "        buffer_size += buffer.nelement() * buffer.element_size()\n",
    "    size_all_mb = (param_size + buffer_size) / 1024 ** 2\n",
    "    return size_all_mb"
   ],
   "metadata": {
    "collapsed": false,
    "ExecuteTime": {
     "end_time": "2024-04-24T18:28:35.553932700Z",
     "start_time": "2024-04-24T18:28:35.543307600Z"
    }
   },
   "id": "cf658e2e93cd4ae8",
   "execution_count": 33
  },
  {
   "cell_type": "markdown",
   "source": [
    "### Calulate Metrics:\n",
    "- **AUC-ROC**\n",
    "- **Model Size**\n",
    "- **Inference Speed**"
   ],
   "metadata": {
    "collapsed": false
   },
   "id": "7ae60a0453a6c53d"
  },
  {
   "cell_type": "code",
   "outputs": [
    {
     "name": "stdout",
     "output_type": "stream",
     "text": [
      "Custom model Accuracy 73.714%\n",
      "Modified resnet50 model Accuracy 80.916%\n",
      "Custom model AUC-ROC 0.961\n",
      "Modified resnet50 model AUC-ROC 0.979\n",
      "Custom model Size 7.514 MB\n",
      "Modified resnet50 model Size 89.928 MB\n",
      "Custom model Inference Time: 71131.797 images/second\n",
      "Modified resnet50 model Inference Time: 12527.143 images/second\n"
     ]
    }
   ],
   "source": [
    "# Measure AUC-ROC and Inference Speed\n",
    "auc_roc_model1, inference_time_model1 = calculate_metrics(model1, device, test_loader)\n",
    "auc_roc_model2, inference_time_model2 = calculate_metrics(model2, device, test_loader)\n",
    "_, acc1 = test(model1, device, test_loader, criterion)\n",
    "_, acc2 = test(model2, device, test_loader, criterion)\n",
    "\n",
    "# Measure Model Size\n",
    "model1_size_mb = calculate_model_size(model1)\n",
    "model2_size_mb = calculate_model_size(model2)\n",
    "\n",
    "# Display results\n",
    "print(f\"Custom model Accuracy {acc1:.3f}%\")\n",
    "print(f\"Modified resnet50 model Accuracy {acc2:.3f}%\")\n",
    "print(f\"Custom model AUC-ROC {auc_roc_model1:.3f}\")\n",
    "print(f\"Modified resnet50 model AUC-ROC {auc_roc_model2:.3f}\")\n",
    "print(f\"Custom model Size {model1_size_mb:.3f} MB\")\n",
    "print(f\"Modified resnet50 model Size { model2_size_mb:.3f} MB\")\n",
    "print(f\"Custom model Inference Time: {inference_time_model1:.3f} images/second\")\n",
    "print(f\"Modified resnet50 model Inference Time: {inference_time_model2:.3f} images/second\")"
   ],
   "metadata": {
    "collapsed": false,
    "ExecuteTime": {
     "end_time": "2024-04-24T18:28:44.736794300Z",
     "start_time": "2024-04-24T18:28:35.552684600Z"
    }
   },
   "id": "ffb8c342b908ee5f",
   "execution_count": 34
  },
  {
   "cell_type": "markdown",
   "source": [
    "## Сonclusions from metrics\n",
    "- **Accuracy score**: The modified model has accuracy almost 81% that is more than 7% bigger than custom model. Therefore, modified model defines images more precisely\n",
    "\n",
    "- **Performance (AUC-ROC)**: The modified ResNet50 model achieves a higher AUC-ROC score of 0.979 compared to the custom model's AUC-ROC score of 0.961. This indicates that the modified ResNet50 model performs better in terms of classification accuracy on the cifar10 dataset.\n",
    "\n",
    "- **Size**: The size of the modified ResNet50 model is significantly larger than that of the custom model. The modified ResNet50 model occupies 89.928 MB of storage space, whereas the custom model is much smaller, occupying only 7.514 MB. This suggests that the modified ResNet50 model is more complex and requires more parameters, leading to a larger memory footprint.\n",
    "\n",
    "- **Inference Speed**: The custom model achieves a faster inference speed of 71131.797 images/second compared to the modified ResNet50 model's inference speed of 12527.143 images/second. This implies that the custom model is more efficient in terms of inference time, due to its simpler architecture and smaller size.\n",
    "\n",
    "### Insights:\n",
    "- The modified ResNet50 model outperforms the custom model in terms of classification accuracy, and AUC-ROC score. This indicates that the modified ResNet50 model might be better suited for tasks where high accuracy is paramount.\n",
    "- However, the trade-off for this improved performance is a larger model size, which can be a concern in resource-constrained environments, especially in deployment scenarios where memory or storage space is limited.\n",
    "- On the other hand, the custom model offers faster inference speed, making it more suitable for applications where real-time processing or low latency is critical.\n",
    "- Ultimately, the choice between the two models depends on the specific requirements of the application, considering factors such as performance, size, and inference speed, as well as resource constraints and deployment environment."
   ],
   "metadata": {
    "collapsed": false
   },
   "id": "c3b6995356268cd2"
  },
  {
   "cell_type": "markdown",
   "source": [
    "### Saving custom model for bonus task"
   ],
   "metadata": {
    "collapsed": false
   },
   "id": "9938a9fa970a65ac"
  },
  {
   "cell_type": "code",
   "outputs": [],
   "source": [
    "torch.save(model1, 'RomanMakeev.pth')"
   ],
   "metadata": {
    "collapsed": false,
    "ExecuteTime": {
     "end_time": "2024-04-24T18:30:13.020598100Z",
     "start_time": "2024-04-24T18:30:12.982925100Z"
    }
   },
   "id": "71e4285a4d76001a",
   "execution_count": 35
  },
  {
   "cell_type": "code",
   "outputs": [],
   "source": [],
   "metadata": {
    "collapsed": false
   },
   "id": "e822c416a9822bd9"
  }
 ],
 "metadata": {
  "kernelspec": {
   "name": "test_env_gpu",
   "language": "python",
   "display_name": "Python (GPU)"
  },
  "language_info": {
   "codemirror_mode": {
    "name": "ipython",
    "version": 3
   },
   "file_extension": ".py",
   "mimetype": "text/x-python",
   "name": "python",
   "nbconvert_exporter": "python",
   "pygments_lexer": "ipython3",
   "version": "3.9.13"
  }
 },
 "nbformat": 4,
 "nbformat_minor": 5
}
