{
 "cells": [
  {
   "cell_type": "markdown",
   "source": [
    "### Import libraries"
   ],
   "metadata": {
    "collapsed": false
   }
  },
  {
   "cell_type": "code",
   "outputs": [],
   "source": [
    "import torch\n",
    "from torch.utils import data\n",
    "from torch.utils.data import Dataset, DataLoader\n",
    "from torch.optim import SGD, lr_scheduler, Adam\n",
    "import torch.nn.functional as F\n",
    "import torch.nn as nn\n",
    "from torchvision import datasets\n",
    "import torchvision.transforms as transforms\n",
    "from torchvision import models\n",
    "import operator\n",
    "from tqdm import tqdm\n",
    "import copy\n",
    "from copy import deepcopy\n",
    "import numpy as np\n",
    "from sklearn.metrics import roc_auc_score\n",
    "from time import time\n",
    "import matplotlib.pyplot as plt\n",
    "import random\n",
    "import torch\n",
    "from torch.utils.data import DataLoader, SubsetRandomSampler\n",
    "from sklearn.model_selection import StratifiedShuffleSplit\n",
    "from torchvision import datasets, transforms\n",
    "from torch.utils import data\n",
    "import matplotlib.pyplot as plt\n",
    "import numpy as np\n",
    "from sklearn.metrics import accuracy_score\n",
    "import pandas as pd"
   ],
   "metadata": {
    "collapsed": false,
    "ExecuteTime": {
     "end_time": "2024-05-01T09:15:21.646084900Z",
     "start_time": "2024-05-01T09:15:09.005174300Z"
    }
   },
   "execution_count": 1
  },
  {
   "cell_type": "markdown",
   "source": [
    "### Implementation of early stopping technique"
   ],
   "metadata": {
    "collapsed": false
   }
  },
  {
   "cell_type": "code",
   "outputs": [],
   "source": [
    "class EarlyStopping():\n",
    "    \"\"\"\n",
    "    This class represents early stopping technique\n",
    "    \"\"\"\n",
    "\n",
    "    def __init__(self, tolerance=5, min_delta=0, mode='min'):\n",
    "        \"\"\"\n",
    "        :param tolerance: the maximum number of times without improvements \n",
    "        :param min_delta: the smallest amount of improvement\n",
    "        :param mode: minimize or maximize\n",
    "        \"\"\"\n",
    "        self.tolerance = tolerance\n",
    "        self.min_delta = min_delta\n",
    "        self.mode = mode\n",
    "        self.counter = 0\n",
    "        self.early_stop = False\n",
    "        self.prev_metric = np.inf if mode == 'min' else -np.inf\n",
    "        self.operation = operator.gt if mode == 'min' else operator.lt\n",
    "\n",
    "    def __call__(self, metric) -> bool:\n",
    "        delta = (metric - self.prev_metric)\n",
    "\n",
    "        if self.operation(delta, self.min_delta):\n",
    "            self.counter += 1\n",
    "        else:\n",
    "            self.counter = 0\n",
    "            self.prev_metric = metric\n",
    "\n",
    "        if self.counter >= self.tolerance:\n",
    "            self.early_stop = True\n",
    "        return self.early_stop"
   ],
   "metadata": {
    "collapsed": false,
    "ExecuteTime": {
     "end_time": "2024-05-01T09:15:22.775836800Z",
     "start_time": "2024-05-01T09:15:22.743695500Z"
    }
   },
   "execution_count": 2
  },
  {
   "cell_type": "markdown",
   "metadata": {
    "id": "YG-rK84RA-po"
   },
   "source": [
    "## Task 1. Baseline model [0pt]"
   ]
  },
  {
   "cell_type": "markdown",
   "source": [
    "### Download baseline model from 2 task"
   ],
   "metadata": {
    "collapsed": false
   }
  },
  {
   "cell_type": "code",
   "outputs": [],
   "source": [
    "class CustomModel(nn.Module):\n",
    "    def __init__(self):\n",
    "        super(CustomModel, self).__init__()\n",
    "        # First convolutional layer\n",
    "        self.conv1 = nn.Sequential(\n",
    "            nn.Conv2d(3, 32, kernel_size=3, padding=1),\n",
    "            nn.ReLU(),\n",
    "            nn.BatchNorm2d(32),\n",
    "            nn.MaxPool2d(2, 2)\n",
    "        )\n",
    "        # Second convolutional layer with residual connection\n",
    "        self.conv2 = nn.Sequential(\n",
    "            nn.Conv2d(32, 64, kernel_size=3, padding=1),\n",
    "            nn.ReLU(),\n",
    "            nn.BatchNorm2d(64),\n",
    "            nn.MaxPool2d(2, 2)\n",
    "        )\n",
    "        # Third convolutional layer with residual connection\n",
    "        self.conv3 = nn.Sequential(\n",
    "            nn.Conv2d(64, 128, kernel_size=3, padding=1),\n",
    "            nn.ReLU(),\n",
    "            nn.BatchNorm2d(128),\n",
    "            nn.MaxPool2d(2, 2)\n",
    "        )\n",
    "        # Fourth convolutional layer with residual connection\n",
    "        self.conv4 = nn.Sequential(\n",
    "            nn.Conv2d(128, 256, kernel_size=3, padding=1),\n",
    "            nn.ReLU(),\n",
    "            nn.BatchNorm2d(256),\n",
    "            nn.MaxPool2d(2, 2)\n",
    "        )\n",
    "        # Fully connected layers\n",
    "        self.fc1 = nn.Sequential(\n",
    "            nn.Linear(256 * 2 * 2, 1024),\n",
    "            nn.ReLU(),\n",
    "            nn.Dropout(0.5),\n",
    "            nn.Linear(1024, 512),\n",
    "            nn.ReLU(),\n",
    "            nn.Dropout(0.5),\n",
    "            nn.Linear(512, 10)\n",
    "        )\n",
    "\n",
    "    def forward(self, x):\n",
    "        x = self.conv1(x)\n",
    "        x = self.conv2(x)\n",
    "        x = self.conv3(x)\n",
    "        x = self.conv4(x)\n",
    "        x = torch.flatten(x, 1)\n",
    "        x = self.fc1(x)\n",
    "        return F.log_softmax(x, dim=1)\n",
    "\n",
    "\n",
    "baselinde_model = torch.load('RomanMakeev.pth')"
   ],
   "metadata": {
    "collapsed": false,
    "ExecuteTime": {
     "end_time": "2024-05-01T09:16:35.517602900Z",
     "start_time": "2024-05-01T09:16:35.482429400Z"
    }
   },
   "execution_count": 7
  },
  {
   "cell_type": "markdown",
   "metadata": {
    "id": "gGlcbWXl9Dg-"
   },
   "source": [
    "## Task 2. Self-supervised learning [12pts]"
   ]
  },
  {
   "cell_type": "markdown",
   "source": [
    "### Load the data"
   ],
   "metadata": {
    "collapsed": false
   }
  },
  {
   "cell_type": "code",
   "outputs": [
    {
     "name": "stdout",
     "output_type": "stream",
     "text": [
      "Files already downloaded and verified\n",
      "Files already downloaded and verified\n"
     ]
    }
   ],
   "source": [
    "dataset_path = 'cifar10'\n",
    "BATCH_SIZE = 256\n",
    "\n",
    "train_transforms = transforms.Compose([\n",
    "    transforms.ToTensor(),\n",
    "    transforms.Normalize((0.5, 0.5, 0.5), (0.5, 0.5, 0.5)),\n",
    "])\n",
    "\n",
    "test_transforms = transforms.Compose([\n",
    "    transforms.ToTensor(),\n",
    "    transforms.Normalize((0.5, 0.5, 0.5), (0.5, 0.5, 0.5)),\n",
    "])\n",
    "\n",
    "train_dataset = datasets.CIFAR10(root=dataset_path,\n",
    "                                 train=True,\n",
    "                                 transform=train_transforms,\n",
    "                                 download=True)\n",
    "\n",
    "train_loader = data.DataLoader(train_dataset,\n",
    "                               batch_size=BATCH_SIZE,\n",
    "                               shuffle=True,\n",
    "                               drop_last=True,\n",
    "                               num_workers=2)\n",
    "\n",
    "test_dataset = datasets.CIFAR10(root=dataset_path,\n",
    "                                train=False,\n",
    "                                transform=test_transforms,\n",
    "                                download=True)\n",
    "\n",
    "test_loader = data.DataLoader(test_dataset,\n",
    "                              batch_size=BATCH_SIZE,\n",
    "                              shuffle=False,\n",
    "                              num_workers=2)"
   ],
   "metadata": {
    "collapsed": false,
    "ExecuteTime": {
     "end_time": "2024-05-01T09:16:39.091118900Z",
     "start_time": "2024-05-01T09:16:37.152960Z"
    }
   },
   "execution_count": 8
  },
  {
   "cell_type": "markdown",
   "source": [
    "### Make dataloader with 10 percent of train dataset"
   ],
   "metadata": {
    "collapsed": false
   }
  },
  {
   "cell_type": "code",
   "outputs": [],
   "source": [
    "labels = train_dataset.targets\n",
    "indices = list(range(len(labels)))\n",
    "sss = StratifiedShuffleSplit(n_splits=1, train_size=0.1, random_state=42)\n",
    "train_indices, _ = next(sss.split(indices, labels))\n",
    "sampled_train_sampler = SubsetRandomSampler(train_indices)\n",
    "\n",
    "# dataloader with 10% of train dataset\n",
    "train_loader_10_percent = DataLoader(train_dataset, batch_size=BATCH_SIZE, sampler=sampled_train_sampler)"
   ],
   "metadata": {
    "collapsed": false,
    "ExecuteTime": {
     "end_time": "2024-05-01T09:16:43.031990800Z",
     "start_time": "2024-05-01T09:16:42.993259700Z"
    }
   },
   "execution_count": 9
  },
  {
   "cell_type": "markdown",
   "source": [
    "### Adding Noise\n",
    "Since we have a small training dataset let's add gaussian to 50% of images and add salt and papper noise to the other 50% of images in the datased"
   ],
   "metadata": {
    "collapsed": false
   }
  },
  {
   "cell_type": "code",
   "outputs": [],
   "source": [
    "# Define a function to add Gaussian noise to images\n",
    "def add_gaussian_noise(image, mean=0, std=0.1):\n",
    "    noise = torch.randn_like(image) * std + mean\n",
    "    noisy_image = image + noise\n",
    "    return noisy_image\n",
    "\n",
    "# Define a function to add Gaussian noise to images\n",
    "def add_salt_and_pepper_noise(image, salt_vs_pepper=0.5, amount=0.04):\n",
    "    noisy_image = image.clone()\n",
    "    salt_mask = torch.rand_like(image) < amount * salt_vs_pepper\n",
    "    pepper_mask = torch.rand_like(image) < amount * (1 - salt_vs_pepper)\n",
    "    noisy_image[salt_mask] = 1.0\n",
    "    noisy_image[pepper_mask] = 0.0\n",
    "    return noisy_image\n",
    "\n",
    "class NoisyImageDataset(Dataset):\n",
    "    def __init__(self, dataset):\n",
    "        self.dataset = dataset\n",
    "\n",
    "    def __len__(self):\n",
    "        return len(self.dataset)\n",
    "\n",
    "    def __getitem__(self, idx):\n",
    "        # Get original image and label from the dataset\n",
    "        image, label = self.dataset[idx]\n",
    "\n",
    "        # Apply noise to the image: 50% - gaussian noise, 50% - salt and pepper noise\n",
    "        noise_func = random.choice([add_gaussian_noise, add_salt_and_pepper_noise])\n",
    "        noisy_image = noise_func(image)\n",
    "        \n",
    "        return noisy_image, image, label"
   ],
   "metadata": {
    "collapsed": false,
    "ExecuteTime": {
     "end_time": "2024-05-01T09:16:43.877803700Z",
     "start_time": "2024-05-01T09:16:43.870161700Z"
    }
   },
   "execution_count": 10
  },
  {
   "cell_type": "code",
   "outputs": [],
   "source": [
    "# Loader with noisy images\n",
    "train_loader_noisy = DataLoader(\n",
    "    NoisyImageDataset(train_dataset),\n",
    "    batch_size=BATCH_SIZE,\n",
    ")\n",
    "\n",
    "# Loader with 10% of test dataset with noise\n",
    "train_loader_noisy_10 = DataLoader(\n",
    "    NoisyImageDataset(train_dataset),\n",
    "    batch_size=BATCH_SIZE,\n",
    "    sampler=sampled_train_sampler\n",
    ")\n",
    "\n",
    "# test dataset with noise\n",
    "test_loader_noisy = DataLoader(\n",
    "    NoisyImageDataset(test_dataset),\n",
    "    batch_size=BATCH_SIZE\n",
    ")"
   ],
   "metadata": {
    "collapsed": false,
    "ExecuteTime": {
     "end_time": "2024-05-01T09:16:45.541407700Z",
     "start_time": "2024-05-01T09:16:45.517426500Z"
    }
   },
   "execution_count": 11
  },
  {
   "cell_type": "markdown",
   "source": [
    "Let's compare images with and without noise"
   ],
   "metadata": {
    "collapsed": false
   }
  },
  {
   "cell_type": "code",
   "outputs": [
    {
     "name": "stderr",
     "output_type": "stream",
     "text": [
      "Clipping input data to the valid range for imshow with RGB data ([0..1] for floats or [0..255] for integers).\n",
      "Clipping input data to the valid range for imshow with RGB data ([0..1] for floats or [0..255] for integers).\n",
      "Clipping input data to the valid range for imshow with RGB data ([0..1] for floats or [0..255] for integers).\n",
      "Clipping input data to the valid range for imshow with RGB data ([0..1] for floats or [0..255] for integers).\n",
      "Clipping input data to the valid range for imshow with RGB data ([0..1] for floats or [0..255] for integers).\n",
      "Clipping input data to the valid range for imshow with RGB data ([0..1] for floats or [0..255] for integers).\n",
      "Clipping input data to the valid range for imshow with RGB data ([0..1] for floats or [0..255] for integers).\n",
      "Clipping input data to the valid range for imshow with RGB data ([0..1] for floats or [0..255] for integers).\n",
      "Clipping input data to the valid range for imshow with RGB data ([0..1] for floats or [0..255] for integers).\n",
      "Clipping input data to the valid range for imshow with RGB data ([0..1] for floats or [0..255] for integers).\n"
     ]
    },
    {
     "data": {
      "text/plain": "<Figure size 800x2000 with 10 Axes>",
      "image/png": "[encoded data removed]"
     },
     "metadata": {},
     "output_type": "display_data"
    }
   ],
   "source": [
    "# This function plots images side by side\n",
    "def plot_side_by_side(images, outputs, num_images=5, column1_name='Original', column2_name='Output'):\n",
    "    fig, axes = plt.subplots(nrows=num_images, ncols=2, figsize=(8, 4 * num_images))\n",
    "\n",
    "    for idx in range(num_images):\n",
    "        # Plot original image\n",
    "        ax = axes[idx, 0]\n",
    "        ax.axis('off')\n",
    "        ax.set_title(column1_name)\n",
    "        ax.imshow(images[idx].permute(1, 2, 0))\n",
    "\n",
    "        # Plot output of autoencoder\n",
    "        ax = axes[idx, 1]\n",
    "        ax.axis('off')\n",
    "        ax.set_title(column2_name)\n",
    "        ax.imshow(outputs[idx].permute(1, 2, 0))\n",
    "\n",
    "    plt.tight_layout()\n",
    "    plt.show()\n",
    "\n",
    "dataiter = iter(train_loader_noisy)\n",
    "noisy_image, image, _ = next(dataiter)\n",
    "plot_side_by_side(noisy_image, image, column1_name='Images with noise', column2_name='Images without noise')"
   ],
   "metadata": {
    "collapsed": false,
    "ExecuteTime": {
     "end_time": "2024-05-01T09:16:49.254566300Z",
     "start_time": "2024-05-01T09:16:48.052314400Z"
    }
   },
   "execution_count": 12
  },
  {
   "cell_type": "markdown",
   "source": [
    "### 1.  Define Autoencoder\n",
    "\n",
    "### Encoder\n",
    "\n",
    "- **Convolutional Layers**: \n",
    "  - Input Channels: 3 (RGB images)\n",
    "  - Output Channels: 12, 24, 48\n",
    "  - Kernel Size: 4x4\n",
    "  - Stride: 2\n",
    "  - Padding: 1\n",
    "- **Activation Function**: ReLU\n",
    "\n",
    "The encoder reduces the spatial dimensions of the input images while increasing the number of channels, thereby creating a compressed representation of the input.\n",
    "\n",
    "### Decoder\n",
    "\n",
    "- **Transposed Convolutional Layers**:\n",
    "  - Input Channels: 48\n",
    "  - Output Channels: 24, 12, 3 (RGB channels)\n",
    "  - Kernel Size: 4x4\n",
    "  - Stride: 2\n",
    "  - Padding: 1\n",
    "- **Activation Function**: ReLU (except for the last layer, which uses Sigmoid)"
   ],
   "metadata": {
    "collapsed": false
   }
  },
  {
   "cell_type": "code",
   "outputs": [],
   "source": [
    "class Autoencoder(nn.Module):\n",
    "    def __init__(self):\n",
    "        super(Autoencoder, self).__init__()\n",
    "        self.encoder = nn.Sequential(\n",
    "            nn.Conv2d(3, 12, 4, stride=2, padding=1),  # [batch, 12, 16, 16]\n",
    "            nn.ReLU(),\n",
    "            nn.Conv2d(12, 24, 4, stride=2, padding=1),  # [batch, 24, 8, 8]\n",
    "            nn.ReLU(),\n",
    "            nn.Conv2d(24, 48, 4, stride=2, padding=1),  # [batch, 48, 4, 4]\n",
    "            nn.ReLU(),\n",
    "        )\n",
    "        self.decoder = nn.Sequential(\n",
    "            nn.ConvTranspose2d(48, 24, 4, stride=2, padding=1),  # [batch, 24, 8, 8]\n",
    "            nn.ReLU(),\n",
    "            nn.ConvTranspose2d(24, 12, 4, stride=2, padding=1),  # [batch, 12, 16, 16]\n",
    "            nn.ReLU(),\n",
    "            nn.ConvTranspose2d(12, 3, 4, stride=2, padding=1),  # [batch, 3, 32, 32]\n",
    "            nn.Sigmoid(),\n",
    "        )\n",
    "\n",
    "    def forward(self, x):\n",
    "        x = self.encoder(x)\n",
    "        x = self.decoder(x)\n",
    "        return x"
   ],
   "metadata": {
    "collapsed": false,
    "ExecuteTime": {
     "end_time": "2024-05-01T09:16:52.978578600Z",
     "start_time": "2024-05-01T09:16:52.951649400Z"
    }
   },
   "execution_count": 13
  },
  {
   "cell_type": "markdown",
   "source": [
    "### Let's train autoencoder on noisy dataset"
   ],
   "metadata": {
    "collapsed": false
   }
  },
  {
   "cell_type": "code",
   "outputs": [],
   "source": [
    "# train function for autoencoder\n",
    "def train_autoencoder(model, device, train_loader, criterion, optimizer, epoch):\n",
    "    model.train()\n",
    "    epoch_loss = 0\n",
    "    start_time = time()\n",
    "    iteration = 0\n",
    "\n",
    "    bar = tqdm(train_loader)\n",
    "    for data, target, _ in bar:\n",
    "        data, target = data.to(device), target.to(device)\n",
    "        optimizer.zero_grad()\n",
    "        output = model(data)\n",
    "        loss = criterion(output, target)\n",
    "        loss.backward()\n",
    "        optimizer.step()\n",
    "\n",
    "        epoch_loss += loss.item()\n",
    "        iteration += 1\n",
    "        bar.set_postfix({\"Loss\": format(epoch_loss / iteration, '.6f')})\n",
    "\n",
    "    print(f'\\rTrain Epoch: {epoch}, elapsed time:{time() - start_time:.2f}s')\n",
    "    return epoch_loss"
   ],
   "metadata": {
    "collapsed": false,
    "ExecuteTime": {
     "end_time": "2024-05-01T09:16:54.793817200Z",
     "start_time": "2024-05-01T09:16:54.739142500Z"
    }
   },
   "execution_count": 14
  },
  {
   "cell_type": "markdown",
   "source": [
    "Define hyperparameters"
   ],
   "metadata": {
    "collapsed": false
   }
  },
  {
   "cell_type": "code",
   "outputs": [],
   "source": [
    "device = torch.device(\"cuda\" if torch.cuda.is_available() else \"cpu\")\n",
    "autoencoder = Autoencoder().to(device)\n",
    "criterion = nn.MSELoss()\n",
    "optimizer = Adam(autoencoder.parameters(), lr=0.001)"
   ],
   "metadata": {
    "collapsed": false,
    "ExecuteTime": {
     "end_time": "2024-05-01T09:16:56.828276300Z",
     "start_time": "2024-05-01T09:16:56.789227700Z"
    }
   },
   "execution_count": 15
  },
  {
   "cell_type": "markdown",
   "source": [
    "Training"
   ],
   "metadata": {
    "collapsed": false
   }
  },
  {
   "cell_type": "code",
   "outputs": [
    {
     "name": "stderr",
     "output_type": "stream",
     "text": [
      "100%|██████████| 196/196 [00:19<00:00,  9.97it/s, Loss=0.240658]\n"
     ]
    },
    {
     "name": "stdout",
     "output_type": "stream",
     "text": [
      "Train Epoch: 1, elapsed time:19.67s\n"
     ]
    },
    {
     "name": "stderr",
     "output_type": "stream",
     "text": [
      "100%|██████████| 196/196 [00:19<00:00,  9.99it/s, Loss=0.179498]\n"
     ]
    },
    {
     "name": "stdout",
     "output_type": "stream",
     "text": [
      "Train Epoch: 2, elapsed time:19.62s\n"
     ]
    },
    {
     "name": "stderr",
     "output_type": "stream",
     "text": [
      "100%|██████████| 196/196 [00:20<00:00,  9.63it/s, Loss=0.174531]\n"
     ]
    },
    {
     "name": "stdout",
     "output_type": "stream",
     "text": [
      "Train Epoch: 3, elapsed time:20.34s\n"
     ]
    },
    {
     "name": "stderr",
     "output_type": "stream",
     "text": [
      "100%|██████████| 196/196 [00:20<00:00,  9.59it/s, Loss=0.171161]\n"
     ]
    },
    {
     "name": "stdout",
     "output_type": "stream",
     "text": [
      "Train Epoch: 4, elapsed time:20.45s\n"
     ]
    },
    {
     "name": "stderr",
     "output_type": "stream",
     "text": [
      "100%|██████████| 196/196 [00:19<00:00, 10.25it/s, Loss=0.166881]\n"
     ]
    },
    {
     "name": "stdout",
     "output_type": "stream",
     "text": [
      "Train Epoch: 5, elapsed time:19.13s\n"
     ]
    },
    {
     "name": "stderr",
     "output_type": "stream",
     "text": [
      "100%|██████████| 196/196 [00:18<00:00, 10.47it/s, Loss=0.164560]\n"
     ]
    },
    {
     "name": "stdout",
     "output_type": "stream",
     "text": [
      "Train Epoch: 6, elapsed time:18.72s\n"
     ]
    },
    {
     "name": "stderr",
     "output_type": "stream",
     "text": [
      "100%|██████████| 196/196 [00:18<00:00, 10.50it/s, Loss=0.162517]\n"
     ]
    },
    {
     "name": "stdout",
     "output_type": "stream",
     "text": [
      "Train Epoch: 7, elapsed time:18.66s\n"
     ]
    },
    {
     "name": "stderr",
     "output_type": "stream",
     "text": [
      "100%|██████████| 196/196 [00:18<00:00, 10.67it/s, Loss=0.160590]\n"
     ]
    },
    {
     "name": "stdout",
     "output_type": "stream",
     "text": [
      "Train Epoch: 8, elapsed time:18.37s\n"
     ]
    },
    {
     "name": "stderr",
     "output_type": "stream",
     "text": [
      "100%|██████████| 196/196 [00:18<00:00, 10.72it/s, Loss=0.158662]\n"
     ]
    },
    {
     "name": "stdout",
     "output_type": "stream",
     "text": [
      "Train Epoch: 9, elapsed time:18.28s\n"
     ]
    },
    {
     "name": "stderr",
     "output_type": "stream",
     "text": [
      "100%|██████████| 196/196 [00:18<00:00, 10.78it/s, Loss=0.155950]\n"
     ]
    },
    {
     "name": "stdout",
     "output_type": "stream",
     "text": [
      "Train Epoch: 10, elapsed time:18.18s\n"
     ]
    },
    {
     "name": "stderr",
     "output_type": "stream",
     "text": [
      "100%|██████████| 196/196 [00:18<00:00, 10.73it/s, Loss=0.153398]\n"
     ]
    },
    {
     "name": "stdout",
     "output_type": "stream",
     "text": [
      "Train Epoch: 11, elapsed time:18.27s\n"
     ]
    },
    {
     "name": "stderr",
     "output_type": "stream",
     "text": [
      "100%|██████████| 196/196 [00:18<00:00, 10.73it/s, Loss=0.152470]\n"
     ]
    },
    {
     "name": "stdout",
     "output_type": "stream",
     "text": [
      "Train Epoch: 12, elapsed time:18.27s\n"
     ]
    },
    {
     "name": "stderr",
     "output_type": "stream",
     "text": [
      "100%|██████████| 196/196 [00:18<00:00, 10.81it/s, Loss=0.151926]\n"
     ]
    },
    {
     "name": "stdout",
     "output_type": "stream",
     "text": [
      "Train Epoch: 13, elapsed time:18.13s\n"
     ]
    },
    {
     "name": "stderr",
     "output_type": "stream",
     "text": [
      "100%|██████████| 196/196 [00:18<00:00, 10.77it/s, Loss=0.151422]\n"
     ]
    },
    {
     "name": "stdout",
     "output_type": "stream",
     "text": [
      "Train Epoch: 14, elapsed time:18.20s\n"
     ]
    },
    {
     "name": "stderr",
     "output_type": "stream",
     "text": [
      "100%|██████████| 196/196 [00:18<00:00, 10.75it/s, Loss=0.150975]\n"
     ]
    },
    {
     "name": "stdout",
     "output_type": "stream",
     "text": [
      "Train Epoch: 15, elapsed time:18.24s\n"
     ]
    },
    {
     "name": "stderr",
     "output_type": "stream",
     "text": [
      "100%|██████████| 196/196 [00:18<00:00, 10.57it/s, Loss=0.150587]\n"
     ]
    },
    {
     "name": "stdout",
     "output_type": "stream",
     "text": [
      "Train Epoch: 16, elapsed time:18.54s\n"
     ]
    },
    {
     "name": "stderr",
     "output_type": "stream",
     "text": [
      "100%|██████████| 196/196 [00:18<00:00, 10.83it/s, Loss=0.150281]\n"
     ]
    },
    {
     "name": "stdout",
     "output_type": "stream",
     "text": [
      "Train Epoch: 17, elapsed time:18.10s\n"
     ]
    },
    {
     "name": "stderr",
     "output_type": "stream",
     "text": [
      "100%|██████████| 196/196 [00:18<00:00, 10.86it/s, Loss=0.149995]\n"
     ]
    },
    {
     "name": "stdout",
     "output_type": "stream",
     "text": [
      "Train Epoch: 18, elapsed time:18.04s\n"
     ]
    },
    {
     "name": "stderr",
     "output_type": "stream",
     "text": [
      "100%|██████████| 196/196 [00:17<00:00, 10.92it/s, Loss=0.149738]\n"
     ]
    },
    {
     "name": "stdout",
     "output_type": "stream",
     "text": [
      "Train Epoch: 19, elapsed time:17.95s\n"
     ]
    },
    {
     "name": "stderr",
     "output_type": "stream",
     "text": [
      "100%|██████████| 196/196 [00:18<00:00, 10.78it/s, Loss=0.149467]\n"
     ]
    },
    {
     "name": "stdout",
     "output_type": "stream",
     "text": [
      "Train Epoch: 20, elapsed time:18.19s\n"
     ]
    },
    {
     "name": "stderr",
     "output_type": "stream",
     "text": [
      "100%|██████████| 196/196 [00:17<00:00, 10.92it/s, Loss=0.149285]\n"
     ]
    },
    {
     "name": "stdout",
     "output_type": "stream",
     "text": [
      "Train Epoch: 21, elapsed time:17.95s\n"
     ]
    },
    {
     "name": "stderr",
     "output_type": "stream",
     "text": [
      "100%|██████████| 196/196 [00:17<00:00, 10.92it/s, Loss=0.149056]\n"
     ]
    },
    {
     "name": "stdout",
     "output_type": "stream",
     "text": [
      "Train Epoch: 22, elapsed time:17.95s\n"
     ]
    },
    {
     "name": "stderr",
     "output_type": "stream",
     "text": [
      "100%|██████████| 196/196 [00:17<00:00, 11.03it/s, Loss=0.148887]\n"
     ]
    },
    {
     "name": "stdout",
     "output_type": "stream",
     "text": [
      "Train Epoch: 23, elapsed time:17.78s\n"
     ]
    },
    {
     "name": "stderr",
     "output_type": "stream",
     "text": [
      "100%|██████████| 196/196 [00:17<00:00, 11.07it/s, Loss=0.148734]\n"
     ]
    },
    {
     "name": "stdout",
     "output_type": "stream",
     "text": [
      "Train Epoch: 24, elapsed time:17.71s\n"
     ]
    },
    {
     "name": "stderr",
     "output_type": "stream",
     "text": [
      "100%|██████████| 196/196 [00:17<00:00, 10.94it/s, Loss=0.148596]\n"
     ]
    },
    {
     "name": "stdout",
     "output_type": "stream",
     "text": [
      "Train Epoch: 25, elapsed time:17.92s\n"
     ]
    },
    {
     "name": "stderr",
     "output_type": "stream",
     "text": [
      "100%|██████████| 196/196 [00:18<00:00, 10.79it/s, Loss=0.148474]\n"
     ]
    },
    {
     "name": "stdout",
     "output_type": "stream",
     "text": [
      "Train Epoch: 26, elapsed time:18.16s\n"
     ]
    },
    {
     "name": "stderr",
     "output_type": "stream",
     "text": [
      "100%|██████████| 196/196 [00:18<00:00, 10.55it/s, Loss=0.148341]\n"
     ]
    },
    {
     "name": "stdout",
     "output_type": "stream",
     "text": [
      "Train Epoch: 27, elapsed time:18.59s\n"
     ]
    },
    {
     "name": "stderr",
     "output_type": "stream",
     "text": [
      "100%|██████████| 196/196 [00:18<00:00, 10.81it/s, Loss=0.148232]\n"
     ]
    },
    {
     "name": "stdout",
     "output_type": "stream",
     "text": [
      "Train Epoch: 28, elapsed time:18.13s\n"
     ]
    },
    {
     "name": "stderr",
     "output_type": "stream",
     "text": [
      "100%|██████████| 196/196 [00:18<00:00, 10.84it/s, Loss=0.148134]\n"
     ]
    },
    {
     "name": "stdout",
     "output_type": "stream",
     "text": [
      "Train Epoch: 29, elapsed time:18.09s\n"
     ]
    },
    {
     "name": "stderr",
     "output_type": "stream",
     "text": [
      "100%|██████████| 196/196 [00:18<00:00, 10.76it/s, Loss=0.148038]\n"
     ]
    },
    {
     "name": "stdout",
     "output_type": "stream",
     "text": [
      "Train Epoch: 30, elapsed time:18.23s\n"
     ]
    },
    {
     "name": "stderr",
     "output_type": "stream",
     "text": [
      "100%|██████████| 196/196 [00:18<00:00, 10.78it/s, Loss=0.147958]\n"
     ]
    },
    {
     "name": "stdout",
     "output_type": "stream",
     "text": [
      "Train Epoch: 31, elapsed time:18.18s\n"
     ]
    },
    {
     "name": "stderr",
     "output_type": "stream",
     "text": [
      "100%|██████████| 196/196 [00:18<00:00, 10.83it/s, Loss=0.147857]\n"
     ]
    },
    {
     "name": "stdout",
     "output_type": "stream",
     "text": [
      "Train Epoch: 32, elapsed time:18.10s\n"
     ]
    },
    {
     "name": "stderr",
     "output_type": "stream",
     "text": [
      "100%|██████████| 196/196 [00:18<00:00, 10.80it/s, Loss=0.147768]\n"
     ]
    },
    {
     "name": "stdout",
     "output_type": "stream",
     "text": [
      "Train Epoch: 33, elapsed time:18.15s\n"
     ]
    },
    {
     "name": "stderr",
     "output_type": "stream",
     "text": [
      "100%|██████████| 196/196 [00:18<00:00, 10.74it/s, Loss=0.147702]\n"
     ]
    },
    {
     "name": "stdout",
     "output_type": "stream",
     "text": [
      "Train Epoch: 34, elapsed time:18.26s\n"
     ]
    },
    {
     "name": "stderr",
     "output_type": "stream",
     "text": [
      "100%|██████████| 196/196 [00:18<00:00, 10.76it/s, Loss=0.147616]\n"
     ]
    },
    {
     "name": "stdout",
     "output_type": "stream",
     "text": [
      "Train Epoch: 35, elapsed time:18.22s\n"
     ]
    },
    {
     "name": "stderr",
     "output_type": "stream",
     "text": [
      "100%|██████████| 196/196 [00:18<00:00, 10.85it/s, Loss=0.147559]\n"
     ]
    },
    {
     "name": "stdout",
     "output_type": "stream",
     "text": [
      "Train Epoch: 36, elapsed time:18.07s\n"
     ]
    },
    {
     "name": "stderr",
     "output_type": "stream",
     "text": [
      "100%|██████████| 196/196 [00:18<00:00, 10.68it/s, Loss=0.147474]\n"
     ]
    },
    {
     "name": "stdout",
     "output_type": "stream",
     "text": [
      "Train Epoch: 37, elapsed time:18.35s\n"
     ]
    },
    {
     "name": "stderr",
     "output_type": "stream",
     "text": [
      "100%|██████████| 196/196 [00:18<00:00, 10.76it/s, Loss=0.147354]\n"
     ]
    },
    {
     "name": "stdout",
     "output_type": "stream",
     "text": [
      "Train Epoch: 38, elapsed time:18.22s\n"
     ]
    },
    {
     "name": "stderr",
     "output_type": "stream",
     "text": [
      "100%|██████████| 196/196 [00:18<00:00, 10.69it/s, Loss=0.147285]\n"
     ]
    },
    {
     "name": "stdout",
     "output_type": "stream",
     "text": [
      "Train Epoch: 39, elapsed time:18.33s\n"
     ]
    },
    {
     "name": "stderr",
     "output_type": "stream",
     "text": [
      "100%|██████████| 196/196 [00:18<00:00, 10.65it/s, Loss=0.147178]\n"
     ]
    },
    {
     "name": "stdout",
     "output_type": "stream",
     "text": [
      "Train Epoch: 40, elapsed time:18.41s\n"
     ]
    },
    {
     "name": "stderr",
     "output_type": "stream",
     "text": [
      "100%|██████████| 196/196 [00:18<00:00, 10.77it/s, Loss=0.147036]\n"
     ]
    },
    {
     "name": "stdout",
     "output_type": "stream",
     "text": [
      "Train Epoch: 41, elapsed time:18.20s\n"
     ]
    },
    {
     "name": "stderr",
     "output_type": "stream",
     "text": [
      "100%|██████████| 196/196 [00:18<00:00, 10.85it/s, Loss=0.146918]\n"
     ]
    },
    {
     "name": "stdout",
     "output_type": "stream",
     "text": [
      "Train Epoch: 42, elapsed time:18.06s\n"
     ]
    },
    {
     "name": "stderr",
     "output_type": "stream",
     "text": [
      "100%|██████████| 196/196 [00:18<00:00, 10.79it/s, Loss=0.146794]\n"
     ]
    },
    {
     "name": "stdout",
     "output_type": "stream",
     "text": [
      "Train Epoch: 43, elapsed time:18.17s\n"
     ]
    },
    {
     "name": "stderr",
     "output_type": "stream",
     "text": [
      "100%|██████████| 196/196 [00:18<00:00, 10.83it/s, Loss=0.146697]\n"
     ]
    },
    {
     "name": "stdout",
     "output_type": "stream",
     "text": [
      "Train Epoch: 44, elapsed time:18.09s\n"
     ]
    },
    {
     "name": "stderr",
     "output_type": "stream",
     "text": [
      "100%|██████████| 196/196 [00:18<00:00, 10.71it/s, Loss=0.146589]\n"
     ]
    },
    {
     "name": "stdout",
     "output_type": "stream",
     "text": [
      "Train Epoch: 45, elapsed time:18.30s\n"
     ]
    },
    {
     "name": "stderr",
     "output_type": "stream",
     "text": [
      "100%|██████████| 196/196 [00:17<00:00, 11.06it/s, Loss=0.146514]\n"
     ]
    },
    {
     "name": "stdout",
     "output_type": "stream",
     "text": [
      "Train Epoch: 46, elapsed time:17.72s\n"
     ]
    },
    {
     "name": "stderr",
     "output_type": "stream",
     "text": [
      "100%|██████████| 196/196 [00:18<00:00, 10.77it/s, Loss=0.146454]\n"
     ]
    },
    {
     "name": "stdout",
     "output_type": "stream",
     "text": [
      "Train Epoch: 47, elapsed time:18.20s\n"
     ]
    },
    {
     "name": "stderr",
     "output_type": "stream",
     "text": [
      "100%|██████████| 196/196 [00:18<00:00, 10.88it/s, Loss=0.146371]\n"
     ]
    },
    {
     "name": "stdout",
     "output_type": "stream",
     "text": [
      "Train Epoch: 48, elapsed time:18.02s\n"
     ]
    },
    {
     "name": "stderr",
     "output_type": "stream",
     "text": [
      "100%|██████████| 196/196 [00:18<00:00, 10.83it/s, Loss=0.146331]\n"
     ]
    },
    {
     "name": "stdout",
     "output_type": "stream",
     "text": [
      "Train Epoch: 49, elapsed time:18.09s\n"
     ]
    },
    {
     "name": "stderr",
     "output_type": "stream",
     "text": [
      "100%|██████████| 196/196 [00:18<00:00, 10.82it/s, Loss=0.146263]"
     ]
    },
    {
     "name": "stdout",
     "output_type": "stream",
     "text": [
      "Train Epoch: 50, elapsed time:18.11s\n"
     ]
    },
    {
     "name": "stderr",
     "output_type": "stream",
     "text": [
      "\n"
     ]
    }
   ],
   "source": [
    "num_epochs = 50\n",
    "\n",
    "for epoch in range(num_epochs):\n",
    "    train_autoencoder(autoencoder, device, train_loader_noisy, criterion, optimizer, epoch + 1)"
   ],
   "metadata": {
    "collapsed": false,
    "ExecuteTime": {
     "end_time": "2024-04-24T13:28:30.958717200Z",
     "start_time": "2024-04-24T13:13:13.780055Z"
    }
   },
   "execution_count": 116
  },
  {
   "cell_type": "markdown",
   "source": [
    "Let's plot some images before and after autoencoder:"
   ],
   "metadata": {
    "collapsed": false
   }
  },
  {
   "cell_type": "code",
   "outputs": [
    {
     "name": "stderr",
     "output_type": "stream",
     "text": [
      "Clipping input data to the valid range for imshow with RGB data ([0..1] for floats or [0..255] for integers).\n",
      "Clipping input data to the valid range for imshow with RGB data ([0..1] for floats or [0..255] for integers).\n",
      "Clipping input data to the valid range for imshow with RGB data ([0..1] for floats or [0..255] for integers).\n",
      "Clipping input data to the valid range for imshow with RGB data ([0..1] for floats or [0..255] for integers).\n",
      "Clipping input data to the valid range for imshow with RGB data ([0..1] for floats or [0..255] for integers).\n"
     ]
    },
    {
     "data": {
      "text/plain": "<Figure size 800x2000 with 10 Axes>",
      "image/png": "[encoded data removed]"
     },
     "metadata": {},
     "output_type": "display_data"
    }
   ],
   "source": [
    "dataiter = iter(test_loader)\n",
    "images, labels = next(dataiter)\n",
    "\n",
    "images = images.to(device)\n",
    "autoencoder.eval()\n",
    "with torch.no_grad():\n",
    "    outputs = autoencoder(images)\n",
    "\n",
    "images_cpu = images.cpu()\n",
    "outputs_cpu = outputs.cpu()\n",
    "plot_side_by_side(images_cpu, outputs_cpu)\n"
   ],
   "metadata": {
    "collapsed": false,
    "ExecuteTime": {
     "end_time": "2024-04-24T13:28:40.927797100Z",
     "start_time": "2024-04-24T13:28:30.949117800Z"
    }
   },
   "execution_count": 117
  },
  {
   "cell_type": "markdown",
   "source": [
    "### Attaching classification head\n",
    "Now let's attach classification head to encoder part of autoencoder"
   ],
   "metadata": {
    "collapsed": false
   }
  },
  {
   "cell_type": "code",
   "outputs": [
    {
     "name": "stdout",
     "output_type": "stream",
     "text": [
      "SelfSupervised(\n",
      "  (encoder): Sequential(\n",
      "    (0): Conv2d(3, 12, kernel_size=(4, 4), stride=(2, 2), padding=(1, 1))\n",
      "    (1): ReLU()\n",
      "    (2): Conv2d(12, 24, kernel_size=(4, 4), stride=(2, 2), padding=(1, 1))\n",
      "    (3): ReLU()\n",
      "    (4): Conv2d(24, 48, kernel_size=(4, 4), stride=(2, 2), padding=(1, 1))\n",
      "    (5): ReLU()\n",
      "  )\n",
      "  (classifier): Sequential(\n",
      "    (0): Flatten(start_dim=1, end_dim=-1)\n",
      "    (1): Linear(in_features=768, out_features=512, bias=True)\n",
      "    (2): ReLU()\n",
      "    (3): Dropout(p=0.2, inplace=False)\n",
      "    (4): Linear(in_features=512, out_features=256, bias=True)\n",
      "    (5): ReLU()\n",
      "    (6): Dropout(p=0.2, inplace=False)\n",
      "    (7): Linear(in_features=256, out_features=10, bias=True)\n",
      "  )\n",
      ")\n"
     ]
    }
   ],
   "source": [
    "class SelfSupervised(nn.Module):\n",
    "    def __init__(self, encoder):\n",
    "        super(SelfSupervised, self).__init__()\n",
    "        # Fix the encoder's weights\n",
    "        self.encoder = encoder\n",
    "        for param in self.encoder.parameters():\n",
    "            param.requires_grad = False\n",
    "\n",
    "        # Classification head\n",
    "        self.classifier = nn.Sequential(\n",
    "            nn.Flatten(),\n",
    "            nn.Linear(48 * 4 * 4, 512),  # Increase the number of hidden units\n",
    "            nn.ReLU(),\n",
    "            nn.Dropout(0.2),  # Adding dropout for regularization\n",
    "            nn.Linear(512, 256),  # Further increasing the number of hidden units\n",
    "            nn.ReLU(),\n",
    "            nn.Dropout(0.2),\n",
    "            nn.Linear(256, 10) \n",
    "        )\n",
    "\n",
    "    def forward(self, x):\n",
    "        x = self.encoder(x)\n",
    "        x = self.classifier(x)\n",
    "        return F.log_softmax(x, dim=1)\n",
    "\n",
    "\n",
    "# Create the classifier using the encoder part of the autoencoder\n",
    "self_supervised_model = SelfSupervised(autoencoder.encoder)\n",
    "self_supervised_model.to(device)\n",
    "print(self_supervised_model)"
   ],
   "metadata": {
    "collapsed": false,
    "ExecuteTime": {
     "end_time": "2024-04-24T13:28:40.942595700Z",
     "start_time": "2024-04-24T13:28:40.929338500Z"
    }
   },
   "execution_count": 118
  },
  {
   "cell_type": "markdown",
   "source": [
    "### Define train and test functions"
   ],
   "metadata": {
    "collapsed": false
   }
  },
  {
   "cell_type": "code",
   "outputs": [],
   "source": [
    "def train(model, device, train_loader, criterion, optimizer, epoch):\n",
    "    model.train()\n",
    "    epoch_loss = 0\n",
    "    start_time = time()\n",
    "    correct = 0\n",
    "    iteration = 0\n",
    "    length = 0\n",
    "\n",
    "    bar = tqdm(train_loader)\n",
    "    for data, _, labels in bar:\n",
    "        data, labels = data.to(device), labels.to(device)\n",
    "        optimizer.zero_grad()\n",
    "\n",
    "        output = model(data)\n",
    "        # Get the index of the max log-probability\n",
    "        pred = output.argmax(dim=1, keepdim=True)\n",
    "        correct += pred.eq(labels.view_as(pred)).sum().item()\n",
    "        length += len(data)\n",
    "\n",
    "        loss = criterion(output, labels)\n",
    "        loss.backward()\n",
    "        optimizer.step()\n",
    "\n",
    "        epoch_loss += loss.item()\n",
    "        iteration += 1\n",
    "        bar.set_postfix({\"Loss\": format(epoch_loss / iteration, '.6f')})\n",
    "\n",
    "    acc = 100. * correct / length\n",
    "    print(f'\\rTrain Epoch: {epoch}, elapsed time:{time() - start_time:.2f}s')\n",
    "    return epoch_loss, acc\n",
    "\n",
    "\n",
    "def test(model, device, test_loader, criterion):\n",
    "    model.eval()\n",
    "    test_loss = 0\n",
    "    correct = 0\n",
    "    with torch.no_grad():\n",
    "        for data, target in test_loader:\n",
    "            data, target = data.to(device), target.to(device)\n",
    "            output = model(data)\n",
    "            test_loss += criterion(output, target).item()  # sum up batch loss\n",
    "            pred = output.argmax(dim=1, keepdim=True)  # get the index of the max log-probability\n",
    "            correct += pred.eq(target.view_as(pred)).sum().item()\n",
    "\n",
    "    acc = 100. * correct / len(test_loader.dataset)\n",
    "    return test_loss, acc"
   ],
   "metadata": {
    "collapsed": false,
    "ExecuteTime": {
     "end_time": "2024-04-24T13:28:40.956270700Z",
     "start_time": "2024-04-24T13:28:40.944211800Z"
    }
   },
   "execution_count": 119
  },
  {
   "cell_type": "markdown",
   "source": [
    "### Define hyperparameters for sel-supervised model"
   ],
   "metadata": {
    "collapsed": false
   }
  },
  {
   "cell_type": "code",
   "outputs": [],
   "source": [
    "criterion = nn.CrossEntropyLoss()\n",
    "optimizer = Adam(self_supervised_model.parameters(), lr=0.0001)\n",
    "scheduler = lr_scheduler.ReduceLROnPlateau(optimizer, 'min', factor=0.3,\n",
    "                                           patience=3, min_lr=0.0000001)\n",
    "early_stopping = EarlyStopping(tolerance=7, mode='min')\n",
    "\n",
    "best_model_wts = deepcopy(self_supervised_model.state_dict())"
   ],
   "metadata": {
    "collapsed": false,
    "ExecuteTime": {
     "end_time": "2024-04-24T13:28:41.011577600Z",
     "start_time": "2024-04-24T13:28:40.959297700Z"
    }
   },
   "execution_count": 120
  },
  {
   "cell_type": "markdown",
   "source": [
    "### Training self-supervised model"
   ],
   "metadata": {
    "collapsed": false
   }
  },
  {
   "cell_type": "code",
   "outputs": [
    {
     "name": "stderr",
     "output_type": "stream",
     "text": [
      "100%|██████████| 20/20 [00:01<00:00, 11.51it/s, Loss=2.309203]\n"
     ]
    },
    {
     "name": "stdout",
     "output_type": "stream",
     "text": [
      "Train Epoch: 1, elapsed time:1.74s\n",
      "Training accuracy 12.7, test accuracy 19.64\n",
      "Training loss 46.18406653404236, test loss 88.67664766311646\n"
     ]
    },
    {
     "name": "stderr",
     "output_type": "stream",
     "text": [
      "100%|██████████| 20/20 [00:01<00:00, 11.59it/s, Loss=2.204035]\n"
     ]
    },
    {
     "name": "stdout",
     "output_type": "stream",
     "text": [
      "Train Epoch: 2, elapsed time:1.73s\n",
      "Training accuracy 18.34, test accuracy 25.81\n",
      "Training loss 44.08069562911987, test loss 85.15761113166809\n"
     ]
    },
    {
     "name": "stderr",
     "output_type": "stream",
     "text": [
      "100%|██████████| 20/20 [00:01<00:00, 11.33it/s, Loss=2.141756]\n"
     ]
    },
    {
     "name": "stdout",
     "output_type": "stream",
     "text": [
      "Train Epoch: 3, elapsed time:1.77s\n",
      "Training accuracy 22.08, test accuracy 27.75\n",
      "Training loss 42.835113525390625, test loss 82.73033809661865\n"
     ]
    },
    {
     "name": "stderr",
     "output_type": "stream",
     "text": [
      "100%|██████████| 20/20 [00:01<00:00, 11.43it/s, Loss=2.078855]\n"
     ]
    },
    {
     "name": "stdout",
     "output_type": "stream",
     "text": [
      "Train Epoch: 4, elapsed time:1.75s\n",
      "Training accuracy 24.4, test accuracy 26.7\n",
      "Training loss 41.57709515094757, test loss 81.23436212539673\n"
     ]
    },
    {
     "name": "stderr",
     "output_type": "stream",
     "text": [
      "100%|██████████| 20/20 [00:01<00:00, 11.43it/s, Loss=2.042742]\n"
     ]
    },
    {
     "name": "stdout",
     "output_type": "stream",
     "text": [
      "Train Epoch: 5, elapsed time:1.75s\n",
      "Training accuracy 26.12, test accuracy 29.99\n",
      "Training loss 40.85483181476593, test loss 79.46584725379944\n"
     ]
    },
    {
     "name": "stderr",
     "output_type": "stream",
     "text": [
      "100%|██████████| 20/20 [00:01<00:00, 11.27it/s, Loss=2.009052]\n"
     ]
    },
    {
     "name": "stdout",
     "output_type": "stream",
     "text": [
      "Train Epoch: 6, elapsed time:1.78s\n",
      "Training accuracy 27.46, test accuracy 29.61\n",
      "Training loss 40.181031227111816, test loss 78.43273055553436\n"
     ]
    },
    {
     "name": "stderr",
     "output_type": "stream",
     "text": [
      "100%|██████████| 20/20 [00:01<00:00, 11.30it/s, Loss=1.986754]\n"
     ]
    },
    {
     "name": "stdout",
     "output_type": "stream",
     "text": [
      "Train Epoch: 7, elapsed time:1.77s\n",
      "Training accuracy 29.04, test accuracy 31.65\n",
      "Training loss 39.73507463932037, test loss 77.38985812664032\n"
     ]
    },
    {
     "name": "stderr",
     "output_type": "stream",
     "text": [
      "100%|██████████| 20/20 [00:01<00:00, 11.38it/s, Loss=1.955981]\n"
     ]
    },
    {
     "name": "stdout",
     "output_type": "stream",
     "text": [
      "Train Epoch: 8, elapsed time:1.76s\n",
      "Training accuracy 29.9, test accuracy 31.96\n",
      "Training loss 39.11961877346039, test loss 76.78818464279175\n"
     ]
    },
    {
     "name": "stderr",
     "output_type": "stream",
     "text": [
      "100%|██████████| 20/20 [00:01<00:00, 11.47it/s, Loss=1.925290]\n"
     ]
    },
    {
     "name": "stdout",
     "output_type": "stream",
     "text": [
      "Train Epoch: 9, elapsed time:1.75s\n",
      "Training accuracy 31.68, test accuracy 32.7\n",
      "Training loss 38.505799531936646, test loss 75.87380278110504\n"
     ]
    },
    {
     "name": "stderr",
     "output_type": "stream",
     "text": [
      "100%|██████████| 20/20 [00:01<00:00, 11.19it/s, Loss=1.912899]\n"
     ]
    },
    {
     "name": "stdout",
     "output_type": "stream",
     "text": [
      "Train Epoch: 10, elapsed time:1.79s\n",
      "Training accuracy 31.02, test accuracy 33.42\n",
      "Training loss 38.25798285007477, test loss 75.3844610452652\n"
     ]
    },
    {
     "name": "stderr",
     "output_type": "stream",
     "text": [
      "100%|██████████| 20/20 [00:01<00:00, 11.49it/s, Loss=1.897755]\n"
     ]
    },
    {
     "name": "stdout",
     "output_type": "stream",
     "text": [
      "Train Epoch: 11, elapsed time:1.74s\n",
      "Training accuracy 32.24, test accuracy 33.51\n",
      "Training loss 37.95509922504425, test loss 74.79346656799316\n"
     ]
    },
    {
     "name": "stderr",
     "output_type": "stream",
     "text": [
      "100%|██████████| 20/20 [00:01<00:00, 11.58it/s, Loss=1.877600]\n"
     ]
    },
    {
     "name": "stdout",
     "output_type": "stream",
     "text": [
      "Train Epoch: 12, elapsed time:1.73s\n",
      "Training accuracy 33.06, test accuracy 33.79\n",
      "Training loss 37.55200958251953, test loss 74.37304198741913\n"
     ]
    },
    {
     "name": "stderr",
     "output_type": "stream",
     "text": [
      "100%|██████████| 20/20 [00:01<00:00, 11.32it/s, Loss=1.869578]\n"
     ]
    },
    {
     "name": "stdout",
     "output_type": "stream",
     "text": [
      "Train Epoch: 13, elapsed time:1.77s\n",
      "Training accuracy 32.78, test accuracy 34.41\n",
      "Training loss 37.39156711101532, test loss 73.80841553211212\n"
     ]
    },
    {
     "name": "stderr",
     "output_type": "stream",
     "text": [
      "100%|██████████| 20/20 [00:01<00:00, 11.33it/s, Loss=1.845797]\n"
     ]
    },
    {
     "name": "stdout",
     "output_type": "stream",
     "text": [
      "Train Epoch: 14, elapsed time:1.77s\n",
      "Training accuracy 34.08, test accuracy 34.76\n",
      "Training loss 36.91594457626343, test loss 73.19194865226746\n"
     ]
    },
    {
     "name": "stderr",
     "output_type": "stream",
     "text": [
      "100%|██████████| 20/20 [00:01<00:00, 11.45it/s, Loss=1.841206]\n"
     ]
    },
    {
     "name": "stdout",
     "output_type": "stream",
     "text": [
      "Train Epoch: 15, elapsed time:1.75s\n",
      "Training accuracy 34.76, test accuracy 33.62\n",
      "Training loss 36.82412612438202, test loss 74.44881403446198\n"
     ]
    },
    {
     "name": "stderr",
     "output_type": "stream",
     "text": [
      "100%|██████████| 20/20 [00:01<00:00, 11.09it/s, Loss=1.832322]\n"
     ]
    },
    {
     "name": "stdout",
     "output_type": "stream",
     "text": [
      "Train Epoch: 16, elapsed time:1.81s\n",
      "Training accuracy 35.14, test accuracy 35.27\n",
      "Training loss 36.646438002586365, test loss 72.62740850448608\n"
     ]
    },
    {
     "name": "stderr",
     "output_type": "stream",
     "text": [
      "100%|██████████| 20/20 [00:01<00:00, 10.59it/s, Loss=1.808429]\n"
     ]
    },
    {
     "name": "stdout",
     "output_type": "stream",
     "text": [
      "Train Epoch: 17, elapsed time:1.89s\n",
      "Training accuracy 36.22, test accuracy 35.54\n",
      "Training loss 36.168580055236816, test loss 72.35191941261292\n"
     ]
    },
    {
     "name": "stderr",
     "output_type": "stream",
     "text": [
      "100%|██████████| 20/20 [00:01<00:00, 11.26it/s, Loss=1.794583]\n"
     ]
    },
    {
     "name": "stdout",
     "output_type": "stream",
     "text": [
      "Train Epoch: 18, elapsed time:1.78s\n",
      "Training accuracy 36.7, test accuracy 35.45\n",
      "Training loss 35.891669392585754, test loss 72.2925398349762\n"
     ]
    },
    {
     "name": "stderr",
     "output_type": "stream",
     "text": [
      "100%|██████████| 20/20 [00:01<00:00, 10.16it/s, Loss=1.792001]\n"
     ]
    },
    {
     "name": "stdout",
     "output_type": "stream",
     "text": [
      "Train Epoch: 19, elapsed time:1.97s\n",
      "Training accuracy 35.3, test accuracy 35.89\n",
      "Training loss 35.840017199516296, test loss 72.28819215297699\n"
     ]
    },
    {
     "name": "stderr",
     "output_type": "stream",
     "text": [
      "100%|██████████| 20/20 [00:01<00:00, 11.21it/s, Loss=1.782902]\n"
     ]
    },
    {
     "name": "stdout",
     "output_type": "stream",
     "text": [
      "Train Epoch: 20, elapsed time:1.79s\n",
      "Training accuracy 36.72, test accuracy 36.73\n",
      "Training loss 35.65803921222687, test loss 71.3143697977066\n"
     ]
    },
    {
     "name": "stderr",
     "output_type": "stream",
     "text": [
      "100%|██████████| 20/20 [00:01<00:00, 11.21it/s, Loss=1.763377]\n"
     ]
    },
    {
     "name": "stdout",
     "output_type": "stream",
     "text": [
      "Train Epoch: 21, elapsed time:1.79s\n",
      "Training accuracy 37.38, test accuracy 37.35\n",
      "Training loss 35.2675461769104, test loss 71.26191306114197\n"
     ]
    },
    {
     "name": "stderr",
     "output_type": "stream",
     "text": [
      "100%|██████████| 20/20 [00:01<00:00, 11.13it/s, Loss=1.755886]\n"
     ]
    },
    {
     "name": "stdout",
     "output_type": "stream",
     "text": [
      "Train Epoch: 22, elapsed time:1.80s\n",
      "Training accuracy 37.8, test accuracy 37.18\n",
      "Training loss 35.11772382259369, test loss 70.85332262516022\n"
     ]
    },
    {
     "name": "stderr",
     "output_type": "stream",
     "text": [
      "100%|██████████| 20/20 [00:01<00:00, 11.38it/s, Loss=1.745280]\n"
     ]
    },
    {
     "name": "stdout",
     "output_type": "stream",
     "text": [
      "Train Epoch: 23, elapsed time:1.76s\n",
      "Training accuracy 37.92, test accuracy 37.84\n",
      "Training loss 34.905590891838074, test loss 70.43753910064697\n"
     ]
    },
    {
     "name": "stderr",
     "output_type": "stream",
     "text": [
      "100%|██████████| 20/20 [00:01<00:00, 11.55it/s, Loss=1.739677]\n"
     ]
    },
    {
     "name": "stdout",
     "output_type": "stream",
     "text": [
      "Train Epoch: 24, elapsed time:1.73s\n",
      "Training accuracy 37.74, test accuracy 37.65\n",
      "Training loss 34.79353141784668, test loss 70.6268321275711\n"
     ]
    },
    {
     "name": "stderr",
     "output_type": "stream",
     "text": [
      "100%|██████████| 20/20 [00:01<00:00, 11.36it/s, Loss=1.739554]\n"
     ]
    },
    {
     "name": "stdout",
     "output_type": "stream",
     "text": [
      "Train Epoch: 25, elapsed time:1.76s\n",
      "Training accuracy 37.88, test accuracy 37.17\n",
      "Training loss 34.791083455085754, test loss 70.29958260059357\n"
     ]
    },
    {
     "name": "stderr",
     "output_type": "stream",
     "text": [
      "100%|██████████| 20/20 [00:01<00:00, 11.20it/s, Loss=1.717932]\n"
     ]
    },
    {
     "name": "stdout",
     "output_type": "stream",
     "text": [
      "Train Epoch: 26, elapsed time:1.79s\n",
      "Training accuracy 39.12, test accuracy 38.23\n",
      "Training loss 34.358636140823364, test loss 69.69612443447113\n"
     ]
    },
    {
     "name": "stderr",
     "output_type": "stream",
     "text": [
      "100%|██████████| 20/20 [00:01<00:00, 11.28it/s, Loss=1.714098]\n"
     ]
    },
    {
     "name": "stdout",
     "output_type": "stream",
     "text": [
      "Train Epoch: 27, elapsed time:1.77s\n",
      "Training accuracy 39.08, test accuracy 37.64\n",
      "Training loss 34.28195023536682, test loss 70.60125184059143\n"
     ]
    },
    {
     "name": "stderr",
     "output_type": "stream",
     "text": [
      "100%|██████████| 20/20 [00:01<00:00, 11.43it/s, Loss=1.708175]\n"
     ]
    },
    {
     "name": "stdout",
     "output_type": "stream",
     "text": [
      "Train Epoch: 28, elapsed time:1.75s\n",
      "Training accuracy 39.36, test accuracy 38.05\n",
      "Training loss 34.16349911689758, test loss 69.42015254497528\n"
     ]
    },
    {
     "name": "stderr",
     "output_type": "stream",
     "text": [
      "100%|██████████| 20/20 [00:01<00:00, 11.14it/s, Loss=1.697979]\n"
     ]
    },
    {
     "name": "stdout",
     "output_type": "stream",
     "text": [
      "Train Epoch: 29, elapsed time:1.80s\n",
      "Training accuracy 40.18, test accuracy 38.3\n",
      "Training loss 33.95958459377289, test loss 69.33202087879181\n"
     ]
    },
    {
     "name": "stderr",
     "output_type": "stream",
     "text": [
      "100%|██████████| 20/20 [00:01<00:00, 11.34it/s, Loss=1.697029]\n"
     ]
    },
    {
     "name": "stdout",
     "output_type": "stream",
     "text": [
      "Train Epoch: 30, elapsed time:1.77s\n",
      "Training accuracy 39.76, test accuracy 38.87\n",
      "Training loss 33.940589904785156, test loss 69.16163241863251\n"
     ]
    },
    {
     "name": "stderr",
     "output_type": "stream",
     "text": [
      "100%|██████████| 20/20 [00:01<00:00, 11.14it/s, Loss=1.695428]\n"
     ]
    },
    {
     "name": "stdout",
     "output_type": "stream",
     "text": [
      "Train Epoch: 31, elapsed time:1.80s\n",
      "Training accuracy 40.26, test accuracy 37.16\n",
      "Training loss 33.90855896472931, test loss 70.38209772109985\n"
     ]
    },
    {
     "name": "stderr",
     "output_type": "stream",
     "text": [
      "100%|██████████| 20/20 [00:01<00:00, 11.05it/s, Loss=1.669073]\n"
     ]
    },
    {
     "name": "stdout",
     "output_type": "stream",
     "text": [
      "Train Epoch: 32, elapsed time:1.81s\n",
      "Training accuracy 40.98, test accuracy 38.73\n",
      "Training loss 33.38146221637726, test loss 68.86424481868744\n"
     ]
    },
    {
     "name": "stderr",
     "output_type": "stream",
     "text": [
      "100%|██████████| 20/20 [00:01<00:00, 10.90it/s, Loss=1.666421]\n"
     ]
    },
    {
     "name": "stdout",
     "output_type": "stream",
     "text": [
      "Train Epoch: 33, elapsed time:1.84s\n",
      "Training accuracy 41.28, test accuracy 39.36\n",
      "Training loss 33.32842814922333, test loss 68.85193490982056\n"
     ]
    },
    {
     "name": "stderr",
     "output_type": "stream",
     "text": [
      "100%|██████████| 20/20 [00:01<00:00, 10.80it/s, Loss=1.665331]\n"
     ]
    },
    {
     "name": "stdout",
     "output_type": "stream",
     "text": [
      "Train Epoch: 34, elapsed time:1.85s\n",
      "Training accuracy 41.9, test accuracy 38.95\n",
      "Training loss 33.30662024021149, test loss 68.73263537883759\n"
     ]
    },
    {
     "name": "stderr",
     "output_type": "stream",
     "text": [
      "100%|██████████| 20/20 [00:01<00:00, 11.28it/s, Loss=1.643068]\n"
     ]
    },
    {
     "name": "stdout",
     "output_type": "stream",
     "text": [
      "Train Epoch: 35, elapsed time:1.77s\n",
      "Training accuracy 42.42, test accuracy 39.56\n",
      "Training loss 32.86135673522949, test loss 68.81889116764069\n"
     ]
    },
    {
     "name": "stderr",
     "output_type": "stream",
     "text": [
      "100%|██████████| 20/20 [00:01<00:00, 11.05it/s, Loss=1.645129]\n"
     ]
    },
    {
     "name": "stdout",
     "output_type": "stream",
     "text": [
      "Train Epoch: 36, elapsed time:1.81s\n",
      "Training accuracy 42.26, test accuracy 39.86\n",
      "Training loss 32.902573227882385, test loss 67.9585884809494\n"
     ]
    },
    {
     "name": "stderr",
     "output_type": "stream",
     "text": [
      "100%|██████████| 20/20 [00:01<00:00, 11.13it/s, Loss=1.635589]\n"
     ]
    },
    {
     "name": "stdout",
     "output_type": "stream",
     "text": [
      "Train Epoch: 37, elapsed time:1.80s\n",
      "Training accuracy 41.78, test accuracy 39.48\n",
      "Training loss 32.71178889274597, test loss 68.34028995037079\n"
     ]
    },
    {
     "name": "stderr",
     "output_type": "stream",
     "text": [
      "100%|██████████| 20/20 [00:01<00:00, 10.65it/s, Loss=1.638720]\n"
     ]
    },
    {
     "name": "stdout",
     "output_type": "stream",
     "text": [
      "Train Epoch: 38, elapsed time:1.88s\n",
      "Training accuracy 41.22, test accuracy 40.46\n",
      "Training loss 32.774409532547, test loss 67.52835893630981\n"
     ]
    },
    {
     "name": "stderr",
     "output_type": "stream",
     "text": [
      "100%|██████████| 20/20 [00:01<00:00, 11.13it/s, Loss=1.621646]\n"
     ]
    },
    {
     "name": "stdout",
     "output_type": "stream",
     "text": [
      "Train Epoch: 39, elapsed time:1.80s\n",
      "Training accuracy 43.26, test accuracy 39.82\n",
      "Training loss 32.43291258811951, test loss 67.7906424999237\n"
     ]
    },
    {
     "name": "stderr",
     "output_type": "stream",
     "text": [
      "100%|██████████| 20/20 [00:01<00:00, 11.33it/s, Loss=1.617127]\n"
     ]
    },
    {
     "name": "stdout",
     "output_type": "stream",
     "text": [
      "Train Epoch: 40, elapsed time:1.77s\n",
      "Training accuracy 43.12, test accuracy 39.6\n",
      "Training loss 32.34254765510559, test loss 67.46511363983154\n"
     ]
    },
    {
     "name": "stderr",
     "output_type": "stream",
     "text": [
      "100%|██████████| 20/20 [00:01<00:00, 11.30it/s, Loss=1.599540]\n"
     ]
    },
    {
     "name": "stdout",
     "output_type": "stream",
     "text": [
      "Train Epoch: 41, elapsed time:1.77s\n",
      "Training accuracy 43.66, test accuracy 39.96\n",
      "Training loss 31.990803122520447, test loss 67.7593367099762\n"
     ]
    },
    {
     "name": "stderr",
     "output_type": "stream",
     "text": [
      "100%|██████████| 20/20 [00:01<00:00, 11.24it/s, Loss=1.604022]\n"
     ]
    },
    {
     "name": "stdout",
     "output_type": "stream",
     "text": [
      "Train Epoch: 42, elapsed time:1.78s\n",
      "Training accuracy 44.28, test accuracy 40.07\n",
      "Training loss 32.08043956756592, test loss 67.53607261180878\n"
     ]
    },
    {
     "name": "stderr",
     "output_type": "stream",
     "text": [
      "100%|██████████| 20/20 [00:01<00:00, 11.26it/s, Loss=1.589308]\n"
     ]
    },
    {
     "name": "stdout",
     "output_type": "stream",
     "text": [
      "Train Epoch: 43, elapsed time:1.78s\n",
      "Training accuracy 43.88, test accuracy 40.68\n",
      "Training loss 31.786166191101074, test loss 66.78345191478729\n"
     ]
    },
    {
     "name": "stderr",
     "output_type": "stream",
     "text": [
      "100%|██████████| 20/20 [00:01<00:00, 11.33it/s, Loss=1.579946]\n"
     ]
    },
    {
     "name": "stdout",
     "output_type": "stream",
     "text": [
      "Train Epoch: 44, elapsed time:1.77s\n",
      "Training accuracy 44.64, test accuracy 41.32\n",
      "Training loss 31.5989248752594, test loss 66.80532360076904\n"
     ]
    },
    {
     "name": "stderr",
     "output_type": "stream",
     "text": [
      "100%|██████████| 20/20 [00:01<00:00, 11.31it/s, Loss=1.567870]\n"
     ]
    },
    {
     "name": "stdout",
     "output_type": "stream",
     "text": [
      "Train Epoch: 45, elapsed time:1.77s\n",
      "Training accuracy 45.48, test accuracy 39.96\n",
      "Training loss 31.357399940490723, test loss 67.0595338344574\n"
     ]
    },
    {
     "name": "stderr",
     "output_type": "stream",
     "text": [
      "100%|██████████| 20/20 [00:01<00:00, 11.29it/s, Loss=1.577451]\n"
     ]
    },
    {
     "name": "stdout",
     "output_type": "stream",
     "text": [
      "Train Epoch: 46, elapsed time:1.77s\n",
      "Training accuracy 44.6, test accuracy 40.52\n",
      "Training loss 31.549026012420654, test loss 67.02621614933014\n"
     ]
    },
    {
     "name": "stderr",
     "output_type": "stream",
     "text": [
      "100%|██████████| 20/20 [00:01<00:00, 11.08it/s, Loss=1.557339]\n"
     ]
    },
    {
     "name": "stdout",
     "output_type": "stream",
     "text": [
      "Train Epoch: 47, elapsed time:1.81s\n",
      "Training accuracy 45.14, test accuracy 40.68\n",
      "Training loss 31.14677369594574, test loss 66.47104465961456\n"
     ]
    },
    {
     "name": "stderr",
     "output_type": "stream",
     "text": [
      "100%|██████████| 20/20 [00:01<00:00, 11.49it/s, Loss=1.547375]\n"
     ]
    },
    {
     "name": "stdout",
     "output_type": "stream",
     "text": [
      "Train Epoch: 48, elapsed time:1.74s\n",
      "Training accuracy 45.7, test accuracy 41.36\n",
      "Training loss 30.947508811950684, test loss 66.361896276474\n"
     ]
    },
    {
     "name": "stderr",
     "output_type": "stream",
     "text": [
      "100%|██████████| 20/20 [00:01<00:00, 11.40it/s, Loss=1.543784]\n"
     ]
    },
    {
     "name": "stdout",
     "output_type": "stream",
     "text": [
      "Train Epoch: 49, elapsed time:1.76s\n",
      "Training accuracy 45.68, test accuracy 40.89\n",
      "Training loss 30.875672221183777, test loss 66.69114100933075\n"
     ]
    },
    {
     "name": "stderr",
     "output_type": "stream",
     "text": [
      "100%|██████████| 20/20 [00:01<00:00, 11.27it/s, Loss=1.545755]\n"
     ]
    },
    {
     "name": "stdout",
     "output_type": "stream",
     "text": [
      "Train Epoch: 50, elapsed time:1.78s\n",
      "Training accuracy 45.58, test accuracy 41.43\n",
      "Training loss 30.915104627609253, test loss 66.28528380393982\n"
     ]
    },
    {
     "name": "stderr",
     "output_type": "stream",
     "text": [
      "100%|██████████| 20/20 [00:01<00:00, 11.52it/s, Loss=1.535289]\n"
     ]
    },
    {
     "name": "stdout",
     "output_type": "stream",
     "text": [
      "Train Epoch: 51, elapsed time:1.74s\n",
      "Training accuracy 46.46, test accuracy 40.95\n",
      "Training loss 30.70578896999359, test loss 66.32423400878906\n"
     ]
    },
    {
     "name": "stderr",
     "output_type": "stream",
     "text": [
      "100%|██████████| 20/20 [00:01<00:00, 11.45it/s, Loss=1.540687]\n"
     ]
    },
    {
     "name": "stdout",
     "output_type": "stream",
     "text": [
      "Train Epoch: 52, elapsed time:1.75s\n",
      "Training accuracy 46.3, test accuracy 41.5\n",
      "Training loss 30.813746571540833, test loss 65.75224983692169\n"
     ]
    },
    {
     "name": "stderr",
     "output_type": "stream",
     "text": [
      "100%|██████████| 20/20 [00:01<00:00, 11.07it/s, Loss=1.527449]\n"
     ]
    },
    {
     "name": "stdout",
     "output_type": "stream",
     "text": [
      "Train Epoch: 53, elapsed time:1.81s\n",
      "Training accuracy 46.6, test accuracy 41.15\n",
      "Training loss 30.5489844083786, test loss 66.26313626766205\n"
     ]
    },
    {
     "name": "stderr",
     "output_type": "stream",
     "text": [
      "100%|██████████| 20/20 [00:01<00:00, 11.06it/s, Loss=1.519855]\n"
     ]
    },
    {
     "name": "stdout",
     "output_type": "stream",
     "text": [
      "Train Epoch: 54, elapsed time:1.81s\n",
      "Training accuracy 46.8, test accuracy 41.82\n",
      "Training loss 30.397098302841187, test loss 65.59455120563507\n"
     ]
    },
    {
     "name": "stderr",
     "output_type": "stream",
     "text": [
      "100%|██████████| 20/20 [00:01<00:00, 11.06it/s, Loss=1.523006]\n"
     ]
    },
    {
     "name": "stdout",
     "output_type": "stream",
     "text": [
      "Train Epoch: 55, elapsed time:1.81s\n",
      "Training accuracy 46.46, test accuracy 41.49\n",
      "Training loss 30.460124850273132, test loss 65.82125329971313\n"
     ]
    },
    {
     "name": "stderr",
     "output_type": "stream",
     "text": [
      "100%|██████████| 20/20 [00:01<00:00, 11.04it/s, Loss=1.502909]\n"
     ]
    },
    {
     "name": "stdout",
     "output_type": "stream",
     "text": [
      "Train Epoch: 56, elapsed time:1.81s\n",
      "Training accuracy 46.1, test accuracy 41.11\n",
      "Training loss 30.058178782463074, test loss 66.17143130302429\n"
     ]
    },
    {
     "name": "stderr",
     "output_type": "stream",
     "text": [
      "100%|██████████| 20/20 [00:01<00:00, 11.16it/s, Loss=1.504056]\n"
     ]
    },
    {
     "name": "stdout",
     "output_type": "stream",
     "text": [
      "Train Epoch: 57, elapsed time:1.79s\n",
      "Training accuracy 48.08, test accuracy 42.01\n",
      "Training loss 30.08112061023712, test loss 65.25216162204742\n"
     ]
    },
    {
     "name": "stderr",
     "output_type": "stream",
     "text": [
      "100%|██████████| 20/20 [00:01<00:00, 10.31it/s, Loss=1.500725]\n"
     ]
    },
    {
     "name": "stdout",
     "output_type": "stream",
     "text": [
      "Train Epoch: 58, elapsed time:1.94s\n",
      "Training accuracy 46.96, test accuracy 41.81\n",
      "Training loss 30.014503002166748, test loss 65.58556711673737\n"
     ]
    },
    {
     "name": "stderr",
     "output_type": "stream",
     "text": [
      "100%|██████████| 20/20 [00:01<00:00, 11.02it/s, Loss=1.486311]\n"
     ]
    },
    {
     "name": "stdout",
     "output_type": "stream",
     "text": [
      "Train Epoch: 59, elapsed time:1.82s\n",
      "Training accuracy 47.42, test accuracy 41.51\n",
      "Training loss 29.726210236549377, test loss 66.19914376735687\n"
     ]
    },
    {
     "name": "stderr",
     "output_type": "stream",
     "text": [
      "100%|██████████| 20/20 [00:01<00:00, 11.03it/s, Loss=1.487168]\n"
     ]
    },
    {
     "name": "stdout",
     "output_type": "stream",
     "text": [
      "Train Epoch: 60, elapsed time:1.82s\n",
      "Training accuracy 47.22, test accuracy 42.14\n",
      "Training loss 29.74335014820099, test loss 65.49232864379883\n"
     ]
    },
    {
     "name": "stderr",
     "output_type": "stream",
     "text": [
      "100%|██████████| 20/20 [00:01<00:00, 11.25it/s, Loss=1.478783]\n"
     ]
    },
    {
     "name": "stdout",
     "output_type": "stream",
     "text": [
      "Train Epoch: 61, elapsed time:1.78s\n",
      "Training accuracy 48.1, test accuracy 42.02\n",
      "Training loss 29.575664401054382, test loss 65.3884506225586\n"
     ]
    },
    {
     "name": "stderr",
     "output_type": "stream",
     "text": [
      "100%|██████████| 20/20 [00:01<00:00, 10.91it/s, Loss=1.457308]\n"
     ]
    },
    {
     "name": "stdout",
     "output_type": "stream",
     "text": [
      "Train Epoch: 62, elapsed time:1.84s\n",
      "Training accuracy 47.64, test accuracy 41.92\n",
      "Training loss 29.14615511894226, test loss 65.20533430576324\n"
     ]
    },
    {
     "name": "stderr",
     "output_type": "stream",
     "text": [
      "100%|██████████| 20/20 [00:01<00:00, 10.96it/s, Loss=1.460484]\n"
     ]
    },
    {
     "name": "stdout",
     "output_type": "stream",
     "text": [
      "Train Epoch: 63, elapsed time:1.83s\n",
      "Training accuracy 48.8, test accuracy 42.3\n",
      "Training loss 29.20968759059906, test loss 65.41587901115417\n"
     ]
    },
    {
     "name": "stderr",
     "output_type": "stream",
     "text": [
      "100%|██████████| 20/20 [00:01<00:00, 10.94it/s, Loss=1.465027]\n"
     ]
    },
    {
     "name": "stdout",
     "output_type": "stream",
     "text": [
      "Train Epoch: 64, elapsed time:1.83s\n",
      "Training accuracy 48.36, test accuracy 42.08\n",
      "Training loss 29.300532937049866, test loss 65.25103735923767\n"
     ]
    },
    {
     "name": "stderr",
     "output_type": "stream",
     "text": [
      "100%|██████████| 20/20 [00:01<00:00, 10.89it/s, Loss=1.444539]\n"
     ]
    },
    {
     "name": "stdout",
     "output_type": "stream",
     "text": [
      "Train Epoch: 65, elapsed time:1.84s\n",
      "Training accuracy 48.92, test accuracy 42.32\n",
      "Training loss 28.8907870054245, test loss 64.91517281532288\n"
     ]
    },
    {
     "name": "stderr",
     "output_type": "stream",
     "text": [
      "100%|██████████| 20/20 [00:01<00:00, 11.02it/s, Loss=1.448488]\n"
     ]
    },
    {
     "name": "stdout",
     "output_type": "stream",
     "text": [
      "Train Epoch: 66, elapsed time:1.82s\n",
      "Training accuracy 48.74, test accuracy 41.76\n",
      "Training loss 28.96975612640381, test loss 65.58154034614563\n"
     ]
    },
    {
     "name": "stderr",
     "output_type": "stream",
     "text": [
      "100%|██████████| 20/20 [00:01<00:00, 10.93it/s, Loss=1.456670]\n"
     ]
    },
    {
     "name": "stdout",
     "output_type": "stream",
     "text": [
      "Train Epoch: 67, elapsed time:1.83s\n",
      "Training accuracy 48.38, test accuracy 42.59\n",
      "Training loss 29.133403301239014, test loss 64.93577206134796\n"
     ]
    },
    {
     "name": "stderr",
     "output_type": "stream",
     "text": [
      "100%|██████████| 20/20 [00:01<00:00, 10.93it/s, Loss=1.427261]\n"
     ]
    },
    {
     "name": "stdout",
     "output_type": "stream",
     "text": [
      "Train Epoch: 68, elapsed time:1.83s\n",
      "Training accuracy 49.9, test accuracy 42.2\n",
      "Training loss 28.545228600502014, test loss 65.11608791351318\n"
     ]
    },
    {
     "name": "stderr",
     "output_type": "stream",
     "text": [
      "100%|██████████| 20/20 [00:01<00:00, 10.99it/s, Loss=1.429935]\n"
     ]
    },
    {
     "name": "stdout",
     "output_type": "stream",
     "text": [
      "Train Epoch: 69, elapsed time:1.82s\n",
      "Training accuracy 49.7, test accuracy 42.02\n",
      "Training loss 28.59869122505188, test loss 64.78770339488983\n"
     ]
    },
    {
     "name": "stderr",
     "output_type": "stream",
     "text": [
      "100%|██████████| 20/20 [00:01<00:00, 11.18it/s, Loss=1.412677]\n"
     ]
    },
    {
     "name": "stdout",
     "output_type": "stream",
     "text": [
      "Train Epoch: 70, elapsed time:1.79s\n",
      "Training accuracy 50.02, test accuracy 43.1\n",
      "Training loss 28.25353467464447, test loss 64.80965197086334\n"
     ]
    },
    {
     "name": "stderr",
     "output_type": "stream",
     "text": [
      "100%|██████████| 20/20 [00:01<00:00, 11.26it/s, Loss=1.409656]\n"
     ]
    },
    {
     "name": "stdout",
     "output_type": "stream",
     "text": [
      "Train Epoch: 71, elapsed time:1.78s\n",
      "Training accuracy 50.74, test accuracy 42.86\n",
      "Training loss 28.193117022514343, test loss 64.68308281898499\n"
     ]
    },
    {
     "name": "stderr",
     "output_type": "stream",
     "text": [
      "100%|██████████| 20/20 [00:01<00:00, 11.17it/s, Loss=1.398560]\n"
     ]
    },
    {
     "name": "stdout",
     "output_type": "stream",
     "text": [
      "Train Epoch: 72, elapsed time:1.79s\n",
      "Training accuracy 51.18, test accuracy 42.4\n",
      "Training loss 27.971195340156555, test loss 64.47918629646301\n"
     ]
    },
    {
     "name": "stderr",
     "output_type": "stream",
     "text": [
      "100%|██████████| 20/20 [00:01<00:00, 10.97it/s, Loss=1.413399]\n"
     ]
    },
    {
     "name": "stdout",
     "output_type": "stream",
     "text": [
      "Train Epoch: 73, elapsed time:1.82s\n",
      "Training accuracy 50.54, test accuracy 42.69\n",
      "Training loss 28.267974734306335, test loss 64.28967499732971\n"
     ]
    },
    {
     "name": "stderr",
     "output_type": "stream",
     "text": [
      "100%|██████████| 20/20 [00:01<00:00, 11.05it/s, Loss=1.407014]\n"
     ]
    },
    {
     "name": "stdout",
     "output_type": "stream",
     "text": [
      "Train Epoch: 74, elapsed time:1.81s\n",
      "Training accuracy 50.28, test accuracy 43.63\n",
      "Training loss 28.14027714729309, test loss 64.18680083751678\n"
     ]
    },
    {
     "name": "stderr",
     "output_type": "stream",
     "text": [
      "100%|██████████| 20/20 [00:01<00:00, 10.93it/s, Loss=1.389226]\n"
     ]
    },
    {
     "name": "stdout",
     "output_type": "stream",
     "text": [
      "Train Epoch: 75, elapsed time:1.83s\n",
      "Training accuracy 51.68, test accuracy 43.02\n",
      "Training loss 27.7845139503479, test loss 64.77402782440186\n"
     ]
    },
    {
     "name": "stderr",
     "output_type": "stream",
     "text": [
      "100%|██████████| 20/20 [00:01<00:00, 11.12it/s, Loss=1.397760]\n"
     ]
    },
    {
     "name": "stdout",
     "output_type": "stream",
     "text": [
      "Train Epoch: 76, elapsed time:1.80s\n",
      "Training accuracy 50.92, test accuracy 43.55\n",
      "Training loss 27.955204963684082, test loss 64.13089764118195\n"
     ]
    },
    {
     "name": "stderr",
     "output_type": "stream",
     "text": [
      "100%|██████████| 20/20 [00:01<00:00, 10.10it/s, Loss=1.377304]\n"
     ]
    },
    {
     "name": "stdout",
     "output_type": "stream",
     "text": [
      "Train Epoch: 77, elapsed time:1.98s\n",
      "Training accuracy 51.34, test accuracy 41.68\n",
      "Training loss 27.546070098876953, test loss 65.37382054328918\n"
     ]
    },
    {
     "name": "stderr",
     "output_type": "stream",
     "text": [
      "100%|██████████| 20/20 [00:01<00:00, 11.20it/s, Loss=1.374189]\n"
     ]
    },
    {
     "name": "stdout",
     "output_type": "stream",
     "text": [
      "Train Epoch: 78, elapsed time:1.79s\n",
      "Training accuracy 52.22, test accuracy 42.2\n",
      "Training loss 27.483785033226013, test loss 65.10072827339172\n"
     ]
    },
    {
     "name": "stderr",
     "output_type": "stream",
     "text": [
      "100%|██████████| 20/20 [00:01<00:00, 10.92it/s, Loss=1.371054]\n"
     ]
    },
    {
     "name": "stdout",
     "output_type": "stream",
     "text": [
      "Train Epoch: 79, elapsed time:1.83s\n",
      "Training accuracy 51.8, test accuracy 42.95\n",
      "Training loss 27.421082258224487, test loss 64.3728996515274\n"
     ]
    },
    {
     "name": "stderr",
     "output_type": "stream",
     "text": [
      "100%|██████████| 20/20 [00:01<00:00, 11.21it/s, Loss=1.366271]\n"
     ]
    },
    {
     "name": "stdout",
     "output_type": "stream",
     "text": [
      "Train Epoch: 80, elapsed time:1.79s\n",
      "Training accuracy 52.08, test accuracy 42.12\n",
      "Training loss 27.325424194335938, test loss 65.3773045539856\n"
     ]
    },
    {
     "name": "stderr",
     "output_type": "stream",
     "text": [
      "100%|██████████| 20/20 [00:01<00:00, 11.39it/s, Loss=1.378417]\n"
     ]
    },
    {
     "name": "stdout",
     "output_type": "stream",
     "text": [
      "Train Epoch: 81, elapsed time:1.76s\n",
      "Training accuracy 51.42, test accuracy 42.78\n",
      "Training loss 27.56834626197815, test loss 64.08188390731812\n"
     ]
    },
    {
     "name": "stderr",
     "output_type": "stream",
     "text": [
      "100%|██████████| 20/20 [00:01<00:00, 11.14it/s, Loss=1.362640]\n"
     ]
    },
    {
     "name": "stdout",
     "output_type": "stream",
     "text": [
      "Train Epoch: 82, elapsed time:1.80s\n",
      "Training accuracy 52.14, test accuracy 43.23\n",
      "Training loss 27.252792239189148, test loss 64.22805905342102\n"
     ]
    },
    {
     "name": "stderr",
     "output_type": "stream",
     "text": [
      "100%|██████████| 20/20 [00:01<00:00, 11.04it/s, Loss=1.351460]\n"
     ]
    },
    {
     "name": "stdout",
     "output_type": "stream",
     "text": [
      "Train Epoch: 83, elapsed time:1.81s\n",
      "Training accuracy 53.04, test accuracy 43.56\n",
      "Training loss 27.02920913696289, test loss 63.83122634887695\n"
     ]
    },
    {
     "name": "stderr",
     "output_type": "stream",
     "text": [
      "100%|██████████| 20/20 [00:01<00:00, 11.14it/s, Loss=1.346880]\n"
     ]
    },
    {
     "name": "stdout",
     "output_type": "stream",
     "text": [
      "Train Epoch: 84, elapsed time:1.80s\n",
      "Training accuracy 53.52, test accuracy 43.05\n",
      "Training loss 26.937601804733276, test loss 63.92365372180939\n"
     ]
    },
    {
     "name": "stderr",
     "output_type": "stream",
     "text": [
      "100%|██████████| 20/20 [00:01<00:00, 11.34it/s, Loss=1.348262]\n"
     ]
    },
    {
     "name": "stdout",
     "output_type": "stream",
     "text": [
      "Train Epoch: 85, elapsed time:1.77s\n",
      "Training accuracy 53.52, test accuracy 43.09\n",
      "Training loss 26.965232729911804, test loss 64.42648673057556\n"
     ]
    },
    {
     "name": "stderr",
     "output_type": "stream",
     "text": [
      "100%|██████████| 20/20 [00:01<00:00, 11.09it/s, Loss=1.351092]\n"
     ]
    },
    {
     "name": "stdout",
     "output_type": "stream",
     "text": [
      "Train Epoch: 86, elapsed time:1.81s\n",
      "Training accuracy 52.62, test accuracy 42.2\n",
      "Training loss 27.021849989891052, test loss 66.23801267147064\n"
     ]
    },
    {
     "name": "stderr",
     "output_type": "stream",
     "text": [
      "100%|██████████| 20/20 [00:01<00:00, 11.15it/s, Loss=1.342542]\n"
     ]
    },
    {
     "name": "stdout",
     "output_type": "stream",
     "text": [
      "Train Epoch: 87, elapsed time:1.80s\n",
      "Training accuracy 52.64, test accuracy 42.76\n",
      "Training loss 26.850834131240845, test loss 64.58750581741333\n"
     ]
    },
    {
     "name": "stderr",
     "output_type": "stream",
     "text": [
      "100%|██████████| 20/20 [00:01<00:00, 10.98it/s, Loss=1.339875]\n"
     ]
    },
    {
     "name": "stdout",
     "output_type": "stream",
     "text": [
      "Train Epoch: 88, elapsed time:1.82s\n",
      "Training accuracy 53.12, test accuracy 43.44\n",
      "Training loss 26.79749608039856, test loss 63.89844369888306\n"
     ]
    },
    {
     "name": "stderr",
     "output_type": "stream",
     "text": [
      "100%|██████████| 20/20 [00:01<00:00, 11.20it/s, Loss=1.334365]\n"
     ]
    },
    {
     "name": "stdout",
     "output_type": "stream",
     "text": [
      "Train Epoch: 89, elapsed time:1.79s\n",
      "Training accuracy 52.64, test accuracy 43.67\n",
      "Training loss 26.687295794487, test loss 63.83909368515015\n"
     ]
    },
    {
     "name": "stderr",
     "output_type": "stream",
     "text": [
      "100%|██████████| 20/20 [00:01<00:00, 10.97it/s, Loss=1.326146]\n"
     ]
    },
    {
     "name": "stdout",
     "output_type": "stream",
     "text": [
      "Train Epoch: 90, elapsed time:1.83s\n",
      "\n",
      "Early stopping\n"
     ]
    },
    {
     "data": {
      "text/plain": "<Figure size 1200x500 with 2 Axes>",
      "image/png": "[encoded data removed]"
     },
     "metadata": {},
     "output_type": "display_data"
    }
   ],
   "source": [
    "epochs = 100\n",
    "\n",
    "def training():\n",
    "    train_losses = []\n",
    "    train_accuracies = []\n",
    "    test_losses = []\n",
    "    test_accuracies = []\n",
    "    best_acc = 0.0\n",
    "    for epoch in range(1, epochs + 1):\n",
    "        train_loss, train_acc = train(self_supervised_model, device, train_loader_noisy_10, criterion, optimizer, epoch)\n",
    "        scheduler.step(train_loss)\n",
    "        train_losses.append(train_loss)\n",
    "        train_accuracies.append(train_acc)\n",
    "\n",
    "        test_loss, test_acc = test(self_supervised_model, device, test_loader, criterion)\n",
    "        test_losses.append(test_loss)\n",
    "        test_accuracies.append(test_acc)\n",
    "\n",
    "        # Terminate training if loss stopped to decrease\n",
    "        if early_stopping(test_loss):\n",
    "            print('\\nEarly stopping\\n')\n",
    "            break\n",
    "        # Deep copy the weight of model if its accuracy is the best for now\n",
    "        if test_acc > best_acc:\n",
    "            best_acc = test_acc\n",
    "            best_model_wts = copy.deepcopy(self_supervised_model.state_dict())\n",
    "            \n",
    "        print(f\"Training accuracy {train_acc}, test accuracy {test_acc}\")\n",
    "        print(f\"Training loss {train_loss}, test loss {test_loss}\")\n",
    "\n",
    "    self_supervised_model.load_state_dict(best_model_wts)\n",
    "    torch.save(self_supervised_model.state_dict(), \"best_self_supervised_model.pt\")\n",
    "\n",
    "    # Plot training curves\n",
    "    plt.figure(figsize=(12, 5))\n",
    "    plt.subplot(1, 2, 1)\n",
    "    plt.plot(range(1, epoch + 1), train_losses, label='Training Loss')\n",
    "    plt.plot(range(1, epoch + 1), test_losses, label='Validation Loss')\n",
    "    plt.xlabel('Epochs')\n",
    "    plt.ylabel('Loss')\n",
    "    plt.title('Training and Validation Loss')\n",
    "    plt.legend()\n",
    "\n",
    "    plt.subplot(1, 2, 2)\n",
    "    plt.plot(range(1, epoch + 1), train_accuracies, label='Training Accuracy')\n",
    "    plt.plot(range(1, epoch + 1), test_accuracies, label='Validation Accuracy')\n",
    "    plt.xlabel('Epochs')\n",
    "    plt.ylabel('Accuracy')\n",
    "    plt.title('Training and Validation Accuracy')\n",
    "    plt.legend()\n",
    "\n",
    "    plt.tight_layout()\n",
    "    plt.show()\n",
    "\n",
    "\n",
    "training()"
   ],
   "metadata": {
    "collapsed": false,
    "ExecuteTime": {
     "end_time": "2024-04-24T13:42:46.490736Z",
     "start_time": "2024-04-24T13:28:40.972113900Z"
    }
   },
   "execution_count": 121
  },
  {
   "cell_type": "markdown",
   "metadata": {
    "id": "mSeIRmBK9PI2"
   },
   "source": [
    "## Task 3. Auxiliary learning [12 pts]\n",
    "For this task I used [Deep Reconstruction-Classification Network for Unsupervised Domain Adaptation](https://link.springer.com/chapter/10.1007/978-3-319-46493-0_36) article"
   ]
  },
  {
   "cell_type": "markdown",
   "source": [
    "### Define test and training function for DRCN model"
   ],
   "metadata": {
    "collapsed": false
   }
  },
  {
   "cell_type": "code",
   "outputs": [],
   "source": [
    "\n",
    "def train_drcn(model, device, train_loader, classifier_criterion, decoder_criterion, optimizer, epoch, lamda=0.1):\n",
    "    model.train()\n",
    "    epoch_loss = 0\n",
    "    start_time = time()\n",
    "    correct = 0\n",
    "    iteration = 0\n",
    "    length = 0\n",
    "\n",
    "    bar = tqdm(train_loader)\n",
    "    # learning classifier\n",
    "    for data, _, lebel in bar:\n",
    "        data, lebel = data.to(device), lebel.to(device)\n",
    "        optimizer.zero_grad()\n",
    "        _, outputs = model(data)\n",
    "\n",
    "        pred = outputs.argmax(dim=1, keepdim=True)\n",
    "        correct += pred.eq(lebel.view_as(pred)).sum().item()\n",
    "        length += len(data)\n",
    "\n",
    "        loss = lamda * classifier_criterion(outputs, lebel)\n",
    "\n",
    "        loss.backward()\n",
    "        optimizer.step()\n",
    "\n",
    "        epoch_loss += loss.item()\n",
    "        iteration += 1\n",
    "        bar.set_postfix({\"Loss\": format(epoch_loss / iteration, '.6f')})\n",
    "        \n",
    "    bar = tqdm(train_loader)\n",
    "    # learning decoder\n",
    "    for data, target, _ in bar:\n",
    "        data, target = data.to(device), target.to(device)\n",
    "        optimizer.zero_grad()\n",
    "        decoded, _ = model(data)\n",
    "\n",
    "        loss = (1 - lamda) * decoder_criterion(decoded, target)\n",
    "\n",
    "        loss.backward()\n",
    "        optimizer.step()\n",
    "\n",
    "        epoch_loss += loss.item()\n",
    "        iteration += 1\n",
    "        bar.set_postfix({\"Loss\": format(epoch_loss / iteration, '.6f')})\n",
    "\n",
    "    acc = 100. * correct / length\n",
    "    print(f'\\rTrain Epoch: {epoch}, elapsed time:{time() - start_time:.2f}s')\n",
    "    return epoch_loss, acc\n",
    "\n",
    "\n",
    "def test_drcn(model, device, test_loader, classifier_criterion, decoder_criterion, lamda=0.1):\n",
    "    model.eval()\n",
    "    test_loss = 0\n",
    "    correct = 0\n",
    "    with torch.no_grad():\n",
    "        for data, target in test_loader:\n",
    "            data, target = data.to(device), target.to(device)\n",
    "            decoded, output = model(data)\n",
    "            classific_loss = classifier_criterion(output, target)\n",
    "            decoder_loss = decoder_criterion(decoded, data)\n",
    "            loss = lamda * classific_loss + (1 - lamda) * decoder_loss\n",
    "            test_loss += loss.item()\n",
    "\n",
    "            pred = output.argmax(dim=1, keepdim=True)  # get the index of the max log-probability\n",
    "            correct += pred.eq(target.view_as(pred)).sum().item()\n",
    "\n",
    "    acc = 100. * correct / len(test_loader.dataset)\n",
    "    return test_loss, acc"
   ],
   "metadata": {
    "collapsed": false,
    "ExecuteTime": {
     "end_time": "2024-04-24T13:42:46.507269700Z",
     "start_time": "2024-04-24T13:42:46.498736Z"
    }
   },
   "execution_count": 122
  },
  {
   "cell_type": "markdown",
   "source": [
    "## DRCN model\n",
    "\n",
    "### Encoder\n",
    "- **Convolutional Layers**: \n",
    "  - Input Channels: 3 (RGB images)\n",
    "  - Output Channels: 64, 128, 256\n",
    "  - Kernel Size: 3x3\n",
    "  - Padding: 1\n",
    "- **Activation Function**: ReLU\n",
    "- **Pooling**: Max pooling with kernel size 2x2 and stride 2\n",
    "\n",
    "The encoder extracts hierarchical features from the input image, gradually reducing its spatial dimensions while increasing the number of channels.\n",
    "\n",
    "### Decoder\n",
    "- **Transposed Convolutional Layers**:\n",
    "  - Input Channels: 256\n",
    "  - Output Channels: 128, 64, 3 (RGB channels)\n",
    "  - Kernel Size: 2x2\n",
    "  - Stride: 2\n",
    "- **Activation Function**: ReLU (except for the last layer, which uses Sigmoid)\n",
    "\n",
    "The decoder reconstructs the original input image from the encoded representation obtained by the encoder.\n",
    "\n",
    "### Classification Layer\n",
    "- **Fully Connected Layers**:\n",
    "  - Input Size: 256 * 4 * 4 (Flattened output of the encoder)\n",
    "  - Output Size: 10 (Number of classes)\n",
    "- **Batch Normalization**: Applied to the output of the first fully connected layer\n",
    "- **Activation Function**: ReLU\n",
    "- **Dropout**: Regularization with a dropout rate of 0.5\n",
    "- **Output Activation**: Log softmax\n",
    "\n",
    "The classification layer takes the encoded representation as input and predicts the class labels for the input images.\n"
   ],
   "metadata": {
    "collapsed": false
   }
  },
  {
   "cell_type": "code",
   "outputs": [],
   "source": [
    "# Define the DRCN model\n",
    "class DRCN(nn.Module):\n",
    "    def __init__(self):\n",
    "        super(DRCN, self).__init__()\n",
    "        # Encoder\n",
    "        self.encoder = nn.Sequential(\n",
    "            nn.Conv2d(3, 64, kernel_size=3, padding=1),\n",
    "            nn.ReLU(True),\n",
    "            nn.MaxPool2d(kernel_size=2, stride=2),\n",
    "            nn.Conv2d(64, 128, kernel_size=3, padding=1),\n",
    "            nn.ReLU(True),\n",
    "            nn.MaxPool2d(kernel_size=2, stride=2),\n",
    "            nn.Conv2d(128, 256, kernel_size=3, padding=1),\n",
    "            nn.ReLU(True),\n",
    "            nn.MaxPool2d(kernel_size=2, stride=2)  # Dimension: (batch_size, 256, 4, 4)\n",
    "        )\n",
    "        # Decoder\n",
    "        self.decoder = nn.Sequential(\n",
    "            nn.ConvTranspose2d(256, 128, kernel_size=2, stride=2),\n",
    "            nn.ReLU(True),\n",
    "            nn.ConvTranspose2d(128, 64, kernel_size=2, stride=2),\n",
    "            nn.ReLU(True),\n",
    "            nn.ConvTranspose2d(64, 3, kernel_size=2, stride=2),\n",
    "            nn.Sigmoid()  # Output: (batch_size, 3, 32, 32)\n",
    "        )\n",
    "        # Classification layer\n",
    "        self.classifier = nn.Sequential(\n",
    "            nn.Flatten(),\n",
    "            nn.Linear(256 * 4 * 4, 512),\n",
    "            nn.BatchNorm1d(512),\n",
    "            nn.ReLU(True),\n",
    "            nn.Dropout(0.5),\n",
    "            nn.Linear(512, 10)\n",
    "        )\n",
    "\n",
    "    def forward(self, x):\n",
    "        encoded = self.encoder(x)\n",
    "        decoded = self.decoder(encoded)\n",
    "        output = self.classifier(encoded)\n",
    "        output = F.log_softmax(output, dim=1)\n",
    "        return decoded, output\n",
    "\n",
    "\n",
    "drcn_model = DRCN().to(device)"
   ],
   "metadata": {
    "collapsed": false,
    "ExecuteTime": {
     "end_time": "2024-04-24T13:42:46.569682200Z",
     "start_time": "2024-04-24T13:42:46.503270600Z"
    }
   },
   "execution_count": 123
  },
  {
   "cell_type": "markdown",
   "source": [
    "### Define hyperparameters"
   ],
   "metadata": {
    "collapsed": false
   }
  },
  {
   "cell_type": "code",
   "outputs": [],
   "source": [
    "classifier_criterion = nn.CrossEntropyLoss()\n",
    "decoder_criterion = nn.MSELoss()\n",
    "optimizer = Adam(drcn_model.parameters(), lr=0.0001)\n",
    "scheduler = lr_scheduler.ReduceLROnPlateau(optimizer, 'min', factor=0.3,\n",
    "                                           patience=3, min_lr=0.0000001)\n",
    "early_stopping = EarlyStopping(tolerance=7, mode='min')"
   ],
   "metadata": {
    "collapsed": false,
    "ExecuteTime": {
     "end_time": "2024-04-24T13:42:46.570687800Z",
     "start_time": "2024-04-24T13:42:46.550413400Z"
    }
   },
   "execution_count": 124
  },
  {
   "cell_type": "markdown",
   "source": [
    "### Training DRCN model"
   ],
   "metadata": {
    "collapsed": false
   }
  },
  {
   "cell_type": "code",
   "outputs": [
    {
     "name": "stderr",
     "output_type": "stream",
     "text": [
      "100%|██████████| 20/20 [00:02<00:00,  9.40it/s, Loss=0.193861]\n",
      "100%|██████████| 20/20 [00:02<00:00,  9.57it/s, Loss=0.346751]\n"
     ]
    },
    {
     "name": "stdout",
     "output_type": "stream",
     "text": [
      "Train Epoch: 1, elapsed time:4.22s\n",
      "Training accuracy 29.44, test accuracy 39.21\n",
      "Training loss 13.870047196745872, test loss 27.92584979534149\n"
     ]
    },
    {
     "name": "stderr",
     "output_type": "stream",
     "text": [
      "100%|██████████| 20/20 [00:02<00:00,  9.89it/s, Loss=0.162398]\n",
      "100%|██████████| 20/20 [00:02<00:00,  9.27it/s, Loss=0.327556]\n"
     ]
    },
    {
     "name": "stdout",
     "output_type": "stream",
     "text": [
      "Train Epoch: 2, elapsed time:4.19s\n",
      "Training accuracy 42.88, test accuracy 44.94\n",
      "Training loss 13.102222934365273, test loss 25.588701903820038\n"
     ]
    },
    {
     "name": "stderr",
     "output_type": "stream",
     "text": [
      "100%|██████████| 20/20 [00:02<00:00,  9.15it/s, Loss=0.147972]\n",
      "100%|██████████| 20/20 [00:02<00:00,  9.28it/s, Loss=0.310890]\n"
     ]
    },
    {
     "name": "stdout",
     "output_type": "stream",
     "text": [
      "Train Epoch: 3, elapsed time:4.35s\n",
      "Training accuracy 47.76, test accuracy 37.84\n",
      "Training loss 12.435588255524635, test loss 25.216636896133423\n"
     ]
    },
    {
     "name": "stderr",
     "output_type": "stream",
     "text": [
      "100%|██████████| 20/20 [00:02<00:00,  9.72it/s, Loss=0.146599]\n",
      "100%|██████████| 20/20 [00:02<00:00,  9.56it/s, Loss=0.261697]\n"
     ]
    },
    {
     "name": "stdout",
     "output_type": "stream",
     "text": [
      "Train Epoch: 4, elapsed time:4.15s\n",
      "Training accuracy 48.72, test accuracy 24.68\n",
      "Training loss 10.467864885926247, test loss 22.247262060642242\n"
     ]
    },
    {
     "name": "stderr",
     "output_type": "stream",
     "text": [
      "100%|██████████| 20/20 [00:01<00:00, 10.05it/s, Loss=0.168599]\n",
      "100%|██████████| 20/20 [00:02<00:00,  9.53it/s, Loss=0.206248]\n"
     ]
    },
    {
     "name": "stdout",
     "output_type": "stream",
     "text": [
      "Train Epoch: 5, elapsed time:4.09s\n",
      "Training accuracy 40.26, test accuracy 41.87\n",
      "Training loss 8.249916017055511, test loss 15.414881408214569\n"
     ]
    },
    {
     "name": "stderr",
     "output_type": "stream",
     "text": [
      "100%|██████████| 20/20 [00:02<00:00,  9.96it/s, Loss=0.159724]\n",
      "100%|██████████| 20/20 [00:02<00:00,  9.34it/s, Loss=0.192427]\n"
     ]
    },
    {
     "name": "stdout",
     "output_type": "stream",
     "text": [
      "Train Epoch: 6, elapsed time:4.16s\n",
      "Training accuracy 43.16, test accuracy 43.56\n",
      "Training loss 7.697073340415955, test loss 15.034983068704605\n"
     ]
    },
    {
     "name": "stderr",
     "output_type": "stream",
     "text": [
      "100%|██████████| 20/20 [00:01<00:00, 10.26it/s, Loss=0.150057]\n",
      "100%|██████████| 20/20 [00:02<00:00,  9.71it/s, Loss=0.184661]\n"
     ]
    },
    {
     "name": "stdout",
     "output_type": "stream",
     "text": [
      "Train Epoch: 7, elapsed time:4.01s\n",
      "Training accuracy 47.24, test accuracy 44.77\n",
      "Training loss 7.3864553570747375, test loss 14.549857884645462\n"
     ]
    },
    {
     "name": "stderr",
     "output_type": "stream",
     "text": [
      "100%|██████████| 20/20 [00:01<00:00, 10.28it/s, Loss=0.145476]\n",
      "100%|██████████| 20/20 [00:02<00:00,  9.58it/s, Loss=0.177844]\n"
     ]
    },
    {
     "name": "stdout",
     "output_type": "stream",
     "text": [
      "Train Epoch: 8, elapsed time:4.04s\n",
      "Training accuracy 48.86, test accuracy 45.74\n",
      "Training loss 7.113744452595711, test loss 14.084270864725113\n"
     ]
    },
    {
     "name": "stderr",
     "output_type": "stream",
     "text": [
      "100%|██████████| 20/20 [00:01<00:00, 10.03it/s, Loss=0.142104]\n",
      "100%|██████████| 20/20 [00:02<00:00,  9.43it/s, Loss=0.170779]\n"
     ]
    },
    {
     "name": "stdout",
     "output_type": "stream",
     "text": [
      "Train Epoch: 9, elapsed time:4.12s\n",
      "Training accuracy 49.94, test accuracy 46.95\n",
      "Training loss 6.831168860197067, test loss 13.634903997182846\n"
     ]
    },
    {
     "name": "stderr",
     "output_type": "stream",
     "text": [
      "100%|██████████| 20/20 [00:02<00:00,  9.99it/s, Loss=0.140796]\n",
      "100%|██████████| 20/20 [00:02<00:00,  9.39it/s, Loss=0.165996]\n"
     ]
    },
    {
     "name": "stdout",
     "output_type": "stream",
     "text": [
      "Train Epoch: 10, elapsed time:4.14s\n",
      "Training accuracy 51.36, test accuracy 47.91\n",
      "Training loss 6.639852732419968, test loss 13.236294090747833\n"
     ]
    },
    {
     "name": "stderr",
     "output_type": "stream",
     "text": [
      "100%|██████████| 20/20 [00:01<00:00, 10.39it/s, Loss=0.136455]\n",
      "100%|██████████| 20/20 [00:02<00:00,  9.44it/s, Loss=0.161781]\n"
     ]
    },
    {
     "name": "stdout",
     "output_type": "stream",
     "text": [
      "Train Epoch: 11, elapsed time:4.05s\n",
      "Training accuracy 51.44, test accuracy 49.0\n",
      "Training loss 6.471225216984749, test loss 12.992288380861282\n"
     ]
    },
    {
     "name": "stderr",
     "output_type": "stream",
     "text": [
      "100%|██████████| 20/20 [00:01<00:00, 10.20it/s, Loss=0.130293]\n",
      "100%|██████████| 20/20 [00:02<00:00,  9.38it/s, Loss=0.157175]\n"
     ]
    },
    {
     "name": "stdout",
     "output_type": "stream",
     "text": [
      "Train Epoch: 12, elapsed time:4.10s\n",
      "Training accuracy 53.76, test accuracy 49.91\n",
      "Training loss 6.287014804780483, test loss 12.778292566537857\n"
     ]
    },
    {
     "name": "stderr",
     "output_type": "stream",
     "text": [
      "100%|██████████| 20/20 [00:02<00:00,  9.19it/s, Loss=0.126075]\n",
      "100%|██████████| 20/20 [00:02<00:00,  9.17it/s, Loss=0.153810]\n"
     ]
    },
    {
     "name": "stdout",
     "output_type": "stream",
     "text": [
      "Train Epoch: 13, elapsed time:4.36s\n",
      "Training accuracy 55.06, test accuracy 50.52\n",
      "Training loss 6.152391843497753, test loss 12.612380892038345\n"
     ]
    },
    {
     "name": "stderr",
     "output_type": "stream",
     "text": [
      "100%|██████████| 20/20 [00:02<00:00,  9.97it/s, Loss=0.123032]\n",
      "100%|██████████| 20/20 [00:02<00:00,  9.47it/s, Loss=0.151009]\n"
     ]
    },
    {
     "name": "stdout",
     "output_type": "stream",
     "text": [
      "Train Epoch: 14, elapsed time:4.12s\n",
      "Training accuracy 56.22, test accuracy 51.54\n",
      "Training loss 6.040366567671299, test loss 12.442392528057098\n"
     ]
    },
    {
     "name": "stderr",
     "output_type": "stream",
     "text": [
      "100%|██████████| 20/20 [00:01<00:00, 10.01it/s, Loss=0.118783]\n",
      "100%|██████████| 20/20 [00:02<00:00,  9.39it/s, Loss=0.147942]\n"
     ]
    },
    {
     "name": "stdout",
     "output_type": "stream",
     "text": [
      "Train Epoch: 15, elapsed time:4.14s\n",
      "Training accuracy 58.78, test accuracy 51.42\n",
      "Training loss 5.917667433619499, test loss 12.369243115186691\n"
     ]
    },
    {
     "name": "stderr",
     "output_type": "stream",
     "text": [
      "100%|██████████| 20/20 [00:02<00:00,  9.85it/s, Loss=0.114308]\n",
      "100%|██████████| 20/20 [00:02<00:00,  9.05it/s, Loss=0.144408]\n"
     ]
    },
    {
     "name": "stdout",
     "output_type": "stream",
     "text": [
      "Train Epoch: 16, elapsed time:4.25s\n",
      "Training accuracy 59.82, test accuracy 51.61\n",
      "Training loss 5.776315942406654, test loss 12.21867322921753\n"
     ]
    },
    {
     "name": "stderr",
     "output_type": "stream",
     "text": [
      "100%|██████████| 20/20 [00:02<00:00,  9.89it/s, Loss=0.110443]\n",
      "100%|██████████| 20/20 [00:02<00:00,  8.98it/s, Loss=0.141388]\n"
     ]
    },
    {
     "name": "stdout",
     "output_type": "stream",
     "text": [
      "Train Epoch: 17, elapsed time:4.26s\n",
      "Training accuracy 62.1, test accuracy 53.36\n",
      "Training loss 5.655527517199516, test loss 11.990787029266357\n"
     ]
    },
    {
     "name": "stderr",
     "output_type": "stream",
     "text": [
      "100%|██████████| 20/20 [00:02<00:00,  9.75it/s, Loss=0.105774]\n",
      "100%|██████████| 20/20 [00:02<00:00,  8.87it/s, Loss=0.137690]\n"
     ]
    },
    {
     "name": "stdout",
     "output_type": "stream",
     "text": [
      "Train Epoch: 18, elapsed time:4.31s\n",
      "Training accuracy 63.88, test accuracy 52.99\n",
      "Training loss 5.507586531341076, test loss 11.874202370643616\n"
     ]
    },
    {
     "name": "stderr",
     "output_type": "stream",
     "text": [
      "100%|██████████| 20/20 [00:01<00:00, 10.17it/s, Loss=0.102422]\n",
      "100%|██████████| 20/20 [00:02<00:00,  9.08it/s, Loss=0.134982]\n"
     ]
    },
    {
     "name": "stdout",
     "output_type": "stream",
     "text": [
      "Train Epoch: 19, elapsed time:4.17s\n",
      "Training accuracy 65.18, test accuracy 53.37\n",
      "Training loss 5.399287976324558, test loss 11.801004350185394\n"
     ]
    },
    {
     "name": "stderr",
     "output_type": "stream",
     "text": [
      "100%|██████████| 20/20 [00:02<00:00,  9.77it/s, Loss=0.099841]\n",
      "100%|██████████| 20/20 [00:02<00:00,  9.30it/s, Loss=0.132801]\n"
     ]
    },
    {
     "name": "stdout",
     "output_type": "stream",
     "text": [
      "Train Epoch: 20, elapsed time:4.21s\n",
      "Training accuracy 66.18, test accuracy 53.19\n",
      "Training loss 5.312056809663773, test loss 11.739780396223068\n"
     ]
    },
    {
     "name": "stderr",
     "output_type": "stream",
     "text": [
      "100%|██████████| 20/20 [00:01<00:00, 10.16it/s, Loss=0.096724]\n",
      "100%|██████████| 20/20 [00:02<00:00,  9.41it/s, Loss=0.130514]\n"
     ]
    },
    {
     "name": "stdout",
     "output_type": "stream",
     "text": [
      "Train Epoch: 21, elapsed time:4.10s\n",
      "Training accuracy 68.32, test accuracy 54.62\n",
      "Training loss 5.220542937517166, test loss 11.570522159337997\n"
     ]
    },
    {
     "name": "stderr",
     "output_type": "stream",
     "text": [
      "100%|██████████| 20/20 [00:01<00:00, 10.40it/s, Loss=0.092929]\n",
      "100%|██████████| 20/20 [00:02<00:00,  8.85it/s, Loss=0.128122]\n"
     ]
    },
    {
     "name": "stdout",
     "output_type": "stream",
     "text": [
      "Train Epoch: 22, elapsed time:4.19s\n",
      "Training accuracy 69.36, test accuracy 54.38\n",
      "Training loss 5.124892108142376, test loss 11.514256805181503\n"
     ]
    },
    {
     "name": "stderr",
     "output_type": "stream",
     "text": [
      "100%|██████████| 20/20 [00:01<00:00, 10.09it/s, Loss=0.089902]\n",
      "100%|██████████| 20/20 [00:02<00:00,  9.72it/s, Loss=0.125985]\n"
     ]
    },
    {
     "name": "stdout",
     "output_type": "stream",
     "text": [
      "Train Epoch: 23, elapsed time:4.05s\n",
      "Training accuracy 70.16, test accuracy 50.95\n",
      "Training loss 5.039390608668327, test loss 12.042419761419296\n"
     ]
    },
    {
     "name": "stderr",
     "output_type": "stream",
     "text": [
      "100%|██████████| 20/20 [00:02<00:00,  9.91it/s, Loss=0.089201]\n",
      "100%|██████████| 20/20 [00:02<00:00,  9.26it/s, Loss=0.125460]\n"
     ]
    },
    {
     "name": "stdout",
     "output_type": "stream",
     "text": [
      "Train Epoch: 24, elapsed time:4.18s\n",
      "Training accuracy 70.64, test accuracy 54.69\n",
      "Training loss 5.018415093421936, test loss 11.363314926624298\n"
     ]
    },
    {
     "name": "stderr",
     "output_type": "stream",
     "text": [
      "100%|██████████| 20/20 [00:01<00:00, 10.16it/s, Loss=0.083435]\n",
      "100%|██████████| 20/20 [00:02<00:00,  9.63it/s, Loss=0.121847]\n"
     ]
    },
    {
     "name": "stdout",
     "output_type": "stream",
     "text": [
      "Train Epoch: 25, elapsed time:4.05s\n",
      "Training accuracy 73.1, test accuracy 54.31\n",
      "Training loss 4.873882509768009, test loss 11.467150270938873\n"
     ]
    },
    {
     "name": "stderr",
     "output_type": "stream",
     "text": [
      "100%|██████████| 20/20 [00:01<00:00, 10.10it/s, Loss=0.080807]\n",
      "100%|██████████| 20/20 [00:02<00:00,  9.11it/s, Loss=0.119885]\n"
     ]
    },
    {
     "name": "stdout",
     "output_type": "stream",
     "text": [
      "Train Epoch: 26, elapsed time:4.18s\n",
      "Training accuracy 74.5, test accuracy 56.06\n",
      "Training loss 4.795383051037788, test loss 11.203240543603897\n"
     ]
    },
    {
     "name": "stderr",
     "output_type": "stream",
     "text": [
      "100%|██████████| 20/20 [00:01<00:00, 10.09it/s, Loss=0.076155]\n",
      "100%|██████████| 20/20 [00:02<00:00,  9.57it/s, Loss=0.117242]\n"
     ]
    },
    {
     "name": "stdout",
     "output_type": "stream",
     "text": [
      "Train Epoch: 27, elapsed time:4.08s\n",
      "Training accuracy 76.86, test accuracy 54.46\n",
      "Training loss 4.689686611294746, test loss 11.37185937166214\n"
     ]
    },
    {
     "name": "stderr",
     "output_type": "stream",
     "text": [
      "100%|██████████| 20/20 [00:01<00:00, 10.43it/s, Loss=0.074408]\n",
      "100%|██████████| 20/20 [00:02<00:00,  9.85it/s, Loss=0.115993]\n"
     ]
    },
    {
     "name": "stdout",
     "output_type": "stream",
     "text": [
      "Train Epoch: 28, elapsed time:3.96s\n",
      "Training accuracy 77.34, test accuracy 55.38\n",
      "Training loss 4.639738813042641, test loss 11.22621437907219\n"
     ]
    },
    {
     "name": "stderr",
     "output_type": "stream",
     "text": [
      "100%|██████████| 20/20 [00:02<00:00,  9.87it/s, Loss=0.070481]\n",
      "100%|██████████| 20/20 [00:02<00:00,  9.69it/s, Loss=0.113745]\n"
     ]
    },
    {
     "name": "stdout",
     "output_type": "stream",
     "text": [
      "Train Epoch: 29, elapsed time:4.09s\n",
      "Training accuracy 79.38, test accuracy 57.33\n",
      "Training loss 4.549801405519247, test loss 10.999339073896408\n"
     ]
    },
    {
     "name": "stderr",
     "output_type": "stream",
     "text": [
      "100%|██████████| 20/20 [00:01<00:00, 10.23it/s, Loss=0.065067]\n",
      "100%|██████████| 20/20 [00:02<00:00,  9.76it/s, Loss=0.110421]\n"
     ]
    },
    {
     "name": "stdout",
     "output_type": "stream",
     "text": [
      "Train Epoch: 30, elapsed time:4.01s\n",
      "Training accuracy 81.98, test accuracy 57.74\n",
      "Training loss 4.416845843195915, test loss 10.951209783554077\n"
     ]
    },
    {
     "name": "stderr",
     "output_type": "stream",
     "text": [
      "100%|██████████| 20/20 [00:01<00:00, 10.12it/s, Loss=0.063100]\n",
      "100%|██████████| 20/20 [00:02<00:00,  9.68it/s, Loss=0.109463]\n"
     ]
    },
    {
     "name": "stdout",
     "output_type": "stream",
     "text": [
      "Train Epoch: 31, elapsed time:4.05s\n",
      "Training accuracy 82.02, test accuracy 57.38\n",
      "Training loss 4.3785351030528545, test loss 10.958662271499634\n"
     ]
    },
    {
     "name": "stderr",
     "output_type": "stream",
     "text": [
      "100%|██████████| 20/20 [00:02<00:00,  9.06it/s, Loss=0.060144]\n",
      "100%|██████████| 20/20 [00:02<00:00,  9.52it/s, Loss=0.107813]\n"
     ]
    },
    {
     "name": "stdout",
     "output_type": "stream",
     "text": [
      "Train Epoch: 32, elapsed time:4.31s\n",
      "Training accuracy 83.16, test accuracy 57.2\n",
      "Training loss 4.312517609447241, test loss 11.008700758218765\n"
     ]
    },
    {
     "name": "stderr",
     "output_type": "stream",
     "text": [
      "100%|██████████| 20/20 [00:01<00:00, 10.13it/s, Loss=0.056855]\n",
      "100%|██████████| 20/20 [00:02<00:00,  9.66it/s, Loss=0.105839]\n"
     ]
    },
    {
     "name": "stdout",
     "output_type": "stream",
     "text": [
      "Train Epoch: 33, elapsed time:4.05s\n",
      "Training accuracy 85.18, test accuracy 57.77\n",
      "Training loss 4.233566414564848, test loss 10.910593807697296\n"
     ]
    },
    {
     "name": "stderr",
     "output_type": "stream",
     "text": [
      "100%|██████████| 20/20 [00:02<00:00,  9.92it/s, Loss=0.054704]\n",
      "100%|██████████| 20/20 [00:02<00:00,  9.26it/s, Loss=0.104541]\n"
     ]
    },
    {
     "name": "stdout",
     "output_type": "stream",
     "text": [
      "Train Epoch: 34, elapsed time:4.18s\n",
      "Training accuracy 84.96, test accuracy 57.26\n",
      "Training loss 4.181636929512024, test loss 11.009712517261505\n"
     ]
    },
    {
     "name": "stderr",
     "output_type": "stream",
     "text": [
      "100%|██████████| 20/20 [00:01<00:00, 10.07it/s, Loss=0.052502]\n",
      "100%|██████████| 20/20 [00:02<00:00,  9.34it/s, Loss=0.103269]\n"
     ]
    },
    {
     "name": "stdout",
     "output_type": "stream",
     "text": [
      "Train Epoch: 35, elapsed time:4.14s\n",
      "Training accuracy 86.52, test accuracy 56.1\n",
      "Training loss 4.130778793245554, test loss 11.147546291351318\n"
     ]
    },
    {
     "name": "stderr",
     "output_type": "stream",
     "text": [
      "100%|██████████| 20/20 [00:01<00:00, 10.02it/s, Loss=0.050595]\n",
      "100%|██████████| 20/20 [00:02<00:00,  9.11it/s, Loss=0.102177]\n"
     ]
    },
    {
     "name": "stdout",
     "output_type": "stream",
     "text": [
      "Train Epoch: 36, elapsed time:4.20s\n",
      "Training accuracy 86.54, test accuracy 56.5\n",
      "Training loss 4.087085887789726, test loss 11.097326904535294\n"
     ]
    },
    {
     "name": "stderr",
     "output_type": "stream",
     "text": [
      "100%|██████████| 20/20 [00:01<00:00, 10.28it/s, Loss=0.048088]\n",
      "100%|██████████| 20/20 [00:02<00:00,  9.36it/s, Loss=0.100728]\n"
     ]
    },
    {
     "name": "stdout",
     "output_type": "stream",
     "text": [
      "Train Epoch: 37, elapsed time:4.09s\n",
      "Training accuracy 87.88, test accuracy 57.78\n",
      "Training loss 4.029104460030794, test loss 10.955596655607224\n"
     ]
    },
    {
     "name": "stderr",
     "output_type": "stream",
     "text": [
      "100%|██████████| 20/20 [00:01<00:00, 10.40it/s, Loss=0.043799]\n",
      "100%|██████████| 20/20 [00:02<00:00,  9.70it/s, Loss=0.098597]\n"
     ]
    },
    {
     "name": "stdout",
     "output_type": "stream",
     "text": [
      "Train Epoch: 38, elapsed time:3.99s\n",
      "Training accuracy 89.82, test accuracy 58.5\n",
      "Training loss 3.9438688047230244, test loss 10.792145997285843\n"
     ]
    },
    {
     "name": "stderr",
     "output_type": "stream",
     "text": [
      "100%|██████████| 20/20 [00:01<00:00, 10.09it/s, Loss=0.041510]\n",
      "100%|██████████| 20/20 [00:02<00:00,  9.64it/s, Loss=0.097217]\n"
     ]
    },
    {
     "name": "stdout",
     "output_type": "stream",
     "text": [
      "Train Epoch: 39, elapsed time:4.06s\n",
      "Training accuracy 90.82, test accuracy 56.81\n",
      "Training loss 3.8886764273047447, test loss 11.073960572481155\n"
     ]
    },
    {
     "name": "stderr",
     "output_type": "stream",
     "text": [
      "100%|██████████| 20/20 [00:02<00:00,  9.79it/s, Loss=0.040586]\n",
      "100%|██████████| 20/20 [00:02<00:00,  9.56it/s, Loss=0.096632]\n"
     ]
    },
    {
     "name": "stdout",
     "output_type": "stream",
     "text": [
      "Train Epoch: 40, elapsed time:4.14s\n",
      "Training accuracy 90.96, test accuracy 56.81\n",
      "Training loss 3.865283377468586, test loss 11.100059062242508\n"
     ]
    },
    {
     "name": "stderr",
     "output_type": "stream",
     "text": [
      "100%|██████████| 20/20 [00:01<00:00, 10.15it/s, Loss=0.038131]\n",
      "100%|██████████| 20/20 [00:02<00:00,  8.73it/s, Loss=0.095534]\n"
     ]
    },
    {
     "name": "stdout",
     "output_type": "stream",
     "text": [
      "Train Epoch: 41, elapsed time:4.26s\n",
      "Training accuracy 91.68, test accuracy 58.65\n",
      "Training loss 3.821360368281603, test loss 10.863327890634537\n"
     ]
    },
    {
     "name": "stderr",
     "output_type": "stream",
     "text": [
      "100%|██████████| 20/20 [00:02<00:00,  9.81it/s, Loss=0.034412]\n",
      "100%|██████████| 20/20 [00:02<00:00,  9.39it/s, Loss=0.093089]\n"
     ]
    },
    {
     "name": "stdout",
     "output_type": "stream",
     "text": [
      "Train Epoch: 42, elapsed time:4.17s\n",
      "Training accuracy 93.24, test accuracy 58.0\n",
      "Training loss 3.7235697489231825, test loss 10.971387296915054\n"
     ]
    },
    {
     "name": "stderr",
     "output_type": "stream",
     "text": [
      "100%|██████████| 20/20 [00:01<00:00, 10.07it/s, Loss=0.032516]\n",
      "100%|██████████| 20/20 [00:02<00:00,  9.41it/s, Loss=0.092292]\n"
     ]
    },
    {
     "name": "stdout",
     "output_type": "stream",
     "text": [
      "Train Epoch: 43, elapsed time:4.12s\n",
      "Training accuracy 94.34, test accuracy 54.38\n",
      "Training loss 3.691679686307907, test loss 11.418600857257843\n"
     ]
    },
    {
     "name": "stderr",
     "output_type": "stream",
     "text": [
      "100%|██████████| 20/20 [00:02<00:00,  9.40it/s, Loss=0.032818]\n",
      "100%|██████████| 20/20 [00:02<00:00,  9.21it/s, Loss=0.092338]\n"
     ]
    },
    {
     "name": "stdout",
     "output_type": "stream",
     "text": [
      "Train Epoch: 44, elapsed time:4.30s\n",
      "Training accuracy 93.26, test accuracy 55.7\n",
      "Training loss 3.693527454510331, test loss 11.24700927734375\n"
     ]
    },
    {
     "name": "stderr",
     "output_type": "stream",
     "text": [
      "100%|██████████| 20/20 [00:02<00:00,  9.88it/s, Loss=0.031797]\n",
      "100%|██████████| 20/20 [00:02<00:00,  9.30it/s, Loss=0.091837]\n"
     ]
    },
    {
     "name": "stdout",
     "output_type": "stream",
     "text": [
      "Train Epoch: 45, elapsed time:4.18s\n",
      "\n",
      "Early stopping\n"
     ]
    },
    {
     "data": {
      "text/plain": "<Figure size 1200x500 with 2 Axes>",
      "image/png": "[encoded data removed]"
     },
     "metadata": {},
     "output_type": "display_data"
    }
   ],
   "source": [
    "epochs = 100\n",
    "\n",
    "def training_drcn():\n",
    "    train_losses = []\n",
    "    train_accuracies = []\n",
    "    test_losses = []\n",
    "    test_accuracies = []\n",
    "    best_acc = 0.0\n",
    "    for epoch in range(1, epochs + 1):\n",
    "        train_loss, train_acc = train_drcn(drcn_model, device, train_loader_noisy_10, classifier_criterion,\n",
    "                                               decoder_criterion, optimizer, epoch)\n",
    "        scheduler.step(train_loss)\n",
    "        train_losses.append(train_loss)\n",
    "        train_accuracies.append(train_acc)\n",
    "\n",
    "        test_loss, test_acc = test_drcn(drcn_model, device, test_loader, classifier_criterion, decoder_criterion)\n",
    "        test_losses.append(test_loss)\n",
    "        test_accuracies.append(test_acc)\n",
    "\n",
    "        # Terminate training if loss stopped to decrease\n",
    "        if early_stopping(test_loss):\n",
    "            print('\\nEarly stopping\\n')\n",
    "            break\n",
    "        # Deep copy the weight of model if its accuracy is the best for now\n",
    "        if test_acc > best_acc:\n",
    "            best_acc = test_acc\n",
    "            best_model_wts = copy.deepcopy(drcn_model.state_dict())\n",
    "\n",
    "        print(f\"Training accuracy {train_acc}, test accuracy {test_acc}\")\n",
    "        print(f\"Training loss {train_loss}, test loss {test_loss}\")\n",
    "\n",
    "    drcn_model.load_state_dict(best_model_wts)\n",
    "    torch.save(drcn_model.state_dict(), \"best_drcn_model.pt\")\n",
    "\n",
    "    # Plot training curves\n",
    "    plt.figure(figsize=(12, 5))\n",
    "    plt.subplot(1, 2, 1)\n",
    "    plt.plot(range(1, epoch + 1), train_losses, label='Training Loss')\n",
    "    plt.plot(range(1, epoch + 1), test_losses, label='Validation Loss')\n",
    "    plt.xlabel('Epochs')\n",
    "    plt.ylabel('Loss')\n",
    "    plt.title('Training and Validation Loss')\n",
    "    plt.legend()\n",
    "\n",
    "    plt.subplot(1, 2, 2)\n",
    "    plt.plot(range(1, epoch + 1), train_accuracies, label='Training Accuracy')\n",
    "    plt.plot(range(1, epoch + 1), test_accuracies, label='Validation Accuracy')\n",
    "    plt.xlabel('Epochs')\n",
    "    plt.ylabel('Accuracy')\n",
    "    plt.title('Training and Validation Accuracy')\n",
    "    plt.legend()\n",
    "\n",
    "    plt.tight_layout()\n",
    "    plt.show()\n",
    "\n",
    "\n",
    "training_drcn()"
   ],
   "metadata": {
    "collapsed": false,
    "ExecuteTime": {
     "end_time": "2024-04-24T13:51:48.798175400Z",
     "start_time": "2024-04-24T13:42:46.560176400Z"
    }
   },
   "execution_count": 125
  },
  {
   "cell_type": "markdown",
   "metadata": {
    "id": "UeKqSM3s9gbD"
   },
   "source": [
    "## Task 4. Ensemble [6pts]\n",
    "Just make stacking ensemble from three previous models"
   ]
  },
  {
   "cell_type": "code",
   "outputs": [
    {
     "name": "stdout",
     "output_type": "stream",
     "text": [
      "Ensemble(\n",
      "  (model_1): CustomModel(\n",
      "    (conv1): Sequential(\n",
      "      (0): Conv2d(3, 32, kernel_size=(3, 3), stride=(1, 1), padding=(1, 1))\n",
      "      (1): ReLU()\n",
      "      (2): BatchNorm2d(32, eps=1e-05, momentum=0.1, affine=True, track_running_stats=True)\n",
      "      (3): MaxPool2d(kernel_size=2, stride=2, padding=0, dilation=1, ceil_mode=False)\n",
      "    )\n",
      "    (conv2): Sequential(\n",
      "      (0): Conv2d(32, 64, kernel_size=(3, 3), stride=(1, 1), padding=(1, 1))\n",
      "      (1): ReLU()\n",
      "      (2): BatchNorm2d(64, eps=1e-05, momentum=0.1, affine=True, track_running_stats=True)\n",
      "      (3): MaxPool2d(kernel_size=2, stride=2, padding=0, dilation=1, ceil_mode=False)\n",
      "    )\n",
      "    (conv3): Sequential(\n",
      "      (0): Conv2d(64, 128, kernel_size=(3, 3), stride=(1, 1), padding=(1, 1))\n",
      "      (1): ReLU()\n",
      "      (2): BatchNorm2d(128, eps=1e-05, momentum=0.1, affine=True, track_running_stats=True)\n",
      "      (3): MaxPool2d(kernel_size=2, stride=2, padding=0, dilation=1, ceil_mode=False)\n",
      "    )\n",
      "    (conv4): Sequential(\n",
      "      (0): Conv2d(128, 256, kernel_size=(3, 3), stride=(1, 1), padding=(1, 1))\n",
      "      (1): ReLU()\n",
      "      (2): BatchNorm2d(256, eps=1e-05, momentum=0.1, affine=True, track_running_stats=True)\n",
      "      (3): MaxPool2d(kernel_size=2, stride=2, padding=0, dilation=1, ceil_mode=False)\n",
      "    )\n",
      "    (fc1): Sequential(\n",
      "      (0): Linear(in_features=1024, out_features=1024, bias=True)\n",
      "      (1): ReLU()\n",
      "      (2): Dropout(p=0.5, inplace=False)\n",
      "      (3): Linear(in_features=1024, out_features=512, bias=True)\n",
      "      (4): ReLU()\n",
      "      (5): Dropout(p=0.5, inplace=False)\n",
      "      (6): Linear(in_features=512, out_features=10, bias=True)\n",
      "    )\n",
      "  )\n",
      "  (model_2): SelfSupervised(\n",
      "    (encoder): Sequential(\n",
      "      (0): Conv2d(3, 12, kernel_size=(4, 4), stride=(2, 2), padding=(1, 1))\n",
      "      (1): ReLU()\n",
      "      (2): Conv2d(12, 24, kernel_size=(4, 4), stride=(2, 2), padding=(1, 1))\n",
      "      (3): ReLU()\n",
      "      (4): Conv2d(24, 48, kernel_size=(4, 4), stride=(2, 2), padding=(1, 1))\n",
      "      (5): ReLU()\n",
      "    )\n",
      "    (classifier): Sequential(\n",
      "      (0): Flatten(start_dim=1, end_dim=-1)\n",
      "      (1): Linear(in_features=768, out_features=512, bias=True)\n",
      "      (2): ReLU()\n",
      "      (3): Dropout(p=0.2, inplace=False)\n",
      "      (4): Linear(in_features=512, out_features=256, bias=True)\n",
      "      (5): ReLU()\n",
      "      (6): Dropout(p=0.2, inplace=False)\n",
      "      (7): Linear(in_features=256, out_features=10, bias=True)\n",
      "    )\n",
      "  )\n",
      "  (model_3): DRCN(\n",
      "    (encoder): Sequential(\n",
      "      (0): Conv2d(3, 64, kernel_size=(3, 3), stride=(1, 1), padding=(1, 1))\n",
      "      (1): ReLU(inplace=True)\n",
      "      (2): MaxPool2d(kernel_size=2, stride=2, padding=0, dilation=1, ceil_mode=False)\n",
      "      (3): Conv2d(64, 128, kernel_size=(3, 3), stride=(1, 1), padding=(1, 1))\n",
      "      (4): ReLU(inplace=True)\n",
      "      (5): MaxPool2d(kernel_size=2, stride=2, padding=0, dilation=1, ceil_mode=False)\n",
      "      (6): Conv2d(128, 256, kernel_size=(3, 3), stride=(1, 1), padding=(1, 1))\n",
      "      (7): ReLU(inplace=True)\n",
      "      (8): MaxPool2d(kernel_size=2, stride=2, padding=0, dilation=1, ceil_mode=False)\n",
      "    )\n",
      "    (decoder): Sequential(\n",
      "      (0): ConvTranspose2d(256, 128, kernel_size=(2, 2), stride=(2, 2))\n",
      "      (1): ReLU(inplace=True)\n",
      "      (2): ConvTranspose2d(128, 64, kernel_size=(2, 2), stride=(2, 2))\n",
      "      (3): ReLU(inplace=True)\n",
      "      (4): ConvTranspose2d(64, 3, kernel_size=(2, 2), stride=(2, 2))\n",
      "      (5): Sigmoid()\n",
      "    )\n",
      "    (classifier): Sequential(\n",
      "      (0): Flatten(start_dim=1, end_dim=-1)\n",
      "      (1): Linear(in_features=4096, out_features=512, bias=True)\n",
      "      (2): BatchNorm1d(512, eps=1e-05, momentum=0.1, affine=True, track_running_stats=True)\n",
      "      (3): ReLU(inplace=True)\n",
      "      (4): Dropout(p=0.5, inplace=False)\n",
      "      (5): Linear(in_features=512, out_features=10, bias=True)\n",
      "    )\n",
      "  )\n",
      "  (fc1): Linear(in_features=30, out_features=128, bias=True)\n",
      "  (fc2): Linear(in_features=128, out_features=10, bias=True)\n",
      ")\n"
     ]
    }
   ],
   "source": [
    "class Ensemble(nn.Module):\n",
    "    def __init__(self, model_1, model_2, model_3):\n",
    "        super(Ensemble, self).__init__()\n",
    "        # freeze parameters of the models\n",
    "        for param in model_1.parameters():\n",
    "            param.requires_grad = False\n",
    "        for param in model_2.parameters():\n",
    "            param.requires_grad = False\n",
    "        for param in model_3.parameters():\n",
    "            param.requires_grad = False\n",
    "            \n",
    "        self.model_1 = model_1\n",
    "        self.model_2 = model_2\n",
    "        self.model_3 = model_3\n",
    "            \n",
    "        # Define fully connected layers for meta-model\n",
    "        self.fc1 = nn.Linear(3 * 10, 128)\n",
    "        self.fc2 = nn.Linear(128, 10)\n",
    "        \n",
    "    def forward(self, x):\n",
    "        self.model_1.eval()\n",
    "        self.model_2.eval()\n",
    "        self.model_3.eval()\n",
    "        with torch.no_grad():\n",
    "            x1 = self.model_1(x)\n",
    "            x2 = self.model_2(x)\n",
    "            _, x3 = self.model_3(x)\n",
    "            \n",
    "        x = torch.cat((x1, x2, x3), dim=1)\n",
    "        # Pass through fully connected layers\n",
    "        x = F.relu(self.fc1(x))\n",
    "        x = self.fc2(x)\n",
    "        return x\n",
    "    \n",
    "ensemble = Ensemble(baselinde_model, self_supervised_model, drcn_model)\n",
    "ensemble.to(device)\n",
    "print(ensemble)"
   ],
   "metadata": {
    "collapsed": false,
    "ExecuteTime": {
     "end_time": "2024-04-24T13:51:50.586383800Z",
     "start_time": "2024-04-24T13:51:50.511415300Z"
    }
   },
   "execution_count": 127
  },
  {
   "cell_type": "markdown",
   "source": [
    "### Define hyperparameters for Ensemble model"
   ],
   "metadata": {
    "collapsed": false
   }
  },
  {
   "cell_type": "code",
   "outputs": [],
   "source": [
    "criterion = nn.CrossEntropyLoss()\n",
    "optimizer = Adam(ensemble.parameters(), lr=0.0001)\n",
    "scheduler = lr_scheduler.ReduceLROnPlateau(optimizer, 'min', factor=0.3,\n",
    "                                           patience=3, min_lr=0.0000001)\n",
    "early_stopping = EarlyStopping(tolerance=7, mode='min')\n",
    "\n",
    "best_model_wts = deepcopy(ensemble.state_dict())"
   ],
   "metadata": {
    "collapsed": false,
    "ExecuteTime": {
     "end_time": "2024-04-24T13:51:50.587383800Z",
     "start_time": "2024-04-24T13:51:50.531025900Z"
    }
   },
   "execution_count": 128
  },
  {
   "cell_type": "markdown",
   "source": [
    "### Training ensemble"
   ],
   "metadata": {
    "collapsed": false
   }
  },
  {
   "cell_type": "code",
   "outputs": [
    {
     "name": "stderr",
     "output_type": "stream",
     "text": [
      "100%|██████████| 20/20 [00:02<00:00,  8.93it/s, Loss=2.775946]\n"
     ]
    },
    {
     "name": "stdout",
     "output_type": "stream",
     "text": [
      "Train Epoch: 1, elapsed time:2.24s\n",
      "Training accuracy 10.72, test accuracy 10.13\n",
      "Training loss 55.51892161369324, test loss 103.18662405014038\n"
     ]
    },
    {
     "name": "stderr",
     "output_type": "stream",
     "text": [
      "100%|██████████| 20/20 [00:01<00:00, 11.02it/s, Loss=2.376901]\n"
     ]
    },
    {
     "name": "stdout",
     "output_type": "stream",
     "text": [
      "Train Epoch: 2, elapsed time:1.82s\n",
      "Training accuracy 11.72, test accuracy 10.62\n",
      "Training loss 47.53801655769348, test loss 89.62492442131042\n"
     ]
    },
    {
     "name": "stderr",
     "output_type": "stream",
     "text": [
      "100%|██████████| 20/20 [00:01<00:00, 10.98it/s, Loss=2.127731]\n"
     ]
    },
    {
     "name": "stdout",
     "output_type": "stream",
     "text": [
      "Train Epoch: 3, elapsed time:1.82s\n",
      "Training accuracy 15.7, test accuracy 17.79\n",
      "Training loss 42.55462694168091, test loss 81.37620055675507\n"
     ]
    },
    {
     "name": "stderr",
     "output_type": "stream",
     "text": [
      "100%|██████████| 20/20 [00:01<00:00, 11.27it/s, Loss=1.956525]\n"
     ]
    },
    {
     "name": "stdout",
     "output_type": "stream",
     "text": [
      "Train Epoch: 4, elapsed time:1.78s\n",
      "Training accuracy 27.98, test accuracy 30.67\n",
      "Training loss 39.130499958992004, test loss 74.97563779354095\n"
     ]
    },
    {
     "name": "stderr",
     "output_type": "stream",
     "text": [
      "100%|██████████| 20/20 [00:01<00:00, 11.26it/s, Loss=1.807052]\n"
     ]
    },
    {
     "name": "stdout",
     "output_type": "stream",
     "text": [
      "Train Epoch: 5, elapsed time:1.78s\n",
      "Training accuracy 41.22, test accuracy 40.88\n",
      "Training loss 36.14104521274567, test loss 69.31128323078156\n"
     ]
    },
    {
     "name": "stderr",
     "output_type": "stream",
     "text": [
      "100%|██████████| 20/20 [00:02<00:00,  9.92it/s, Loss=1.675347]\n"
     ]
    },
    {
     "name": "stdout",
     "output_type": "stream",
     "text": [
      "Train Epoch: 6, elapsed time:2.02s\n",
      "Training accuracy 52.06, test accuracy 49.51\n",
      "Training loss 33.50693225860596, test loss 64.00977218151093\n"
     ]
    },
    {
     "name": "stderr",
     "output_type": "stream",
     "text": [
      "100%|██████████| 20/20 [00:01<00:00, 10.98it/s, Loss=1.555365]\n"
     ]
    },
    {
     "name": "stdout",
     "output_type": "stream",
     "text": [
      "Train Epoch: 7, elapsed time:1.82s\n",
      "Training accuracy 59.58, test accuracy 56.94\n",
      "Training loss 31.107290506362915, test loss 59.26437795162201\n"
     ]
    },
    {
     "name": "stderr",
     "output_type": "stream",
     "text": [
      "100%|██████████| 20/20 [00:01<00:00, 11.23it/s, Loss=1.439582]\n"
     ]
    },
    {
     "name": "stdout",
     "output_type": "stream",
     "text": [
      "Train Epoch: 8, elapsed time:1.78s\n",
      "Training accuracy 65.84, test accuracy 61.22\n",
      "Training loss 28.791648745536804, test loss 55.1679482460022\n"
     ]
    },
    {
     "name": "stderr",
     "output_type": "stream",
     "text": [
      "100%|██████████| 20/20 [00:01<00:00, 11.31it/s, Loss=1.340147]\n"
     ]
    },
    {
     "name": "stdout",
     "output_type": "stream",
     "text": [
      "Train Epoch: 9, elapsed time:1.77s\n",
      "Training accuracy 71.04, test accuracy 64.15\n",
      "Training loss 26.802947402000427, test loss 51.43275594711304\n"
     ]
    },
    {
     "name": "stderr",
     "output_type": "stream",
     "text": [
      "100%|██████████| 20/20 [00:01<00:00, 11.29it/s, Loss=1.243769]\n"
     ]
    },
    {
     "name": "stdout",
     "output_type": "stream",
     "text": [
      "Train Epoch: 10, elapsed time:1.77s\n",
      "Training accuracy 74.84, test accuracy 66.07\n",
      "Training loss 24.875385522842407, test loss 48.435614347457886\n"
     ]
    },
    {
     "name": "stderr",
     "output_type": "stream",
     "text": [
      "100%|██████████| 20/20 [00:01<00:00, 11.15it/s, Loss=1.160900]\n"
     ]
    },
    {
     "name": "stdout",
     "output_type": "stream",
     "text": [
      "Train Epoch: 11, elapsed time:1.80s\n",
      "Training accuracy 76.68, test accuracy 67.78\n",
      "Training loss 23.21800446510315, test loss 45.8297039270401\n"
     ]
    },
    {
     "name": "stderr",
     "output_type": "stream",
     "text": [
      "100%|██████████| 20/20 [00:01<00:00, 10.94it/s, Loss=1.092313]\n"
     ]
    },
    {
     "name": "stdout",
     "output_type": "stream",
     "text": [
      "Train Epoch: 12, elapsed time:1.83s\n",
      "Training accuracy 78.72, test accuracy 68.9\n",
      "Training loss 21.846259593963623, test loss 43.699100852012634\n"
     ]
    },
    {
     "name": "stderr",
     "output_type": "stream",
     "text": [
      "100%|██████████| 20/20 [00:01<00:00, 11.08it/s, Loss=1.029216]\n"
     ]
    },
    {
     "name": "stdout",
     "output_type": "stream",
     "text": [
      "Train Epoch: 13, elapsed time:1.81s\n",
      "Training accuracy 79.98, test accuracy 69.71\n",
      "Training loss 20.584327161312103, test loss 41.89386981725693\n"
     ]
    },
    {
     "name": "stderr",
     "output_type": "stream",
     "text": [
      "100%|██████████| 20/20 [00:01<00:00, 11.15it/s, Loss=0.973460]\n"
     ]
    },
    {
     "name": "stdout",
     "output_type": "stream",
     "text": [
      "Train Epoch: 14, elapsed time:1.80s\n",
      "Training accuracy 80.78, test accuracy 70.48\n",
      "Training loss 19.469198882579803, test loss 40.25389742851257\n"
     ]
    },
    {
     "name": "stderr",
     "output_type": "stream",
     "text": [
      "100%|██████████| 20/20 [00:01<00:00, 11.44it/s, Loss=0.925948]\n"
     ]
    },
    {
     "name": "stdout",
     "output_type": "stream",
     "text": [
      "Train Epoch: 15, elapsed time:1.75s\n",
      "Training accuracy 81.22, test accuracy 71.3\n",
      "Training loss 18.518957018852234, test loss 38.86757671833038\n"
     ]
    },
    {
     "name": "stderr",
     "output_type": "stream",
     "text": [
      "100%|██████████| 20/20 [00:01<00:00, 11.38it/s, Loss=0.883788]\n"
     ]
    },
    {
     "name": "stdout",
     "output_type": "stream",
     "text": [
      "Train Epoch: 16, elapsed time:1.76s\n",
      "Training accuracy 82.48, test accuracy 72.08\n",
      "Training loss 17.675750017166138, test loss 37.5219584107399\n"
     ]
    },
    {
     "name": "stderr",
     "output_type": "stream",
     "text": [
      "100%|██████████| 20/20 [00:01<00:00, 11.28it/s, Loss=0.838554]\n"
     ]
    },
    {
     "name": "stdout",
     "output_type": "stream",
     "text": [
      "Train Epoch: 17, elapsed time:1.78s\n",
      "Training accuracy 83.38, test accuracy 72.48\n",
      "Training loss 16.771081566810608, test loss 36.412763595581055\n"
     ]
    },
    {
     "name": "stderr",
     "output_type": "stream",
     "text": [
      "100%|██████████| 20/20 [00:01<00:00, 11.16it/s, Loss=0.807629]\n"
     ]
    },
    {
     "name": "stdout",
     "output_type": "stream",
     "text": [
      "Train Epoch: 18, elapsed time:1.79s\n",
      "Training accuracy 84.4, test accuracy 72.79\n",
      "Training loss 16.152574479579926, test loss 35.48948812484741\n"
     ]
    },
    {
     "name": "stderr",
     "output_type": "stream",
     "text": [
      "100%|██████████| 20/20 [00:01<00:00, 11.16it/s, Loss=0.772846]\n"
     ]
    },
    {
     "name": "stdout",
     "output_type": "stream",
     "text": [
      "Train Epoch: 19, elapsed time:1.79s\n",
      "Training accuracy 84.62, test accuracy 73.35\n",
      "Training loss 15.456916213035583, test loss 34.446227848529816\n"
     ]
    },
    {
     "name": "stderr",
     "output_type": "stream",
     "text": [
      "100%|██████████| 20/20 [00:01<00:00, 10.98it/s, Loss=0.739788]\n"
     ]
    },
    {
     "name": "stdout",
     "output_type": "stream",
     "text": [
      "Train Epoch: 20, elapsed time:1.82s\n",
      "Training accuracy 84.62, test accuracy 73.73\n",
      "Training loss 14.795761942863464, test loss 33.658612847328186\n"
     ]
    },
    {
     "name": "stderr",
     "output_type": "stream",
     "text": [
      "100%|██████████| 20/20 [00:01<00:00, 10.73it/s, Loss=0.710863]\n"
     ]
    },
    {
     "name": "stdout",
     "output_type": "stream",
     "text": [
      "Train Epoch: 21, elapsed time:1.87s\n",
      "Training accuracy 86.38, test accuracy 74.05\n",
      "Training loss 14.217257857322693, test loss 32.92321562767029\n"
     ]
    },
    {
     "name": "stderr",
     "output_type": "stream",
     "text": [
      "100%|██████████| 20/20 [00:01<00:00, 11.00it/s, Loss=0.685629]\n"
     ]
    },
    {
     "name": "stdout",
     "output_type": "stream",
     "text": [
      "Train Epoch: 22, elapsed time:1.82s\n",
      "Training accuracy 86.26, test accuracy 74.37\n",
      "Training loss 13.712583303451538, test loss 32.227220952510834\n"
     ]
    },
    {
     "name": "stderr",
     "output_type": "stream",
     "text": [
      "100%|██████████| 20/20 [00:01<00:00, 11.32it/s, Loss=0.665313]\n"
     ]
    },
    {
     "name": "stdout",
     "output_type": "stream",
     "text": [
      "Train Epoch: 23, elapsed time:1.77s\n",
      "Training accuracy 86.54, test accuracy 74.73\n",
      "Training loss 13.306257545948029, test loss 31.63218241930008\n"
     ]
    },
    {
     "name": "stderr",
     "output_type": "stream",
     "text": [
      "100%|██████████| 20/20 [00:01<00:00, 10.98it/s, Loss=0.641866]\n"
     ]
    },
    {
     "name": "stdout",
     "output_type": "stream",
     "text": [
      "Train Epoch: 24, elapsed time:1.82s\n",
      "Training accuracy 87.64, test accuracy 74.87\n",
      "Training loss 12.837314367294312, test loss 31.099464416503906\n"
     ]
    },
    {
     "name": "stderr",
     "output_type": "stream",
     "text": [
      "100%|██████████| 20/20 [00:02<00:00,  9.87it/s, Loss=0.623386]\n"
     ]
    },
    {
     "name": "stdout",
     "output_type": "stream",
     "text": [
      "Train Epoch: 25, elapsed time:2.03s\n",
      "Training accuracy 87.04, test accuracy 75.32\n",
      "Training loss 12.467718243598938, test loss 30.61121904850006\n"
     ]
    },
    {
     "name": "stderr",
     "output_type": "stream",
     "text": [
      "100%|██████████| 20/20 [00:01<00:00, 11.19it/s, Loss=0.606095]\n"
     ]
    },
    {
     "name": "stdout",
     "output_type": "stream",
     "text": [
      "Train Epoch: 26, elapsed time:1.79s\n",
      "Training accuracy 87.66, test accuracy 75.45\n",
      "Training loss 12.121895015239716, test loss 30.150709331035614\n"
     ]
    },
    {
     "name": "stderr",
     "output_type": "stream",
     "text": [
      "100%|██████████| 20/20 [00:01<00:00, 10.90it/s, Loss=0.582292]\n"
     ]
    },
    {
     "name": "stdout",
     "output_type": "stream",
     "text": [
      "Train Epoch: 27, elapsed time:1.84s\n",
      "Training accuracy 88.2, test accuracy 75.68\n",
      "Training loss 11.645830512046814, test loss 29.813591837882996\n"
     ]
    },
    {
     "name": "stderr",
     "output_type": "stream",
     "text": [
      "100%|██████████| 20/20 [00:01<00:00, 10.95it/s, Loss=0.566268]\n"
     ]
    },
    {
     "name": "stdout",
     "output_type": "stream",
     "text": [
      "Train Epoch: 28, elapsed time:1.83s\n",
      "Training accuracy 88.12, test accuracy 75.87\n",
      "Training loss 11.325366258621216, test loss 29.412785470485687\n"
     ]
    },
    {
     "name": "stderr",
     "output_type": "stream",
     "text": [
      "100%|██████████| 20/20 [00:01<00:00, 11.12it/s, Loss=0.557948]\n"
     ]
    },
    {
     "name": "stdout",
     "output_type": "stream",
     "text": [
      "Train Epoch: 29, elapsed time:1.80s\n",
      "Training accuracy 88.4, test accuracy 75.83\n",
      "Training loss 11.15895476937294, test loss 29.131100177764893\n"
     ]
    },
    {
     "name": "stderr",
     "output_type": "stream",
     "text": [
      "100%|██████████| 20/20 [00:01<00:00, 11.21it/s, Loss=0.542911]\n"
     ]
    },
    {
     "name": "stdout",
     "output_type": "stream",
     "text": [
      "Train Epoch: 30, elapsed time:1.79s\n",
      "Training accuracy 88.44, test accuracy 75.97\n",
      "Training loss 10.85822206735611, test loss 28.84695601463318\n"
     ]
    },
    {
     "name": "stderr",
     "output_type": "stream",
     "text": [
      "100%|██████████| 20/20 [00:01<00:00, 11.37it/s, Loss=0.528882]\n"
     ]
    },
    {
     "name": "stdout",
     "output_type": "stream",
     "text": [
      "Train Epoch: 31, elapsed time:1.76s\n",
      "Training accuracy 88.74, test accuracy 76.19\n",
      "Training loss 10.577648729085922, test loss 28.58183765411377\n"
     ]
    },
    {
     "name": "stderr",
     "output_type": "stream",
     "text": [
      "100%|██████████| 20/20 [00:01<00:00, 10.91it/s, Loss=0.513236]\n"
     ]
    },
    {
     "name": "stdout",
     "output_type": "stream",
     "text": [
      "Train Epoch: 32, elapsed time:1.84s\n",
      "Training accuracy 89.3, test accuracy 76.25\n",
      "Training loss 10.264716178178787, test loss 28.34078288078308\n"
     ]
    },
    {
     "name": "stderr",
     "output_type": "stream",
     "text": [
      "100%|██████████| 20/20 [00:01<00:00, 11.14it/s, Loss=0.505385]\n"
     ]
    },
    {
     "name": "stdout",
     "output_type": "stream",
     "text": [
      "Train Epoch: 33, elapsed time:1.80s\n",
      "Training accuracy 89.36, test accuracy 76.43\n",
      "Training loss 10.107699513435364, test loss 28.138360917568207\n"
     ]
    },
    {
     "name": "stderr",
     "output_type": "stream",
     "text": [
      "100%|██████████| 20/20 [00:01<00:00, 11.18it/s, Loss=0.494675]\n"
     ]
    },
    {
     "name": "stdout",
     "output_type": "stream",
     "text": [
      "Train Epoch: 34, elapsed time:1.79s\n",
      "Training accuracy 89.2, test accuracy 76.48\n",
      "Training loss 9.893491297960281, test loss 27.926307260990143\n"
     ]
    },
    {
     "name": "stderr",
     "output_type": "stream",
     "text": [
      "100%|██████████| 20/20 [00:01<00:00, 11.15it/s, Loss=0.476643]\n"
     ]
    },
    {
     "name": "stdout",
     "output_type": "stream",
     "text": [
      "Train Epoch: 35, elapsed time:1.80s\n",
      "Training accuracy 89.42, test accuracy 76.59\n",
      "Training loss 9.532865911722183, test loss 27.754379838705063\n"
     ]
    },
    {
     "name": "stderr",
     "output_type": "stream",
     "text": [
      "100%|██████████| 20/20 [00:01<00:00, 11.18it/s, Loss=0.467180]\n"
     ]
    },
    {
     "name": "stdout",
     "output_type": "stream",
     "text": [
      "Train Epoch: 36, elapsed time:1.79s\n",
      "Training accuracy 89.88, test accuracy 76.5\n",
      "Training loss 9.343601137399673, test loss 27.64626994729042\n"
     ]
    },
    {
     "name": "stderr",
     "output_type": "stream",
     "text": [
      "100%|██████████| 20/20 [00:01<00:00, 11.31it/s, Loss=0.464538]\n"
     ]
    },
    {
     "name": "stdout",
     "output_type": "stream",
     "text": [
      "Train Epoch: 37, elapsed time:1.77s\n",
      "Training accuracy 89.92, test accuracy 76.53\n",
      "Training loss 9.290761023759842, test loss 27.47690725326538\n"
     ]
    },
    {
     "name": "stderr",
     "output_type": "stream",
     "text": [
      "100%|██████████| 20/20 [00:01<00:00, 11.17it/s, Loss=0.455061]\n"
     ]
    },
    {
     "name": "stdout",
     "output_type": "stream",
     "text": [
      "Train Epoch: 38, elapsed time:1.79s\n",
      "Training accuracy 90.28, test accuracy 76.49\n",
      "Training loss 9.101227015256882, test loss 27.400314778089523\n"
     ]
    },
    {
     "name": "stderr",
     "output_type": "stream",
     "text": [
      "100%|██████████| 20/20 [00:01<00:00, 11.29it/s, Loss=0.438858]\n"
     ]
    },
    {
     "name": "stdout",
     "output_type": "stream",
     "text": [
      "Train Epoch: 39, elapsed time:1.77s\n",
      "Training accuracy 90.38, test accuracy 76.63\n",
      "Training loss 8.77715653181076, test loss 27.21943786740303\n"
     ]
    },
    {
     "name": "stderr",
     "output_type": "stream",
     "text": [
      "100%|██████████| 20/20 [00:01<00:00, 11.18it/s, Loss=0.435365]\n"
     ]
    },
    {
     "name": "stdout",
     "output_type": "stream",
     "text": [
      "Train Epoch: 40, elapsed time:1.79s\n",
      "Training accuracy 90.68, test accuracy 76.7\n",
      "Training loss 8.707297712564468, test loss 27.138231337070465\n"
     ]
    },
    {
     "name": "stderr",
     "output_type": "stream",
     "text": [
      "100%|██████████| 20/20 [00:01<00:00, 11.21it/s, Loss=0.425135]\n"
     ]
    },
    {
     "name": "stdout",
     "output_type": "stream",
     "text": [
      "Train Epoch: 41, elapsed time:1.79s\n",
      "Training accuracy 90.48, test accuracy 76.55\n",
      "Training loss 8.502696990966797, test loss 27.172223538160324\n"
     ]
    },
    {
     "name": "stderr",
     "output_type": "stream",
     "text": [
      "100%|██████████| 20/20 [00:01<00:00, 11.07it/s, Loss=0.415152]\n"
     ]
    },
    {
     "name": "stdout",
     "output_type": "stream",
     "text": [
      "Train Epoch: 42, elapsed time:1.81s\n",
      "Training accuracy 90.64, test accuracy 76.82\n",
      "Training loss 8.303034126758575, test loss 27.00440827012062\n"
     ]
    },
    {
     "name": "stderr",
     "output_type": "stream",
     "text": [
      "100%|██████████| 20/20 [00:01<00:00, 11.04it/s, Loss=0.414115]\n"
     ]
    },
    {
     "name": "stdout",
     "output_type": "stream",
     "text": [
      "Train Epoch: 43, elapsed time:1.81s\n",
      "Training accuracy 90.42, test accuracy 76.61\n",
      "Training loss 8.282306045293808, test loss 26.98029386997223\n"
     ]
    },
    {
     "name": "stderr",
     "output_type": "stream",
     "text": [
      "100%|██████████| 20/20 [00:01<00:00, 11.30it/s, Loss=0.403317]\n"
     ]
    },
    {
     "name": "stdout",
     "output_type": "stream",
     "text": [
      "Train Epoch: 44, elapsed time:1.77s\n",
      "Training accuracy 91.2, test accuracy 76.59\n",
      "Training loss 8.066338986158371, test loss 26.968594431877136\n"
     ]
    },
    {
     "name": "stderr",
     "output_type": "stream",
     "text": [
      "100%|██████████| 20/20 [00:01<00:00, 10.37it/s, Loss=0.395726]\n"
     ]
    },
    {
     "name": "stdout",
     "output_type": "stream",
     "text": [
      "Train Epoch: 45, elapsed time:1.93s\n",
      "Training accuracy 91.0, test accuracy 76.65\n",
      "Training loss 7.9145132303237915, test loss 26.868805050849915\n"
     ]
    },
    {
     "name": "stderr",
     "output_type": "stream",
     "text": [
      "100%|██████████| 20/20 [00:01<00:00, 11.46it/s, Loss=0.393400]\n"
     ]
    },
    {
     "name": "stdout",
     "output_type": "stream",
     "text": [
      "Train Epoch: 46, elapsed time:1.75s\n",
      "Training accuracy 91.16, test accuracy 76.55\n",
      "Training loss 7.867997229099274, test loss 26.88000002503395\n"
     ]
    },
    {
     "name": "stderr",
     "output_type": "stream",
     "text": [
      "100%|██████████| 20/20 [00:01<00:00, 11.34it/s, Loss=0.382900]\n"
     ]
    },
    {
     "name": "stdout",
     "output_type": "stream",
     "text": [
      "Train Epoch: 47, elapsed time:1.77s\n",
      "Training accuracy 91.26, test accuracy 76.58\n",
      "Training loss 7.658004939556122, test loss 26.81249448657036\n"
     ]
    },
    {
     "name": "stderr",
     "output_type": "stream",
     "text": [
      "100%|██████████| 20/20 [00:01<00:00, 11.09it/s, Loss=0.377597]\n"
     ]
    },
    {
     "name": "stdout",
     "output_type": "stream",
     "text": [
      "Train Epoch: 48, elapsed time:1.81s\n",
      "Training accuracy 91.36, test accuracy 76.52\n",
      "Training loss 7.551935195922852, test loss 26.912951856851578\n"
     ]
    },
    {
     "name": "stderr",
     "output_type": "stream",
     "text": [
      "100%|██████████| 20/20 [00:01<00:00, 11.12it/s, Loss=0.364872]\n"
     ]
    },
    {
     "name": "stdout",
     "output_type": "stream",
     "text": [
      "Train Epoch: 49, elapsed time:1.80s\n",
      "Training accuracy 91.7, test accuracy 76.59\n",
      "Training loss 7.297437310218811, test loss 26.827733904123306\n"
     ]
    },
    {
     "name": "stderr",
     "output_type": "stream",
     "text": [
      "100%|██████████| 20/20 [00:01<00:00, 11.05it/s, Loss=0.363810]\n"
     ]
    },
    {
     "name": "stdout",
     "output_type": "stream",
     "text": [
      "Train Epoch: 50, elapsed time:1.81s\n",
      "Training accuracy 91.7, test accuracy 76.66\n",
      "Training loss 7.276203244924545, test loss 26.78471001982689\n"
     ]
    },
    {
     "name": "stderr",
     "output_type": "stream",
     "text": [
      "100%|██████████| 20/20 [00:01<00:00, 11.24it/s, Loss=0.363243]\n"
     ]
    },
    {
     "name": "stdout",
     "output_type": "stream",
     "text": [
      "Train Epoch: 51, elapsed time:1.78s\n",
      "Training accuracy 91.52, test accuracy 76.47\n",
      "Training loss 7.264864414930344, test loss 26.78771460056305\n"
     ]
    },
    {
     "name": "stderr",
     "output_type": "stream",
     "text": [
      "100%|██████████| 20/20 [00:01<00:00, 10.79it/s, Loss=0.353152]\n"
     ]
    },
    {
     "name": "stdout",
     "output_type": "stream",
     "text": [
      "Train Epoch: 52, elapsed time:1.86s\n",
      "Training accuracy 91.86, test accuracy 76.6\n",
      "Training loss 7.063034385442734, test loss 26.76950153708458\n"
     ]
    },
    {
     "name": "stderr",
     "output_type": "stream",
     "text": [
      "100%|██████████| 20/20 [00:01<00:00, 11.13it/s, Loss=0.336543]\n"
     ]
    },
    {
     "name": "stdout",
     "output_type": "stream",
     "text": [
      "Train Epoch: 53, elapsed time:1.80s\n",
      "Training accuracy 92.24, test accuracy 76.63\n",
      "Training loss 6.730864882469177, test loss 26.764367997646332\n"
     ]
    },
    {
     "name": "stderr",
     "output_type": "stream",
     "text": [
      "100%|██████████| 20/20 [00:01<00:00, 10.93it/s, Loss=0.338504]\n"
     ]
    },
    {
     "name": "stdout",
     "output_type": "stream",
     "text": [
      "Train Epoch: 54, elapsed time:1.83s\n",
      "Training accuracy 92.24, test accuracy 76.51\n",
      "Training loss 6.770075261592865, test loss 26.837093234062195\n"
     ]
    },
    {
     "name": "stderr",
     "output_type": "stream",
     "text": [
      "100%|██████████| 20/20 [00:01<00:00, 10.80it/s, Loss=0.337964]\n"
     ]
    },
    {
     "name": "stdout",
     "output_type": "stream",
     "text": [
      "Train Epoch: 55, elapsed time:1.85s\n",
      "Training accuracy 91.88, test accuracy 76.66\n",
      "Training loss 6.759283483028412, test loss 26.834574162960052\n"
     ]
    },
    {
     "name": "stderr",
     "output_type": "stream",
     "text": [
      "100%|██████████| 20/20 [00:01<00:00, 10.88it/s, Loss=0.337001]\n"
     ]
    },
    {
     "name": "stdout",
     "output_type": "stream",
     "text": [
      "Train Epoch: 56, elapsed time:1.84s\n",
      "Training accuracy 92.02, test accuracy 76.73\n",
      "Training loss 6.740011602640152, test loss 26.749896496534348\n"
     ]
    },
    {
     "name": "stderr",
     "output_type": "stream",
     "text": [
      "100%|██████████| 20/20 [00:01<00:00, 11.18it/s, Loss=0.325788]\n"
     ]
    },
    {
     "name": "stdout",
     "output_type": "stream",
     "text": [
      "Train Epoch: 57, elapsed time:1.79s\n",
      "Training accuracy 92.3, test accuracy 76.59\n",
      "Training loss 6.515755087137222, test loss 26.884833693504333\n"
     ]
    },
    {
     "name": "stderr",
     "output_type": "stream",
     "text": [
      "100%|██████████| 20/20 [00:01<00:00, 11.22it/s, Loss=0.322165]\n"
     ]
    },
    {
     "name": "stdout",
     "output_type": "stream",
     "text": [
      "Train Epoch: 58, elapsed time:1.79s\n",
      "Training accuracy 92.08, test accuracy 76.62\n",
      "Training loss 6.443293571472168, test loss 26.942272871732712\n"
     ]
    },
    {
     "name": "stderr",
     "output_type": "stream",
     "text": [
      "100%|██████████| 20/20 [00:01<00:00, 11.14it/s, Loss=0.318154]\n"
     ]
    },
    {
     "name": "stdout",
     "output_type": "stream",
     "text": [
      "Train Epoch: 59, elapsed time:1.80s\n",
      "Training accuracy 92.44, test accuracy 76.63\n",
      "Training loss 6.36308616399765, test loss 26.975660532712936\n"
     ]
    },
    {
     "name": "stderr",
     "output_type": "stream",
     "text": [
      "100%|██████████| 20/20 [00:01<00:00, 11.01it/s, Loss=0.313493]\n"
     ]
    },
    {
     "name": "stdout",
     "output_type": "stream",
     "text": [
      "Train Epoch: 60, elapsed time:1.82s\n",
      "Training accuracy 92.68, test accuracy 76.63\n",
      "Training loss 6.269856244325638, test loss 27.028470367193222\n"
     ]
    },
    {
     "name": "stderr",
     "output_type": "stream",
     "text": [
      "100%|██████████| 20/20 [00:01<00:00, 11.01it/s, Loss=0.311679]\n"
     ]
    },
    {
     "name": "stdout",
     "output_type": "stream",
     "text": [
      "Train Epoch: 61, elapsed time:1.82s\n",
      "Training accuracy 92.4, test accuracy 76.57\n",
      "Training loss 6.233586460351944, test loss 27.07829201221466\n"
     ]
    },
    {
     "name": "stderr",
     "output_type": "stream",
     "text": [
      "100%|██████████| 20/20 [00:01<00:00, 10.79it/s, Loss=0.307142]\n"
     ]
    },
    {
     "name": "stdout",
     "output_type": "stream",
     "text": [
      "Train Epoch: 62, elapsed time:1.86s\n",
      "Training accuracy 92.6, test accuracy 76.72\n",
      "Training loss 6.142849266529083, test loss 26.999937295913696\n"
     ]
    },
    {
     "name": "stderr",
     "output_type": "stream",
     "text": [
      "100%|██████████| 20/20 [00:01<00:00, 10.85it/s, Loss=0.301823]\n"
     ]
    },
    {
     "name": "stdout",
     "output_type": "stream",
     "text": [
      "Train Epoch: 63, elapsed time:1.85s\n",
      "\n",
      "Early stopping\n"
     ]
    },
    {
     "data": {
      "text/plain": "<Figure size 1200x500 with 2 Axes>",
      "image/png": "[encoded data removed]"
     },
     "metadata": {},
     "output_type": "display_data"
    }
   ],
   "source": [
    "epochs = 100\n",
    "\n",
    "def training():\n",
    "    train_losses = []\n",
    "    train_accuracies = []\n",
    "    test_losses = []\n",
    "    test_accuracies = []\n",
    "    best_acc = 0.0\n",
    "    for epoch in range(1, epochs + 1):\n",
    "        train_loss, train_acc = train(ensemble, device, train_loader_noisy_10, criterion, optimizer, epoch)\n",
    "        scheduler.step(train_loss)\n",
    "        train_losses.append(train_loss)\n",
    "        train_accuracies.append(train_acc)\n",
    "\n",
    "        test_loss, test_acc = test(ensemble, device, test_loader, criterion)\n",
    "        test_losses.append(test_loss)\n",
    "        test_accuracies.append(test_acc)\n",
    "\n",
    "        # Terminate training if loss stopped to decrease\n",
    "        if early_stopping(test_loss):\n",
    "            print('\\nEarly stopping\\n')\n",
    "            break\n",
    "        # Deep copy the weight of model if its accuracy is the best for now\n",
    "        if test_acc > best_acc:\n",
    "            best_acc = test_acc\n",
    "            best_model_wts = copy.deepcopy(ensemble.state_dict())\n",
    "            \n",
    "        print(f\"Training accuracy {train_acc}, test accuracy {test_acc}\")\n",
    "        print(f\"Training loss {train_loss}, test loss {test_loss}\")\n",
    "\n",
    "    ensemble.load_state_dict(best_model_wts)\n",
    "    torch.save(ensemble.state_dict(), \"best_ensemble_model.pt\")\n",
    "\n",
    "    # Plot training curves\n",
    "    plt.figure(figsize=(12, 5))\n",
    "    plt.subplot(1, 2, 1)\n",
    "    plt.plot(range(1, epoch + 1), train_losses, label='Training Loss')\n",
    "    plt.plot(range(1, epoch + 1), test_losses, label='Validation Loss')\n",
    "    plt.xlabel('Epochs')\n",
    "    plt.ylabel('Loss')\n",
    "    plt.title('Training and Validation Loss')\n",
    "    plt.legend()\n",
    "\n",
    "    plt.subplot(1, 2, 2)\n",
    "    plt.plot(range(1, epoch + 1), train_accuracies, label='Training Accuracy')\n",
    "    plt.plot(range(1, epoch + 1), test_accuracies, label='Validation Accuracy')\n",
    "    plt.xlabel('Epochs')\n",
    "    plt.ylabel('Accuracy')\n",
    "    plt.title('Training and Validation Accuracy')\n",
    "    plt.legend()\n",
    "\n",
    "    plt.tight_layout()\n",
    "    plt.show()\n",
    "\n",
    "\n",
    "training()"
   ],
   "metadata": {
    "collapsed": false,
    "ExecuteTime": {
     "end_time": "2024-04-24T14:02:05.374644800Z",
     "start_time": "2024-04-24T13:51:50.559488900Z"
    }
   },
   "execution_count": 129
  },
  {
   "cell_type": "markdown",
   "source": [
    "## Comparing the models"
   ],
   "metadata": {
    "collapsed": false
   }
  },
  {
   "cell_type": "code",
   "outputs": [],
   "source": [
    "def calculate_model_size(model):\n",
    "    \"\"\"\n",
    "    Source: https://stackoverflow.com/questions/71851474/how-to-find-the-size-of-a-deep-learning-model\n",
    "    :param model: model\n",
    "    :return: size of the model in MB\n",
    "    \"\"\"\n",
    "    param_size = 0\n",
    "    for param in model.parameters():\n",
    "        param_size += param.nelement() * param.element_size()\n",
    "    buffer_size = 0\n",
    "    for buffer in model.buffers():\n",
    "        buffer_size += buffer.nelement() * buffer.element_size()\n",
    "    size_all_mb = (param_size + buffer_size) / 1024 ** 2\n",
    "    return size_all_mb"
   ],
   "metadata": {
    "collapsed": false,
    "ExecuteTime": {
     "end_time": "2024-05-01T09:15:51.869652700Z",
     "start_time": "2024-05-01T09:15:51.830160Z"
    }
   },
   "execution_count": 4
  },
  {
   "cell_type": "code",
   "outputs": [],
   "source": [
    "def calculate_metrics(model, device, test_loader, drcn=False):\n",
    "    \"\"\"\n",
    "    This function calculates roc_auc_score of the model and its inference speed\n",
    "    :param model: given model\n",
    "    :param device: given device\n",
    "    :param test_loader: loader with data\n",
    "    :return: roc_auc_score, inference time\n",
    "    \"\"\"\n",
    "    model.eval()\n",
    "    all_preds = []\n",
    "    all_targets = []\n",
    "    total_time = 0\n",
    "    num_samples = 0\n",
    "\n",
    "    with torch.no_grad():\n",
    "        for data, target in test_loader:\n",
    "            data, target = data.to(device), target.to(device)\n",
    "            start_time = time()\n",
    "            if drcn:\n",
    "                _, output = model(data)\n",
    "            else:\n",
    "                output = model(data)\n",
    "            end_time = time()\n",
    "            total_time += end_time - start_time\n",
    "            num_samples += len(data)\n",
    "            # Calculate predicted probabilities\n",
    "            preds = output.argmax(dim=1, keepdim=True)\n",
    "            all_preds.append(preds.cpu().numpy())\n",
    "            all_targets.append(target.cpu().numpy())\n",
    "\n",
    "    inference_speed = round(num_samples / total_time)  # Images per second\n",
    "    all_preds = np.concatenate(all_preds)\n",
    "    all_targets = np.concatenate(all_targets)\n",
    "    accuracy = round(accuracy_score(all_targets, all_preds)*100, 2)\n",
    "    model_size = round(calculate_model_size(model), 2)\n",
    "    return [accuracy, inference_speed, model_size]"
   ],
   "metadata": {
    "collapsed": false,
    "ExecuteTime": {
     "end_time": "2024-05-01T09:16:01.338654200Z",
     "start_time": "2024-05-01T09:16:01.311643600Z"
    }
   },
   "execution_count": 5
  },
  {
   "cell_type": "markdown",
   "source": [
    "### Calculating metrics for all models"
   ],
   "metadata": {
    "collapsed": false
   }
  },
  {
   "cell_type": "code",
   "outputs": [
    {
     "data": {
      "text/plain": "                       Accuracy (%)  Inference speed (images/second)  \\\nBase line model               85.31                           125864   \nSelf-supervised model         43.67                           205464   \nDRCN model                    58.65                           128724   \nEnsemble model                76.82                            46301   \n\n                       Model size (MB)  Used number of labeled data  \\\nBase line model                   7.51                        50000   \nSelf-supervised model             2.10                         5000   \nDRCN model                       10.07                         5000   \nEnsemble model                   19.71                         5000   \n\n                       Used number of unlabeled data  \nBase line model                                    0  \nSelf-supervised model                          50000  \nDRCN model                                      5000  \nEnsemble model                                     0  ",
      "text/html": "<div>\n<style scoped>\n    .dataframe tbody tr th:only-of-type {\n        vertical-align: middle;\n    }\n\n    .dataframe tbody tr th {\n        vertical-align: top;\n    }\n\n    .dataframe thead th {\n        text-align: right;\n    }\n</style>\n<table border=\"1\" class=\"dataframe\">\n  <thead>\n    <tr style=\"text-align: right;\">\n      <th></th>\n      <th>Accuracy (%)</th>\n      <th>Inference speed (images/second)</th>\n      <th>Model size (MB)</th>\n      <th>Used number of labeled data</th>\n      <th>Used number of unlabeled data</th>\n    </tr>\n  </thead>\n  <tbody>\n    <tr>\n      <th>Base line model</th>\n      <td>85.31</td>\n      <td>125864</td>\n      <td>7.51</td>\n      <td>50000</td>\n      <td>0</td>\n    </tr>\n    <tr>\n      <th>Self-supervised model</th>\n      <td>43.67</td>\n      <td>205464</td>\n      <td>2.10</td>\n      <td>5000</td>\n      <td>50000</td>\n    </tr>\n    <tr>\n      <th>DRCN model</th>\n      <td>58.65</td>\n      <td>128724</td>\n      <td>10.07</td>\n      <td>5000</td>\n      <td>5000</td>\n    </tr>\n    <tr>\n      <th>Ensemble model</th>\n      <td>76.82</td>\n      <td>46301</td>\n      <td>19.71</td>\n      <td>5000</td>\n      <td>0</td>\n    </tr>\n  </tbody>\n</table>\n</div>"
     },
     "execution_count": 132,
     "metadata": {},
     "output_type": "execute_result"
    }
   ],
   "source": [
    "baseline_model_metrics = calculate_metrics(baselinde_model, device, test_loader)\n",
    "baseline_model_metrics.append(50000)\n",
    "baseline_model_metrics.append(0)\n",
    "self_supevised_model_metrcis = calculate_metrics(self_supervised_model, device, test_loader)\n",
    "self_supevised_model_metrcis.append(5000)\n",
    "self_supevised_model_metrcis.append(50000)\n",
    "drcn_metrcis = calculate_metrics(drcn_model, device, test_loader, drcn=True)\n",
    "drcn_metrcis.append(5000)\n",
    "drcn_metrcis.append(5000)\n",
    "ensemble_metrcis = calculate_metrics(ensemble, device, test_loader)\n",
    "ensemble_metrcis.append(5000)\n",
    "ensemble_metrcis.append(0)\n",
    "\n",
    "data=[baseline_model_metrics, self_supevised_model_metrcis, drcn_metrcis, ensemble_metrcis]\n",
    "columns = ['Accuracy (%)', 'Inference speed (images/second)', 'Model size (MB)', 'Used number of labeled data', 'Used number of unlabeled data']\n",
    "df = pd.DataFrame(data, columns=columns)\n",
    "\n",
    "new_indexes = ['Base line model', 'Self-supervised model', 'DRCN model', 'Ensemble model']\n",
    "df.index = new_indexes\n",
    "df"
   ],
   "metadata": {
    "collapsed": false,
    "ExecuteTime": {
     "end_time": "2024-04-24T14:02:36.452967100Z",
     "start_time": "2024-04-24T14:02:05.392258500Z"
    }
   },
   "execution_count": 132
  },
  {
   "cell_type": "markdown",
   "source": [
    "| Model                 | Accuracy (%) | Inference speed (images/second) | Model size (MB) | Used number of labeled data | Used number of unlabeled data |\n",
    "|-----------------------|--------------|----------------------------------|------------------|-----------------------------|-------------------------------|\n",
    "| Base line model       | 85.31        | 125,864                          | 7.51             | 50,000                      | 0                             |\n",
    "| Self-supervised model | 43.67        | 205,464                          | 2.10             | 5,000                       | 50,000                        |\n",
    "| DRCN model            | 58.65        | 128,724                          | 10.07            | 5,000                       | 5,000                         |\n",
    "| Ensemble model        | 76.82        | 46,301                           | 19.71            | 5,000                       | 0                             |\n"
   ],
   "metadata": {
    "collapsed": false
   }
  },
  {
   "cell_type": "markdown",
   "source": [
    "### Efficiency Analysis:\n",
    "\n",
    "- **Accuracy**: The baseline model outperforms the other individual models in terms of accuracy, achieving an accuracy of 85.31%. The ensemble model, which combines the predictions of multiple models, achieves the second-highest accuracy of 76.82%. The self-supervised and DRCN models have lower accuracies of 43.67% and 58.65%, respectively.\n",
    "- **Inference Speed**: The self-supervised model demonstrates the highest inference speed, processing approximately 205,464 images per second. This is due to its smaller model size and simpler architecture. The ensemble model has the slowest inference speed, because it combines the predictions of multiple models, resulting in more complex computations.\n",
    "- **Model Size**: The self-supervised model has the smallest model size of 2.10 MB, followed by the baseline model at 7.51 MB. The DRCN model has a larger size of 10.07 MB, due to its more complex architecture. The ensemble model, which combines multiple models, has the largest size of 19.71 MB.\n",
    "- **Labeled and Unlabeled Data**: The baseline model and ensemble model use only labeled data for training, while the self-supervised and DRCN models incorporate unlabeled data as well. This contributes to the performance differences, with models trained on more data generally performing better. However, the self-supervised model, despite using more unlabeled data, has the lowest accuracy, indicating that the quality of labeled data and model architecture also play significant roles.\n",
    "\n",
    "In summary, while techniques like self-supervised learning and ensemble methods offer benefits such as reduced model size and improved accuracy, their effectiveness depends on various factors such as the quality and quantity of labeled and unlabeled data, model architecture, and computational efficiency."
   ],
   "metadata": {
    "collapsed": false
   }
  },
  {
   "cell_type": "code",
   "outputs": [],
   "source": [],
   "metadata": {
    "collapsed": false
   }
  }
 ],
 "metadata": {
  "accelerator": "GPU",
  "colab": {
   "gpuType": "T4",
   "provenance": []
  },
  "kernelspec": {
   "name": "test_env_gpu",
   "language": "python",
   "display_name": "Python (GPU)"
  },
  "language_info": {
   "codemirror_mode": {
    "name": "ipython",
    "version": 3
   },
   "file_extension": ".py",
   "mimetype": "text/x-python",
   "name": "python",
   "nbconvert_exporter": "python",
   "pygments_lexer": "ipython3",
   "version": "3.12.2"
  }
 },
 "nbformat": 4,
 "nbformat_minor": 4
}
